{
 "cells": [
  {
   "cell_type": "code",
   "execution_count": null,
   "metadata": {},
   "outputs": [],
   "source": [
    "browser = webdriver.Chrome()\n",
    "browser.get('https://www.indeed.fr/')\n",
    "browser.maximize_window()"
   ]
  },
  {
   "cell_type": "code",
   "execution_count": null,
   "metadata": {},
   "outputs": [],
   "source": [
    "city_to_scrap = ['Paris', 'Lyon', 'Toulouse', 'Nantes', 'Bordeaux']\n",
    "work_to_scrap = ['développeur', 'data scientist', 'data analyst', 'business intelligence']"
   ]
  },
  {
   "cell_type": "code",
   "execution_count": null,
   "metadata": {},
   "outputs": [],
   "source": [
    "df = pd.DataFrame(columns=[\"Titre\",\"Entreprise\",\"Ville\",\"Salaire\",\"Type de contrat\", \"Descriptif du poste\", \"Date de publication\"])"
   ]
  },
  {
   "cell_type": "code",
   "execution_count": null,
   "metadata": {},
   "outputs": [],
   "source": [
    "#pour chaque élément dans la liste city \n",
    "#Pour chaque élément dans la liste work\n",
    "#entrer city_to_scrap[élec] dans ville où\n",
    "#enter work_to_scrap[élew] dans quoi"
   ]
  },
  {
   "cell_type": "code",
   "execution_count": null,
   "metadata": {},
   "outputs": [],
   "source": [
    "while True:\n",
    "    for chaque in soup.find_all(class_= \"jobsearch-SerpJobCard unifiedRow row result clickcard\" ):\n",
    "            #Scraping le titre sinon rien \n",
    "            try:\n",
    "                #Cliquer sur l'annonce\n",
    "                browser.find_element_by_class_name('jobtitle').click()\n",
    "                title = browser.find_element_by_class_name('jobtitle')\n",
    "            except:\n",
    "                title = None\n",
    "            #Scraping le nom de la boite sinon rien \n",
    "            try:\n",
    "                boite = browser.find_element_by_class_name('company')\n",
    "            except:\n",
    "                boite = None\n",
    "            #Scraping le Ville sinon rien \n",
    "            try:\n",
    "                city = browser.find_element_by_class_name('location')\n",
    "            except:\n",
    "                city = None\n",
    "            #Scraping le salaire sinon rien \n",
    "            try:\n",
    "                salary = browser.find_element_by_class_name('salaryText')\n",
    "            except:\n",
    "                salary = None\n",
    "            #Scraping le type de contrat sinon chercher une autre position \n",
    "            try:\n",
    "                contrat = browser.find_element_by_xpath('/html/body/table[2]/tbody/tr/td/table/tbody/tr/td[3]/div/div[1]/div[1]/div/div[3]/span[2]')\n",
    "            except:\n",
    "                contrat = browser.find_element_by_xpath('/html/body/table[2]/tbody/tr/td/table/tbody/tr/td[3]/div/div[1]/div[1]/div/div[3]/span')\n",
    "            #Scraping le description sinon rien \n",
    "            try:\n",
    "                describe = browser.find_element_by_class_name('summary')\n",
    "            except:\n",
    "                descibe = None\n",
    "            #Scraping le date de publication sinon rien \n",
    "            try:\n",
    "                publish_date = browser.find_element_by_class_name('date')\n",
    "            except:\n",
    "                publish_date = None\n",
    "            df = df.append({\"Titre\" : title,\"Entreprise\" : boite,\"Ville\" : city,\"Salaire\": salary, \"Type de contrat\" : contrat, \"Descriptif du poste\" : describe, \"Date de publication\" : publish_date}, ignore_index=True)"
   ]
  },
  {
   "cell_type": "code",
   "execution_count": null,
   "metadata": {},
   "outputs": [],
   "source": [
    "#Page Suivante\n",
    "try:\n",
    "    #Passer à la page suivante.\n",
    "    next_button = browser.find_element_by_class_name(\"np\")\n",
    "    next_button.click()\n",
    "    time.sleep(5)\n",
    "except: #block à exécuter si on se trouve sur la dernière page des résultats\n",
    "    browser.quit() #Attention ça ferme la fênetre\n",
    "    break"
   ]
  }
 ],
 "metadata": {
  "kernelspec": {
   "display_name": "Python 3",
   "language": "python",
   "name": "python3"
  },
  "language_info": {
   "codemirror_mode": {
    "name": "ipython",
    "version": 3
   },
   "file_extension": ".py",
   "mimetype": "text/x-python",
   "name": "python",
   "nbconvert_exporter": "python",
   "pygments_lexer": "ipython3",
   "version": "3.7.3"
  }
 },
 "nbformat": 4,
 "nbformat_minor": 2
}
