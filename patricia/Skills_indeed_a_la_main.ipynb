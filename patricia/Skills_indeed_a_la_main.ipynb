{
 "cells": [
  {
   "cell_type": "code",
   "execution_count": 31,
   "metadata": {},
   "outputs": [],
   "source": [
    "skills = ['keyword', 'python', 'r', 'sql', 'spark', 'hadoop', 'java', 'sas', 'tableau', \n",
    "          'hive', 'scala', 'c++', 'aws', 'tensorflow', 'matlab', 'c', 'excel', 'linux', \n",
    "          'nosql', 'azure', 'scikit-learn', 'spss', 'pandas', 'numpy', 'pig', 'd3', 'keras',\n",
    "          'javascript', 'c#', 'perl', 'hbase', 'docker', 'git', 'mysql', 'mongodb', 'cassandra',\n",
    "          'pytorch', 'caffe', 'machine learning', 'deep learning', 'nlp', 'intelligence artificielle',\n",
    "          'computer science', 'statistics', 'statistiques', 'informatique', 'analysis', 'text mining',\n",
    "          'anglais', 'english', 'architecture', 'réseau', 'devops', 'big data', 'consulting',\n",
    "          'transformation digitale', 'cyber sécurité', 'power bi', 'cisco nexus', 'cisco', 'hp',\n",
    "          'huawei', 'could', 'azure', 'random forest', 'svm', 'pls', 'shiny', 'data', 'technologies',\n",
    "          '.net', 'object-oriented', 'algorithms']\n"
   ]
  },
  {
   "cell_type": "code",
   "execution_count": 25,
   "metadata": {},
   "outputs": [
    {
     "data": {
      "text/plain": [
       "['.net',\n",
       " 'algorithms',\n",
       " 'analysis',\n",
       " 'anglais',\n",
       " 'architecture',\n",
       " 'aws',\n",
       " 'azure',\n",
       " 'azure',\n",
       " 'big data',\n",
       " 'c',\n",
       " 'c#',\n",
       " 'c++',\n",
       " 'caffe',\n",
       " 'cassandra',\n",
       " 'cisco',\n",
       " 'cisco nexus',\n",
       " 'computer science',\n",
       " 'consulting',\n",
       " 'could',\n",
       " 'cyber sécurité',\n",
       " 'd3',\n",
       " 'data',\n",
       " 'deep learning',\n",
       " 'devops',\n",
       " 'docker',\n",
       " 'english',\n",
       " 'excel',\n",
       " 'git',\n",
       " 'hadoop',\n",
       " 'hbase',\n",
       " 'hive',\n",
       " 'hp',\n",
       " 'huawei',\n",
       " 'informatique',\n",
       " 'intelligence artificielle',\n",
       " 'java',\n",
       " 'javascript',\n",
       " 'keras',\n",
       " 'keyword',\n",
       " 'linux',\n",
       " 'machine learning',\n",
       " 'matlab',\n",
       " 'mongodb',\n",
       " 'mysql',\n",
       " 'nlp',\n",
       " 'nosql',\n",
       " 'numpy',\n",
       " 'object-oriented',\n",
       " 'pandas',\n",
       " 'perl',\n",
       " 'pig',\n",
       " 'pls',\n",
       " 'power bi',\n",
       " 'python',\n",
       " 'pytorch',\n",
       " 'r',\n",
       " 'random forest',\n",
       " 'réseau',\n",
       " 'sas',\n",
       " 'scala',\n",
       " 'scikit-learn',\n",
       " 'shiny',\n",
       " 'spark',\n",
       " 'spss',\n",
       " 'sql',\n",
       " 'statistics',\n",
       " 'statistiques',\n",
       " 'svm',\n",
       " 'tableau',\n",
       " 'technologies',\n",
       " 'tensorflow',\n",
       " 'text mining',\n",
       " 'transformation digitale']"
      ]
     },
     "execution_count": 25,
     "metadata": {},
     "output_type": "execute_result"
    }
   ],
   "source": [
    "sorted(skills)"
   ]
  },
  {
   "cell_type": "code",
   "execution_count": 30,
   "metadata": {},
   "outputs": [
    {
     "data": {
      "text/plain": [
       "73"
      ]
     },
     "execution_count": 30,
     "metadata": {},
     "output_type": "execute_result"
    }
   ],
   "source": [
    "len(skills)"
   ]
  },
  {
   "cell_type": "code",
   "execution_count": null,
   "metadata": {},
   "outputs": [],
   "source": []
  }
 ],
 "metadata": {
  "kernelspec": {
   "display_name": "Python 3",
   "language": "python",
   "name": "python3"
  },
  "language_info": {
   "codemirror_mode": {
    "name": "ipython",
    "version": 3
   },
   "file_extension": ".py",
   "mimetype": "text/x-python",
   "name": "python",
   "nbconvert_exporter": "python",
   "pygments_lexer": "ipython3",
   "version": "3.7.3"
  }
 },
 "nbformat": 4,
 "nbformat_minor": 2
}
