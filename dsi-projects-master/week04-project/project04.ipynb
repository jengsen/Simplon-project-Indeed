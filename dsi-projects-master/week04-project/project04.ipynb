{
 "cells": [
  {
   "cell_type": "markdown",
   "metadata": {
    "focus": false,
    "id": "69b9a648-bcc7-490d-9f9b-ea244d156bd6"
   },
   "source": [
    "# Web Scraping for Indeed.com & Predicting Salaries"
   ]
  },
  {
   "cell_type": "markdown",
   "metadata": {
    "focus": false,
    "id": "34681254-c802-462f-829d-8894d0772d08"
   },
   "source": [
    "**(Note: initial notebook created by General Assembly, answers and code by acardocacho)**\n",
    "\n",
    "In this project, we will practice two major skills: collecting data by scraping a website and then building a binary predictor with Logistic Regression.\n",
    "\n",
    "We are going to collect salary information on data science jobs in a variety of markets. Then using the location, title and summary of the job we will attempt to predict the salary of the job. For job posting sites, this would be extraordinarily useful. While most listings DO NOT come with salary information (as you will see in this exercise), being able to extrapolate or predict the expected salaries from other listings can help guide negotiations.\n",
    "\n",
    "Normally, we could use regression for this task; however, we will convert this problem into classification and use Logistic Regression.\n",
    "\n",
    "- Question: Why would we want this to be a classification problem?\n",
    "- Answer: While more precision may be better, there is a fair amount of natural variance in job salaries - predicting a range be may be useful.\n",
    "\n",
    "The first part of the assignment will be focused on scraping `Indeed.com`. \n",
    "\n",
    "In the second, we'll focus on using listings with salary information to build a model and predict additional salaries."
   ]
  },
  {
   "cell_type": "markdown",
   "metadata": {
    "focus": false,
    "id": "a948d79c-5527-4c0d-ab23-f5d43ce72056"
   },
   "source": [
    "### Scraping job listings from Indeed.com"
   ]
  },
  {
   "cell_type": "markdown",
   "metadata": {
    "focus": true,
    "id": "7203e0c9-e437-4802-a6ad-7dc464f94436"
   },
   "source": [
    "We will be scraping job listings from Indeed.com using BeautifulSoup. Luckily, Indeed.com is a simple text page where we can easily find relevant entries.\n",
    "\n",
    "First, look at the source of an Indeed.com page: (http://www.indeed.com/jobs?q=data+scientist+%2420%2C000&l=New+York&start=10\")\n",
    "\n",
    "Notice each job listing is underneath a `div` tag with a class name of `result`. We can use BeautifulSoup to extract those. "
   ]
  },
  {
   "cell_type": "markdown",
   "metadata": {
    "focus": false,
    "id": "9732c901-ae26-4160-8376-42e22dd327df"
   },
   "source": [
    "#### Setup a request (using `requests`) to the URL below. Use BeautifulSoup to parse the page and extract all results (HINT: Look for `div` tags with class name `result`.)\n",
    "\n",
    "The URL here has many query parameters:\n",
    "\n",
    "- `q` for the job search\n",
    "- This is followed by \"+20,000\" to return results with salaries (or expected salaries >$20,000)\n",
    "- `l` for a location \n",
    "- `start` for what result number to start on"
   ]
  },
  {
   "cell_type": "markdown",
   "metadata": {},
   "source": [
    "# Problem statement\n",
    "\n",
    "Are high salaries for data scientist roles related to the cities where they are available?\n",
    "\n",
    "Are high salaries for data scientist roles related to some specific words in the job title?\n",
    "\n",
    "The aim of this project is to answer these questions using data scraped from indeed.com."
   ]
  },
  {
   "cell_type": "code",
   "execution_count": 1,
   "metadata": {
    "collapsed": false,
    "focus": false,
    "id": "e915023e-6b0d-4982-af2a-b1e0355f4927"
   },
   "outputs": [],
   "source": [
    "# URL to scrape\n",
    "URL = \"http://www.indeed.com/jobs?q=data+scientist+%2420%2C000&l=New+York&start=10\"\n",
    "\n",
    "# URL with some salaries\n",
    "#URL = \"http://www.indeed.com/jobs?q=data+scientist+%2420%2C000&l=New+York&start=270\""
   ]
  },
  {
   "cell_type": "code",
   "execution_count": 2,
   "metadata": {
    "collapsed": false,
    "focus": false,
    "id": "2efefc73-064a-482d-b3b5-ddf5508cb4ec"
   },
   "outputs": [],
   "source": [
    "from __future__ import division, print_function, unicode_literals\n",
    "import urllib2\n",
    "import requests\n",
    "import bs4\n",
    "from bs4 import BeautifulSoup\n",
    "\n",
    "import numpy as np\n",
    "import pandas as pd\n",
    "import matplotlib.pyplot as plt\n",
    "%matplotlib inline\n",
    "import seaborn as sns"
   ]
  },
  {
   "cell_type": "code",
   "execution_count": 3,
   "metadata": {
    "collapsed": false,
    "focus": false,
    "id": "2c6752c4-7704-4c94-8bc0-6f13d2d0d570"
   },
   "outputs": [
    {
     "name": "stderr",
     "output_type": "stream",
     "text": [
      "//anaconda/lib/python2.7/site-packages/bs4/__init__.py:181: UserWarning: No parser was explicitly specified, so I'm using the best available HTML parser for this system (\"lxml\"). This usually isn't a problem, but if you run this code on another system, or in a different virtual environment, it may use a different parser and behave differently.\n",
      "\n",
      "The code that caused this warning is on line 174 of the file //anaconda/lib/python2.7/runpy.py. To get rid of this warning, change code that looks like this:\n",
      "\n",
      " BeautifulSoup([your markup])\n",
      "\n",
      "to this:\n",
      "\n",
      " BeautifulSoup([your markup], \"lxml\")\n",
      "\n",
      "  markup_type=markup_type))\n"
     ]
    }
   ],
   "source": [
    "## Get a soup from the webpage\n",
    "response = requests.get(URL)\n",
    "page = response.text\n",
    "soup = BeautifulSoup(page)\n",
    "\n",
    "# The folowing line has a very long output.\n",
    "# Uncomment if you need it, but the notebook on GitHub will\n",
    "# be hard to follow.\n",
    "#print(soup.prettify())"
   ]
  },
  {
   "cell_type": "markdown",
   "metadata": {
    "focus": false,
    "id": "bb0b866a-26a7-45e9-8084-5a0f90eb4b3e"
   },
   "source": [
    "Let's look at one result more closely. A single `result` looks like\n",
    "\n",
    "```\n",
    "<div class=\" row result\" data-jk=\"2480d203f7e97210\" data-tn-component=\"organicJob\" id=\"p_2480d203f7e97210\" itemscope=\"\" itemtype=\"http://schema.org/JobPosting\">\n",
    "<h2 class=\"jobtitle\" id=\"jl_2480d203f7e97210\">\n",
    "<a class=\"turnstileLink\" data-tn-element=\"jobTitle\" onmousedown=\"return rclk(this,jobmap[0],1);\" rel=\"nofollow\" target=\"_blank\" title=\"AVP/Quantitative Analyst\">AVP/Quantitative Analyst</a>\n",
    "</h2>\n",
    "<span class=\"company\" itemprop=\"hiringOrganization\" itemtype=\"http://schema.org/Organization\">\n",
    "<span itemprop=\"name\">\n",
    "<a href=\"/cmp/Alliancebernstein?from=SERP&amp;campaignid=serp-linkcompanyname&amp;fromjk=2480d203f7e97210&amp;jcid=b374f2a780e04789\" target=\"_blank\">\n",
    "    AllianceBernstein</a></span>\n",
    "</span>\n",
    "<tr>\n",
    "<td class=\"snip\">\n",
    "<nobr>$117,500 - $127,500 a year</nobr>\n",
    "<div>\n",
    "<span class=\"summary\" itemprop=\"description\">\n",
    "C onduct quantitative and statistical research as well as portfolio management for various investment portfolios. Collaborate with Quantitative Analysts and</span>\n",
    "</div>\n",
    "</div>\n",
    "</td>\n",
    "</tr>\n",
    "</table>\n",
    "</div>\n",
    "```\n",
    "\n",
    "While this has some more verbose elements removed, we can see that there is some structure to the above:\n",
    "- The salary is available in a `nobr` element inside of a `td` element with `class=\"snip\"`.\n",
    "- The title of a job is in a link with class set to `jobtitle` and a `data-tn-element=\"jobTitle\"`.  \n",
    "- The location is set in a `span` with `class='location'`. \n",
    "- The company is set in a `span` with `class='company'`. "
   ]
  },
  {
   "cell_type": "markdown",
   "metadata": {
    "focus": false,
    "id": "f1eddb90-4ba8-483c-a229-77e93aa53119"
   },
   "source": [
    "### Write 4 functions to extract each item: location, company, job, and salary.\n",
    "\n",
    "example: \n",
    "```python\n",
    "def extract_location_from_result(result):\n",
    "    return result.find ...\n",
    "```\n",
    "\n",
    "\n",
    "- **Make sure these functions are robust and can handle cases where the data/field may not be available.**\n",
    "    - Remember to check if a field is empty or `None` before attempting to call methods on it\n",
    "    - Remember to use `try/except` if you anticipate errors\n",
    "- **Test** the functions on the results above and simple examples"
   ]
  },
  {
   "cell_type": "code",
   "execution_count": 21,
   "metadata": {
    "collapsed": false,
    "focus": false,
    "id": "a1af53c9-9090-494f-b82e-cadb60a54909"
   },
   "outputs": [
    {
     "name": "stdout",
     "output_type": "stream",
     "text": [
      "[[u'New York, NY 10032 (Washington Heights area)', 'Data Scientist / Spark ML Developer', u'Morgan Stanley', u''], [u'New York, NY', 'Data Analytics Research Scientist', u'POLICE DEPARTMENT', u'$70,286 - $88,213 a year'], [u'New York, NY', 'Health Scientist', u'Centers for Disease Control and Prevention', u'$88,305 - $146,570 a year'], [u'New York, NY', u'Applied Scientist \\u2013 Emerging AWS Machine Learning', u'Amazon Corporate LLC', u''], [u'New York, NY 10011 (Chelsea area)', 'Clean Energy Grid Integration Science Fellow', u'Natural Resources Defense Council', u''], [u'New York, NY', 'Data Analyst, Bureau of Mental Health/Research and Evaluation', u'DEPT OF HEALTH/MENTAL HYGIENE', u'$70,286 - $88,213 a year'], [u'New York, NY', 'Analytics', u'Foursquare', u''], [u'New York, NY', 'Research Analyst - All 2017', u'Third Bridge', u''], [u'New York, NY', 'Research Scientist', u'Yahoo! Inc.', u'']]\n"
     ]
    },
    {
     "data": {
      "text/html": [
       "<div>\n",
       "<table border=\"1\" class=\"dataframe\">\n",
       "  <thead>\n",
       "    <tr style=\"text-align: right;\">\n",
       "      <th></th>\n",
       "      <th>location</th>\n",
       "      <th>job</th>\n",
       "      <th>comp</th>\n",
       "      <th>salary</th>\n",
       "    </tr>\n",
       "  </thead>\n",
       "  <tbody>\n",
       "    <tr>\n",
       "      <th>0</th>\n",
       "      <td>New York, NY 10032 (Washington Heights area)</td>\n",
       "      <td>Data Scientist / Spark ML Developer</td>\n",
       "      <td>Morgan Stanley</td>\n",
       "      <td></td>\n",
       "    </tr>\n",
       "    <tr>\n",
       "      <th>1</th>\n",
       "      <td>New York, NY</td>\n",
       "      <td>Data Analytics Research Scientist</td>\n",
       "      <td>POLICE DEPARTMENT</td>\n",
       "      <td>$70,286 - $88,213 a year</td>\n",
       "    </tr>\n",
       "    <tr>\n",
       "      <th>2</th>\n",
       "      <td>New York, NY</td>\n",
       "      <td>Health Scientist</td>\n",
       "      <td>Centers for Disease Control and Prevention</td>\n",
       "      <td>$88,305 - $146,570 a year</td>\n",
       "    </tr>\n",
       "    <tr>\n",
       "      <th>3</th>\n",
       "      <td>New York, NY</td>\n",
       "      <td>Applied Scientist – Emerging AWS Machine Learning</td>\n",
       "      <td>Amazon Corporate LLC</td>\n",
       "      <td></td>\n",
       "    </tr>\n",
       "    <tr>\n",
       "      <th>4</th>\n",
       "      <td>New York, NY 10011 (Chelsea area)</td>\n",
       "      <td>Clean Energy Grid Integration Science Fellow</td>\n",
       "      <td>Natural Resources Defense Council</td>\n",
       "      <td></td>\n",
       "    </tr>\n",
       "    <tr>\n",
       "      <th>5</th>\n",
       "      <td>New York, NY</td>\n",
       "      <td>Data Analyst, Bureau of Mental Health/Research...</td>\n",
       "      <td>DEPT OF HEALTH/MENTAL HYGIENE</td>\n",
       "      <td>$70,286 - $88,213 a year</td>\n",
       "    </tr>\n",
       "    <tr>\n",
       "      <th>6</th>\n",
       "      <td>New York, NY</td>\n",
       "      <td>Analytics</td>\n",
       "      <td>Foursquare</td>\n",
       "      <td></td>\n",
       "    </tr>\n",
       "    <tr>\n",
       "      <th>7</th>\n",
       "      <td>New York, NY</td>\n",
       "      <td>Research Analyst - All 2017</td>\n",
       "      <td>Third Bridge</td>\n",
       "      <td></td>\n",
       "    </tr>\n",
       "    <tr>\n",
       "      <th>8</th>\n",
       "      <td>New York, NY</td>\n",
       "      <td>Research Scientist</td>\n",
       "      <td>Yahoo! Inc.</td>\n",
       "      <td></td>\n",
       "    </tr>\n",
       "  </tbody>\n",
       "</table>\n",
       "</div>"
      ],
      "text/plain": [
       "                                       location  \\\n",
       "0  New York, NY 10032 (Washington Heights area)   \n",
       "1                                  New York, NY   \n",
       "2                                  New York, NY   \n",
       "3                                  New York, NY   \n",
       "4             New York, NY 10011 (Chelsea area)   \n",
       "5                                  New York, NY   \n",
       "6                                  New York, NY   \n",
       "7                                  New York, NY   \n",
       "8                                  New York, NY   \n",
       "\n",
       "                                                 job  \\\n",
       "0                Data Scientist / Spark ML Developer   \n",
       "1                  Data Analytics Research Scientist   \n",
       "2                                   Health Scientist   \n",
       "3  Applied Scientist – Emerging AWS Machine Learning   \n",
       "4       Clean Energy Grid Integration Science Fellow   \n",
       "5  Data Analyst, Bureau of Mental Health/Research...   \n",
       "6                                          Analytics   \n",
       "7                        Research Analyst - All 2017   \n",
       "8                                 Research Scientist   \n",
       "\n",
       "                                         comp                     salary  \n",
       "0                              Morgan Stanley                             \n",
       "1                           POLICE DEPARTMENT   $70,286 - $88,213 a year  \n",
       "2  Centers for Disease Control and Prevention  $88,305 - $146,570 a year  \n",
       "3                        Amazon Corporate LLC                             \n",
       "4           Natural Resources Defense Council                             \n",
       "5               DEPT OF HEALTH/MENTAL HYGIENE   $70,286 - $88,213 a year  \n",
       "6                                  Foursquare                             \n",
       "7                                Third Bridge                             \n",
       "8                                 Yahoo! Inc.                             "
      ]
     },
     "execution_count": 21,
     "metadata": {},
     "output_type": "execute_result"
    }
   ],
   "source": [
    "# The location is set in a span with class='location'.\n",
    "def extract_location_from_result(result):\n",
    "    loc = result.find(\"span\", class_=\"location\").text\n",
    "    #print(\"extract_location_from_result:\", loc)\n",
    "    return loc\n",
    "\n",
    "# The salary is available in a nobr element inside of a td element with class='snip'.\n",
    "def extract_salary_from_result(result):\n",
    "#    sal = result.find(\"nobr\", class_=\"snip\")\n",
    "    try:\n",
    "        sal = result.nobr.text\n",
    "    except:\n",
    "        sal = \"\"\n",
    "    #print(\"extract_salary_from_result:\", sal)\n",
    "    return sal\n",
    "\n",
    "# The title of a job is in a link with class set to jobtitle and a data-tn-element='jobTitle'.\n",
    "def extract_job_title_from_result(result):\n",
    "    job = result.h2.a.get(\"title\")\n",
    "    #print(\"extract_job_title_from_result:\", job)\n",
    "    return job\n",
    "\n",
    "# The company is set in a span with class='company'.\n",
    "def extract_company_from_result(result):\n",
    "    comp = result.find(\"span\", class_=\"company\").contents[1].text.strip()\n",
    "    #print(\"extract_company_from_result:\", comp)\n",
    "    return comp\n",
    "\n",
    "def process_results(results, location=\"\"):\n",
    "    processed = []\n",
    "    for res in results[:]:\n",
    "        if location == \"\":\n",
    "            loc = extract_location_from_result(res)\n",
    "        else:\n",
    "            loc = location\n",
    "        job = extract_job_title_from_result(res)\n",
    "        comp = extract_company_from_result(res)\n",
    "        sal = extract_salary_from_result(res)\n",
    "        processed.append([loc, job, comp, sal])\n",
    "    return processed\n",
    "    \n",
    "def get_results_from_soup(soup):\n",
    "    return soup.findAll(\"div\", class_=\" row result\")\n",
    "\n",
    "print(process_results(get_results_from_soup(soup)))\n",
    "\n",
    "df = pd.DataFrame(process_results(get_results_from_soup(soup)),\n",
    "                  columns=[\"location\", \"job\", \"comp\", \"salary\"])\n",
    "df"
   ]
  },
  {
   "cell_type": "markdown",
   "metadata": {
    "focus": false,
    "id": "34070e89-9521-4b45-90c8-57a6599aac68"
   },
   "source": [
    "Now, to scale up our scraping, we need to accumulate more results. We can do this by examining the URL above.\n",
    "\n",
    "- \"http://www.indeed.com/jobs?q=data+scientist+%2420%2C000&l=New+York&start=10\"\n",
    "\n",
    "There are two query parameters here we can alter to collect more results, the `l=New+York` and the `start=10`. The first controls the location of the results (so we can try a different city). The second controls where in the results to start and gives 10 results (thus, we can keep incrementing by 10 to go further in the list)."
   ]
  },
  {
   "cell_type": "markdown",
   "metadata": {
    "focus": false,
    "id": "e8beed7c-3e42-40c0-810f-5f67f8f885a0"
   },
   "source": [
    "#### Complete the following code to collect results from multiple cities and starting points. \n",
    "- Enter your city below to add it to the search\n",
    "- Remember to convert your salary to U.S. Dollars to match the other cities if the currency is different"
   ]
  },
  {
   "cell_type": "code",
   "execution_count": 22,
   "metadata": {
    "collapsed": false,
    "focus": false,
    "id": "04b0f9af-540e-402f-8292-81748707c676"
   },
   "outputs": [
    {
     "name": "stdout",
     "output_type": "stream",
     "text": [
      "Houston\n",
      "Phoenix\n",
      "Chicago\n",
      "San+Francisco\n",
      "New+York\n",
      "Dallas\n",
      "Philadelphia\n",
      "Denver\n",
      "Los+Angeles\n",
      "Pittsburgh\n",
      "Charlotte\n",
      "Miami\n",
      "Atlanta\n",
      "Seattle\n",
      "Austin\n",
      "Portland\n"
     ]
    },
    {
     "data": {
      "text/html": [
       "<div>\n",
       "<table border=\"1\" class=\"dataframe\">\n",
       "  <thead>\n",
       "    <tr style=\"text-align: right;\">\n",
       "      <th></th>\n",
       "      <th>location</th>\n",
       "      <th>job</th>\n",
       "      <th>comp</th>\n",
       "      <th>salary</th>\n",
       "    </tr>\n",
       "  </thead>\n",
       "  <tbody>\n",
       "    <tr>\n",
       "      <th>0</th>\n",
       "      <td>Houston</td>\n",
       "      <td>Statistician</td>\n",
       "      <td>UT Health Science Center at Houston</td>\n",
       "      <td></td>\n",
       "    </tr>\n",
       "    <tr>\n",
       "      <th>1</th>\n",
       "      <td>Houston</td>\n",
       "      <td>Quantitative Research Scientist - Options Stra...</td>\n",
       "      <td>Quantlab Financial</td>\n",
       "      <td></td>\n",
       "    </tr>\n",
       "    <tr>\n",
       "      <th>2</th>\n",
       "      <td>Houston</td>\n",
       "      <td>Scientist I</td>\n",
       "      <td>Pros.</td>\n",
       "      <td></td>\n",
       "    </tr>\n",
       "    <tr>\n",
       "      <th>3</th>\n",
       "      <td>Houston</td>\n",
       "      <td>Sr. Analyst – Data Analysis and Business Repor...</td>\n",
       "      <td>Cardtronics</td>\n",
       "      <td></td>\n",
       "    </tr>\n",
       "    <tr>\n",
       "      <th>4</th>\n",
       "      <td>Houston</td>\n",
       "      <td>Scientist</td>\n",
       "      <td>Houston Methodist</td>\n",
       "      <td></td>\n",
       "    </tr>\n",
       "  </tbody>\n",
       "</table>\n",
       "</div>"
      ],
      "text/plain": [
       "  location                                                job  \\\n",
       "0  Houston                                       Statistician   \n",
       "1  Houston  Quantitative Research Scientist - Options Stra...   \n",
       "2  Houston                                        Scientist I   \n",
       "3  Houston  Sr. Analyst – Data Analysis and Business Repor...   \n",
       "4  Houston                                          Scientist   \n",
       "\n",
       "                                  comp salary  \n",
       "0  UT Health Science Center at Houston         \n",
       "1                   Quantlab Financial         \n",
       "2                                Pros.         \n",
       "3                          Cardtronics         \n",
       "4                    Houston Methodist         "
      ]
     },
     "execution_count": 22,
     "metadata": {},
     "output_type": "execute_result"
    }
   ],
   "source": [
    "# used only cities in the US to avoid currency conversion\n",
    "YOUR_CITY = 'Charlotte'\n",
    "url_template = \"http://www.indeed.com/jobs?q=data+scientist+%2420%2C000&l={}&start={}\"\n",
    "# Set this to a high-value (5000) to generate more results. \n",
    "max_results_per_city = 5 #000\n",
    "# Crawling more results, will also take much longer. \n",
    "# First test your code on a small number of results and then expand.\n",
    "\n",
    "results = []\n",
    "base_URL = \"http://www.indeed.com/jobs?q=data+scientist+%2420%2C000&l=\"\n",
    "\n",
    "for city in set(['New+York', 'Chicago', 'San+Francisco', 'Austin', 'Seattle',\n",
    "                 'Los+Angeles', 'Philadelphia', 'Atlanta', 'Dallas', 'Pittsburgh', \n",
    "                 'Portland', 'Phoenix', 'Denver', 'Houston', 'Miami', YOUR_CITY]):\n",
    "    print(city)\n",
    "    for start in range(1, max_results_per_city, 10):\n",
    "        URL = base_URL+city+\"&start=\"+str(start)\n",
    "        response = requests.get(URL)\n",
    "        page = response.text\n",
    "        soup = BeautifulSoup(page)\n",
    "        res = process_results(soup.findAll(\"div\", class_=\" row result\"), location=city)\n",
    "        results.extend(res)\n",
    "        \n",
    "\n",
    "df = pd.DataFrame(results, columns=[\"location\", \"job\", \"comp\", \"salary\"])\n",
    "\n",
    "df.head()"
   ]
  },
  {
   "cell_type": "code",
   "execution_count": 23,
   "metadata": {
    "collapsed": false
   },
   "outputs": [
    {
     "data": {
      "text/plain": [
       "(144, 4)"
      ]
     },
     "execution_count": 23,
     "metadata": {},
     "output_type": "execute_result"
    }
   ],
   "source": [
    "df.shape"
   ]
  },
  {
   "cell_type": "code",
   "execution_count": 24,
   "metadata": {
    "collapsed": true
   },
   "outputs": [],
   "source": [
    "# save data to file, so I don't have to scrape it everytime\n",
    "df.to_csv(\"salary_as_scraped.csv\", encoding=\"utf-8\")"
   ]
  },
  {
   "cell_type": "code",
   "execution_count": 88,
   "metadata": {
    "collapsed": false
   },
   "outputs": [
    {
     "name": "stdout",
     "output_type": "stream",
     "text": [
      "<class 'pandas.core.frame.DataFrame'>\n",
      "RangeIndex: 144 entries, 0 to 143\n",
      "Data columns (total 5 columns):\n",
      "Unnamed: 0    144 non-null int64\n",
      "location      144 non-null object\n",
      "job           144 non-null object\n",
      "comp          144 non-null object\n",
      "salary        33 non-null object\n",
      "dtypes: int64(1), object(4)\n",
      "memory usage: 5.7+ KB\n"
     ]
    }
   ],
   "source": [
    "#load data from file\n",
    "df = pd.read_csv('salary_as_scraped.csv')\n",
    "df.info()"
   ]
  },
  {
   "cell_type": "code",
   "execution_count": 79,
   "metadata": {
    "collapsed": false
   },
   "outputs": [],
   "source": [
    "# Read two dataframes into one dataframe save again in a clean file.\n",
    "# This is because I did the scraping in two different days.\n",
    "# Not needed anymore, kept for historical reasons.\n",
    "# \n",
    "#df1 = pd.read_csv('salary_data1.csv')\n",
    "#print(df1.shape)\n",
    "#df2 = pd.read_csv('salary_data2.csv')\n",
    "#print(df2.shape)\n",
    "#df = pd.concat([df1, df2])\n",
    "#print(df.shape)\n",
    "#df.to_csv(\"salary_data.csv\", encoding=\"utf-8\")"
   ]
  },
  {
   "cell_type": "markdown",
   "metadata": {
    "focus": false,
    "id": "20339c09-5032-4e27-91be-286e9b46cd13"
   },
   "source": [
    "#### Use the functions you wrote above to parse out the 4 fields - location, title, company and salary. Create a dataframe from the results with those 4 columns."
   ]
  },
  {
   "cell_type": "code",
   "execution_count": 80,
   "metadata": {
    "collapsed": false,
    "focus": false,
    "id": "6e259594-1c52-436b-ab9e-527e071941c1"
   },
   "outputs": [],
   "source": [
    "# Processed different cities above.\n",
    "# Saved file to prevent loss of data.\n",
    "# Read file again, all data in df dataframe."
   ]
  },
  {
   "cell_type": "markdown",
   "metadata": {
    "focus": false,
    "id": "ff98ce64-78a7-441f-a675-63464e32c834"
   },
   "source": [
    "Lastly, we need to clean up salary data. \n",
    "\n",
    "1. Only a small number of the scraped results have salary information - only these will be used for modeling.\n",
    "1. Some of the salaries are not yearly but hourly or weekly, these will not be useful to us for now.\n",
    "1. Some of the entries may be duplicated.\n",
    "1. The salaries are given as text and usually with ranges.\n",
    "\n",
    "#### Find the entries with annual salary entries, by filtering the entries without salaries or salaries that are not yearly (filter those that refer to hour or week). Also, remove duplicate entries"
   ]
  },
  {
   "cell_type": "code",
   "execution_count": 89,
   "metadata": {
    "collapsed": false
   },
   "outputs": [
    {
     "name": "stdout",
     "output_type": "stream",
     "text": [
      "<class 'pandas.core.frame.DataFrame'>\n",
      "Int64Index: 33 entries, 9 to 140\n",
      "Data columns (total 4 columns):\n",
      "location    33 non-null object\n",
      "job         33 non-null object\n",
      "comp        33 non-null object\n",
      "salary      33 non-null object\n",
      "dtypes: object(4)\n",
      "memory usage: 1.3+ KB\n"
     ]
    }
   ],
   "source": [
    "# Create smaller and cleaner df here: \n",
    "# remove extra index column, remove duplicates\n",
    "df.drop([\"Unnamed: 0\"], axis=1, inplace=True)\n",
    "df_no_dups = df.drop_duplicates(keep=\"first\")\n",
    "df_no_dups_no_na = df_no_dups.dropna()\n",
    "df_no_dups_no_na.info()"
   ]
  },
  {
   "cell_type": "markdown",
   "metadata": {
    "focus": false,
    "id": "7d4bc860-b214-4f75-9cd0-b234830b1ec2"
   },
   "source": [
    "#### Write a function that takes a salary string and converts it to a number, averaging a salary range if necessary"
   ]
  },
  {
   "cell_type": "code",
   "execution_count": 90,
   "metadata": {
    "collapsed": false,
    "focus": false,
    "id": "58533e57-f86b-494a-b841-e7b59c6229c6"
   },
   "outputs": [],
   "source": [
    "# Converts other salaries into yearly salaries.\n",
    "# Averages ranges\n",
    "def proc_sal(sal):\n",
    "    sal = str(sal)\n",
    "    sal = sal.replace(\"$\",\"\").replace(\",\",\"\").replace(\"-\",\" \")\n",
    "    value = np.mean([float(s) for s in sal.split() if s.isdecimal()])\n",
    "    if \"year\" in sal:\n",
    "        newsal = value\n",
    "    elif \"month\" in sal: \n",
    "        newsal = value*12\n",
    "    elif \"week\" in sal: \n",
    "        newsal = value*52\n",
    "    elif \"day\" in sal: \n",
    "        newsal = value*(365-125)\n",
    "    elif \"hour\" in sal: \n",
    "        newsal = value*8*(365-125)\n",
    "    else:\n",
    "        newsal = \"NA\"\n",
    "    return newsal\n",
    "\n",
    "df_no_dups_no_na.loc[:,\"anual_salary\"] = map(proc_sal, df_no_dups_no_na[\"salary\"])\n",
    "# drop salaries that we were unable to process correctly\n",
    "df_no_dups_no_na2 = df_no_dups_no_na.dropna()"
   ]
  },
  {
   "cell_type": "code",
   "execution_count": 91,
   "metadata": {
    "collapsed": false
   },
   "outputs": [
    {
     "data": {
      "text/html": [
       "<div>\n",
       "<table border=\"1\" class=\"dataframe\">\n",
       "  <thead>\n",
       "    <tr style=\"text-align: right;\">\n",
       "      <th></th>\n",
       "      <th>location</th>\n",
       "      <th>job</th>\n",
       "      <th>comp</th>\n",
       "      <th>salary</th>\n",
       "      <th>anual_salary</th>\n",
       "      <th>city</th>\n",
       "    </tr>\n",
       "  </thead>\n",
       "  <tbody>\n",
       "    <tr>\n",
       "      <th>9</th>\n",
       "      <td>Phoenix</td>\n",
       "      <td>RESEARCH AND STATISTICAL ANALYST</td>\n",
       "      <td>Arizona Health Care Cost Containment System</td>\n",
       "      <td>$39,983 - $55,500 a year</td>\n",
       "      <td>47741.5</td>\n",
       "      <td>Phoenix</td>\n",
       "    </tr>\n",
       "    <tr>\n",
       "      <th>10</th>\n",
       "      <td>Phoenix</td>\n",
       "      <td>DATA ANALYSIS AND RESEARCH MANAGER</td>\n",
       "      <td>Arizona Health Care Cost Containment System</td>\n",
       "      <td>$65,000 - $72,000 a year</td>\n",
       "      <td>68500.0</td>\n",
       "      <td>Phoenix</td>\n",
       "    </tr>\n",
       "    <tr>\n",
       "      <th>11</th>\n",
       "      <td>Phoenix</td>\n",
       "      <td>Research Analyst</td>\n",
       "      <td>Maricopa County, AZ</td>\n",
       "      <td>$44,616 - $82,618 a year</td>\n",
       "      <td>63617.0</td>\n",
       "      <td>Phoenix</td>\n",
       "    </tr>\n",
       "    <tr>\n",
       "      <th>15</th>\n",
       "      <td>Phoenix</td>\n",
       "      <td>Data Statistical Specialist (Job 2105)</td>\n",
       "      <td>Arizona Supreme Court</td>\n",
       "      <td>$56,677 a year</td>\n",
       "      <td>56677.0</td>\n",
       "      <td>Phoenix</td>\n",
       "    </tr>\n",
       "    <tr>\n",
       "      <th>23</th>\n",
       "      <td>Chicago</td>\n",
       "      <td>Data Scientist</td>\n",
       "      <td>Workbridge Associates</td>\n",
       "      <td>$100,000 - $120,000 a year</td>\n",
       "      <td>110000.0</td>\n",
       "      <td>Chicago</td>\n",
       "    </tr>\n",
       "  </tbody>\n",
       "</table>\n",
       "</div>"
      ],
      "text/plain": [
       "   location                                     job  \\\n",
       "9   Phoenix        RESEARCH AND STATISTICAL ANALYST   \n",
       "10  Phoenix      DATA ANALYSIS AND RESEARCH MANAGER   \n",
       "11  Phoenix                        Research Analyst   \n",
       "15  Phoenix  Data Statistical Specialist (Job 2105)   \n",
       "23  Chicago                          Data Scientist   \n",
       "\n",
       "                                           comp                      salary  \\\n",
       "9   Arizona Health Care Cost Containment System    $39,983 - $55,500 a year   \n",
       "10  Arizona Health Care Cost Containment System    $65,000 - $72,000 a year   \n",
       "11                          Maricopa County, AZ    $44,616 - $82,618 a year   \n",
       "15                        Arizona Supreme Court              $56,677 a year   \n",
       "23                        Workbridge Associates  $100,000 - $120,000 a year   \n",
       "\n",
       "    anual_salary     city  \n",
       "9        47741.5  Phoenix  \n",
       "10       68500.0  Phoenix  \n",
       "11       63617.0  Phoenix  \n",
       "15       56677.0  Phoenix  \n",
       "23      110000.0  Chicago  "
      ]
     },
     "execution_count": 91,
     "metadata": {},
     "output_type": "execute_result"
    }
   ],
   "source": [
    "# create column with city only\n",
    "df_no_dups_no_na2[\"city\"] = map((lambda x: x.split(\",\",1)[0]), df_no_dups_no_na2[\"location\"])\n",
    "df_no_dups_no_na2.head()"
   ]
  },
  {
   "cell_type": "markdown",
   "metadata": {
    "collapsed": false,
    "focus": false,
    "id": "43e71edd-210e-42b1-9336-70a931f048af"
   },
   "source": [
    "### Save results as a CSV"
   ]
  },
  {
   "cell_type": "code",
   "execution_count": 99,
   "metadata": {
    "collapsed": true
   },
   "outputs": [],
   "source": [
    "# save data to file, so I don't have to scrape and clean it everytime\n",
    "df_no_dups_no_na2.to_csv(\"salary_relevant_rows.csv\", \n",
    "                         encoding=\"utf-8\",\n",
    "                         index=False)"
   ]
  },
  {
   "cell_type": "markdown",
   "metadata": {
    "focus": false,
    "id": "04563b69-f7b6-466f-9d65-fc62c9ddee6a"
   },
   "source": [
    "## Predicting salaries using Logistic Regression"
   ]
  },
  {
   "cell_type": "markdown",
   "metadata": {
    "focus": false,
    "id": "243e949e-2742-40af-872e-fec475fd306c"
   },
   "source": [
    "#### Load in the the data of scraped salaries"
   ]
  },
  {
   "cell_type": "code",
   "execution_count": 163,
   "metadata": {
    "collapsed": false
   },
   "outputs": [
    {
     "name": "stdout",
     "output_type": "stream",
     "text": [
      "(196, 6)\n"
     ]
    },
    {
     "data": {
      "text/html": [
       "<div>\n",
       "<table border=\"1\" class=\"dataframe\">\n",
       "  <thead>\n",
       "    <tr style=\"text-align: right;\">\n",
       "      <th></th>\n",
       "      <th>location</th>\n",
       "      <th>job</th>\n",
       "      <th>comp</th>\n",
       "      <th>salary</th>\n",
       "      <th>anual_salary</th>\n",
       "      <th>city</th>\n",
       "    </tr>\n",
       "  </thead>\n",
       "  <tbody>\n",
       "    <tr>\n",
       "      <th>0</th>\n",
       "      <td>Houston, TX</td>\n",
       "      <td>Research Financial Analyst II</td>\n",
       "      <td>Baylor College of Medicine</td>\n",
       "      <td>$65,000 a year</td>\n",
       "      <td>65000.0</td>\n",
       "      <td>Houston</td>\n",
       "    </tr>\n",
       "    <tr>\n",
       "      <th>1</th>\n",
       "      <td>Houston, TX</td>\n",
       "      <td>Sr. Bioinformatics Programmer</td>\n",
       "      <td>Baylor College of Medicine</td>\n",
       "      <td>$70,000 - $91,000 a year</td>\n",
       "      <td>80500.0</td>\n",
       "      <td>Houston</td>\n",
       "    </tr>\n",
       "    <tr>\n",
       "      <th>2</th>\n",
       "      <td>Tempe, AZ</td>\n",
       "      <td>Data Analysis Specialist</td>\n",
       "      <td>Arizona State University</td>\n",
       "      <td>$47,476 - $60,000 a year</td>\n",
       "      <td>53738.0</td>\n",
       "      <td>Tempe</td>\n",
       "    </tr>\n",
       "    <tr>\n",
       "      <th>3</th>\n",
       "      <td>Phoenix, AZ 85003 (Central City area)</td>\n",
       "      <td>Research Analyst</td>\n",
       "      <td>Maricopa County, AZ</td>\n",
       "      <td>$44,616 - $82,618 a year</td>\n",
       "      <td>63617.0</td>\n",
       "      <td>Phoenix</td>\n",
       "    </tr>\n",
       "    <tr>\n",
       "      <th>4</th>\n",
       "      <td>Phoenix, AZ</td>\n",
       "      <td>RESEARCH AND STATISTICAL ANALYST</td>\n",
       "      <td>Arizona Health Care Cost Containment System</td>\n",
       "      <td>$39,983 - $55,500 a year</td>\n",
       "      <td>47741.5</td>\n",
       "      <td>Phoenix</td>\n",
       "    </tr>\n",
       "  </tbody>\n",
       "</table>\n",
       "</div>"
      ],
      "text/plain": [
       "                                location                               job  \\\n",
       "0                            Houston, TX     Research Financial Analyst II   \n",
       "1                            Houston, TX     Sr. Bioinformatics Programmer   \n",
       "2                              Tempe, AZ          Data Analysis Specialist   \n",
       "3  Phoenix, AZ 85003 (Central City area)                  Research Analyst   \n",
       "4                            Phoenix, AZ  RESEARCH AND STATISTICAL ANALYST   \n",
       "\n",
       "                                          comp                    salary  \\\n",
       "0                   Baylor College of Medicine            $65,000 a year   \n",
       "1                   Baylor College of Medicine  $70,000 - $91,000 a year   \n",
       "2                     Arizona State University  $47,476 - $60,000 a year   \n",
       "3                          Maricopa County, AZ  $44,616 - $82,618 a year   \n",
       "4  Arizona Health Care Cost Containment System  $39,983 - $55,500 a year   \n",
       "\n",
       "   anual_salary     city  \n",
       "0       65000.0  Houston  \n",
       "1       80500.0  Houston  \n",
       "2       53738.0    Tempe  \n",
       "3       63617.0  Phoenix  \n",
       "4       47741.5  Phoenix  "
      ]
     },
     "execution_count": 163,
     "metadata": {},
     "output_type": "execute_result"
    }
   ],
   "source": [
    "# xxx start loading from here to create models\n",
    "\n",
    "df = pd.read_csv('salary_relevant_rows.csv')\n",
    "# we need to dropna because of statsmodels\n",
    "df.dropna(inplace=True)\n",
    "print(df.shape)\n",
    "df.head()"
   ]
  },
  {
   "cell_type": "markdown",
   "metadata": {
    "focus": false,
    "id": "c7631f51-07f2-4c79-a093-3e9bc7849a48"
   },
   "source": [
    "#### We want to predict a binary variable - whether the salary was low or high. Compute the median salary and create a new binary variable that is true when the salary is high (above the median)\n",
    "\n",
    "We could also perform Linear Regression (or any regression) to predict the salary value here. Instead, we are going to convert this into a _binary_ classification problem, by predicting two classes, HIGH vs LOW salary.\n",
    "\n",
    "While performing regression may be better, performing classification may help remove some of the noise of the extreme salaries. We don't have to choose the `median` as the splitting point - we could also split on the 75th percentile or any other reasonable breaking point.\n",
    "\n",
    "In fact, the ideal scenario may be to predict many levels of salaries."
   ]
  },
  {
   "cell_type": "code",
   "execution_count": 164,
   "metadata": {
    "collapsed": false,
    "focus": false,
    "id": "c20d2498-151c-44c3-a453-3a333c79a0ac"
   },
   "outputs": [
    {
     "data": {
      "text/plain": [
       "79249.5"
      ]
     },
     "execution_count": 164,
     "metadata": {},
     "output_type": "execute_result"
    }
   ],
   "source": [
    "## calculate median salary\n",
    "median_salary = np.median(df[\"anual_salary\"])\n",
    "median_salary"
   ]
  },
  {
   "cell_type": "code",
   "execution_count": 165,
   "metadata": {
    "collapsed": false
   },
   "outputs": [
    {
     "data": {
      "text/html": [
       "<div>\n",
       "<table border=\"1\" class=\"dataframe\">\n",
       "  <thead>\n",
       "    <tr style=\"text-align: right;\">\n",
       "      <th></th>\n",
       "      <th>location</th>\n",
       "      <th>job</th>\n",
       "      <th>comp</th>\n",
       "      <th>salary</th>\n",
       "      <th>anual_salary</th>\n",
       "      <th>city</th>\n",
       "      <th>sal_class</th>\n",
       "    </tr>\n",
       "  </thead>\n",
       "  <tbody>\n",
       "    <tr>\n",
       "      <th>0</th>\n",
       "      <td>Houston, TX</td>\n",
       "      <td>Research Financial Analyst II</td>\n",
       "      <td>Baylor College of Medicine</td>\n",
       "      <td>$65,000 a year</td>\n",
       "      <td>65000.0</td>\n",
       "      <td>Houston</td>\n",
       "      <td>LOW</td>\n",
       "    </tr>\n",
       "    <tr>\n",
       "      <th>1</th>\n",
       "      <td>Houston, TX</td>\n",
       "      <td>Sr. Bioinformatics Programmer</td>\n",
       "      <td>Baylor College of Medicine</td>\n",
       "      <td>$70,000 - $91,000 a year</td>\n",
       "      <td>80500.0</td>\n",
       "      <td>Houston</td>\n",
       "      <td>HIGH</td>\n",
       "    </tr>\n",
       "    <tr>\n",
       "      <th>2</th>\n",
       "      <td>Tempe, AZ</td>\n",
       "      <td>Data Analysis Specialist</td>\n",
       "      <td>Arizona State University</td>\n",
       "      <td>$47,476 - $60,000 a year</td>\n",
       "      <td>53738.0</td>\n",
       "      <td>Tempe</td>\n",
       "      <td>LOW</td>\n",
       "    </tr>\n",
       "    <tr>\n",
       "      <th>3</th>\n",
       "      <td>Phoenix, AZ 85003 (Central City area)</td>\n",
       "      <td>Research Analyst</td>\n",
       "      <td>Maricopa County, AZ</td>\n",
       "      <td>$44,616 - $82,618 a year</td>\n",
       "      <td>63617.0</td>\n",
       "      <td>Phoenix</td>\n",
       "      <td>LOW</td>\n",
       "    </tr>\n",
       "    <tr>\n",
       "      <th>4</th>\n",
       "      <td>Phoenix, AZ</td>\n",
       "      <td>RESEARCH AND STATISTICAL ANALYST</td>\n",
       "      <td>Arizona Health Care Cost Containment System</td>\n",
       "      <td>$39,983 - $55,500 a year</td>\n",
       "      <td>47741.5</td>\n",
       "      <td>Phoenix</td>\n",
       "      <td>LOW</td>\n",
       "    </tr>\n",
       "  </tbody>\n",
       "</table>\n",
       "</div>"
      ],
      "text/plain": [
       "                                location                               job  \\\n",
       "0                            Houston, TX     Research Financial Analyst II   \n",
       "1                            Houston, TX     Sr. Bioinformatics Programmer   \n",
       "2                              Tempe, AZ          Data Analysis Specialist   \n",
       "3  Phoenix, AZ 85003 (Central City area)                  Research Analyst   \n",
       "4                            Phoenix, AZ  RESEARCH AND STATISTICAL ANALYST   \n",
       "\n",
       "                                          comp                    salary  \\\n",
       "0                   Baylor College of Medicine            $65,000 a year   \n",
       "1                   Baylor College of Medicine  $70,000 - $91,000 a year   \n",
       "2                     Arizona State University  $47,476 - $60,000 a year   \n",
       "3                          Maricopa County, AZ  $44,616 - $82,618 a year   \n",
       "4  Arizona Health Care Cost Containment System  $39,983 - $55,500 a year   \n",
       "\n",
       "   anual_salary     city sal_class  \n",
       "0       65000.0  Houston       LOW  \n",
       "1       80500.0  Houston      HIGH  \n",
       "2       53738.0    Tempe       LOW  \n",
       "3       63617.0  Phoenix       LOW  \n",
       "4       47741.5  Phoenix       LOW  "
      ]
     },
     "execution_count": 165,
     "metadata": {},
     "output_type": "execute_result"
    }
   ],
   "source": [
    "df[\"sal_class\"] = map((lambda x: \"LOW\" if x < median_salary else \"HIGH\"), df[\"anual_salary\"])\n",
    "df.head()"
   ]
  },
  {
   "cell_type": "code",
   "execution_count": 166,
   "metadata": {
    "collapsed": false
   },
   "outputs": [
    {
     "data": {
      "text/plain": [
       "HIGH    100\n",
       "LOW      96\n",
       "Name: sal_class, dtype: int64"
      ]
     },
     "execution_count": 166,
     "metadata": {},
     "output_type": "execute_result"
    }
   ],
   "source": [
    "df[\"sal_class\"].value_counts()"
   ]
  },
  {
   "cell_type": "markdown",
   "metadata": {
    "focus": false,
    "id": "a7afb2c0-d41e-4779-8216-91cd8dd4473f"
   },
   "source": [
    "#### Thought experiment: What is the baseline accuracy for this model?"
   ]
  },
  {
   "cell_type": "code",
   "execution_count": 167,
   "metadata": {
    "collapsed": false,
    "focus": false,
    "id": "87a17d3d-b7f4-4747-9f75-f9af1d18a174"
   },
   "outputs": [
    {
     "name": "stdout",
     "output_type": "stream",
     "text": [
      "0.510204081633\n"
     ]
    }
   ],
   "source": [
    "## We don't have a model yet, so I'm not sure what this means.\n",
    "\n",
    "## The simplest model that I can think of always predicts the most \n",
    "## frequent salary class.\n",
    "\n",
    "## It will have an accuracy of \n",
    "low = df[\"sal_class\"].value_counts()[\"LOW\"]\n",
    "high = df[\"sal_class\"].value_counts()[\"HIGH\"]\n",
    "print((low if low > high else high) / (low + high))"
   ]
  },
  {
   "cell_type": "markdown",
   "metadata": {
    "focus": false,
    "id": "4fb29de2-5b98-474c-a4ad-5170b72b9aea"
   },
   "source": [
    "#### Create a Logistic Regression model to predict High/Low salary using statsmodel. Start by ONLY using the location as a feature. Display the coefficients and write a short summary of what they mean."
   ]
  },
  {
   "cell_type": "code",
   "execution_count": 168,
   "metadata": {
    "collapsed": false,
    "focus": false,
    "id": "ddbc6159-6854-4ca7-857f-bfecdaf6d9c2"
   },
   "outputs": [
    {
     "name": "stdout",
     "output_type": "stream",
     "text": [
      "Warning: Maximum number of iterations has been exceeded.\n",
      "         Current function value: 0.422053\n",
      "         Iterations: 35\n"
     ]
    },
    {
     "name": "stderr",
     "output_type": "stream",
     "text": [
      "//anaconda/lib/python2.7/site-packages/statsmodels/base/model.py:466: ConvergenceWarning: Maximum Likelihood optimization failed to converge. Check mle_retvals\n",
      "  \"Check mle_retvals\", ConvergenceWarning)\n"
     ]
    },
    {
     "data": {
      "text/html": [
       "<table class=\"simpletable\">\n",
       "<caption>Logit Regression Results</caption>\n",
       "<tr>\n",
       "  <th>Dep. Variable:</th>     <td>sal_class</td>    <th>  No. Observations:  </th>  <td>   196</td>  \n",
       "</tr>\n",
       "<tr>\n",
       "  <th>Model:</th>               <td>Logit</td>      <th>  Df Residuals:      </th>  <td>   151</td>  \n",
       "</tr>\n",
       "<tr>\n",
       "  <th>Method:</th>               <td>MLE</td>       <th>  Df Model:          </th>  <td>    44</td>  \n",
       "</tr>\n",
       "<tr>\n",
       "  <th>Date:</th>          <td>Sat, 05 Nov 2016</td> <th>  Pseudo R-squ.:     </th>  <td>0.3909</td>  \n",
       "</tr>\n",
       "<tr>\n",
       "  <th>Time:</th>              <td>17:30:51</td>     <th>  Log-Likelihood:    </th> <td> -82.722</td> \n",
       "</tr>\n",
       "<tr>\n",
       "  <th>converged:</th>           <td>False</td>      <th>  LL-Null:           </th> <td> -135.82</td> \n",
       "</tr>\n",
       "<tr>\n",
       "  <th> </th>                      <td> </td>        <th>  LLR p-value:       </th> <td>4.676e-07</td>\n",
       "</tr>\n",
       "</table>\n",
       "<table class=\"simpletable\">\n",
       "<tr>\n",
       "          <td></td>             <th>coef</th>     <th>std err</th>      <th>z</th>      <th>P>|z|</th> <th>[95.0% Conf. Int.]</th> \n",
       "</tr>\n",
       "<tr>\n",
       "  <th>Atlanta</th>           <td>   -0.2877</td> <td>    0.764</td> <td>   -0.377</td> <td> 0.706</td> <td>   -1.785     1.209</td>\n",
       "</tr>\n",
       "<tr>\n",
       "  <th>Aurora</th>            <td>  -22.8458</td> <td> 6.46e+04</td> <td>   -0.000</td> <td> 1.000</td> <td>-1.27e+05  1.27e+05</td>\n",
       "</tr>\n",
       "<tr>\n",
       "  <th>Austin</th>            <td>   -0.8109</td> <td>    0.601</td> <td>   -1.349</td> <td> 0.177</td> <td>   -1.989     0.367</td>\n",
       "</tr>\n",
       "<tr>\n",
       "  <th>Azusa</th>             <td>  -30.0739</td> <td> 3.39e+06</td> <td>-8.87e-06</td> <td> 1.000</td> <td>-6.65e+06  6.65e+06</td>\n",
       "</tr>\n",
       "<tr>\n",
       "  <th>Bellevue</th>          <td>         0</td> <td>    1.414</td> <td>        0</td> <td> 1.000</td> <td>   -2.772     2.772</td>\n",
       "</tr>\n",
       "<tr>\n",
       "  <th>Belmont</th>           <td>   30.0739</td> <td> 3.39e+06</td> <td> 8.86e-06</td> <td> 1.000</td> <td>-6.65e+06  6.65e+06</td>\n",
       "</tr>\n",
       "<tr>\n",
       "  <th>Berkeley</th>          <td>  -30.0739</td> <td> 3.39e+06</td> <td>-8.87e-06</td> <td> 1.000</td> <td>-6.65e+06  6.65e+06</td>\n",
       "</tr>\n",
       "<tr>\n",
       "  <th>Boulder</th>           <td>  -30.0739</td> <td> 3.39e+06</td> <td>-8.87e-06</td> <td> 1.000</td> <td>-6.65e+06  6.65e+06</td>\n",
       "</tr>\n",
       "<tr>\n",
       "  <th>Burbank</th>           <td>   30.0739</td> <td> 3.39e+06</td> <td> 8.86e-06</td> <td> 1.000</td> <td>-6.65e+06  6.65e+06</td>\n",
       "</tr>\n",
       "<tr>\n",
       "  <th>Charlotte</th>         <td>   30.0739</td> <td> 3.39e+06</td> <td> 8.86e-06</td> <td> 1.000</td> <td>-6.65e+06  6.65e+06</td>\n",
       "</tr>\n",
       "<tr>\n",
       "  <th>Chatsworth</th>        <td>  -30.0739</td> <td> 3.39e+06</td> <td>-8.87e-06</td> <td> 1.000</td> <td>-6.65e+06  6.65e+06</td>\n",
       "</tr>\n",
       "<tr>\n",
       "  <th>Chicago</th>           <td>    1.2528</td> <td>    0.567</td> <td>    2.210</td> <td> 0.027</td> <td>    0.142     2.364</td>\n",
       "</tr>\n",
       "<tr>\n",
       "  <th>Coral Gables</th>      <td>   -1.0986</td> <td>    0.816</td> <td>   -1.346</td> <td> 0.178</td> <td>   -2.699     0.502</td>\n",
       "</tr>\n",
       "<tr>\n",
       "  <th>Culver City</th>       <td>   30.0739</td> <td> 3.39e+06</td> <td> 8.86e-06</td> <td> 1.000</td> <td>-6.65e+06  6.65e+06</td>\n",
       "</tr>\n",
       "<tr>\n",
       "  <th>Dallas</th>            <td>   23.0493</td> <td> 5.84e+04</td> <td>    0.000</td> <td> 1.000</td> <td>-1.14e+05  1.15e+05</td>\n",
       "</tr>\n",
       "<tr>\n",
       "  <th>Dallas-Fort Worth</th> <td>   30.0739</td> <td> 3.39e+06</td> <td> 8.86e-06</td> <td> 1.000</td> <td>-6.65e+06  6.65e+06</td>\n",
       "</tr>\n",
       "<tr>\n",
       "  <th>Denver</th>            <td>   -0.6931</td> <td>    1.225</td> <td>   -0.566</td> <td> 0.571</td> <td>   -3.094     1.707</td>\n",
       "</tr>\n",
       "<tr>\n",
       "  <th>Des Plaines</th>       <td>   30.0739</td> <td> 3.39e+06</td> <td> 8.86e-06</td> <td> 1.000</td> <td>-6.65e+06  6.65e+06</td>\n",
       "</tr>\n",
       "<tr>\n",
       "  <th>Evanston</th>          <td>  -30.0739</td> <td> 3.39e+06</td> <td>-8.87e-06</td> <td> 1.000</td> <td>-6.65e+06  6.65e+06</td>\n",
       "</tr>\n",
       "<tr>\n",
       "  <th>Fort Washington</th>   <td>         0</td> <td>    1.414</td> <td>        0</td> <td> 1.000</td> <td>   -2.772     2.772</td>\n",
       "</tr>\n",
       "<tr>\n",
       "  <th>Fullerton</th>         <td>  -22.8458</td> <td> 6.46e+04</td> <td>   -0.000</td> <td> 1.000</td> <td>-1.27e+05  1.27e+05</td>\n",
       "</tr>\n",
       "<tr>\n",
       "  <th>Houston</th>           <td>         0</td> <td>    1.414</td> <td>        0</td> <td> 1.000</td> <td>   -2.772     2.772</td>\n",
       "</tr>\n",
       "<tr>\n",
       "  <th>Irving</th>            <td>   -0.6931</td> <td>    1.225</td> <td>   -0.566</td> <td> 0.571</td> <td>   -3.094     1.707</td>\n",
       "</tr>\n",
       "<tr>\n",
       "  <th>King of Prussia</th>   <td>   30.0739</td> <td> 3.39e+06</td> <td> 8.86e-06</td> <td> 1.000</td> <td>-6.65e+06  6.65e+06</td>\n",
       "</tr>\n",
       "<tr>\n",
       "  <th>Los Angeles</th>       <td>    0.7885</td> <td>    0.539</td> <td>    1.462</td> <td> 0.144</td> <td>   -0.269     1.846</td>\n",
       "</tr>\n",
       "<tr>\n",
       "  <th>Manhattan</th>         <td>   -0.5108</td> <td>    0.730</td> <td>   -0.699</td> <td> 0.484</td> <td>   -1.942     0.921</td>\n",
       "</tr>\n",
       "<tr>\n",
       "  <th>Miami</th>             <td>    0.6931</td> <td>    1.225</td> <td>    0.566</td> <td> 0.571</td> <td>   -1.707     3.094</td>\n",
       "</tr>\n",
       "<tr>\n",
       "  <th>Miami Lakes</th>       <td>   30.0739</td> <td> 3.39e+06</td> <td> 8.86e-06</td> <td> 1.000</td> <td>-6.65e+06  6.65e+06</td>\n",
       "</tr>\n",
       "<tr>\n",
       "  <th>Monroe</th>            <td>   30.0739</td> <td> 3.39e+06</td> <td> 8.86e-06</td> <td> 1.000</td> <td>-6.65e+06  6.65e+06</td>\n",
       "</tr>\n",
       "<tr>\n",
       "  <th>New York</th>          <td>    0.6931</td> <td>    0.387</td> <td>    1.790</td> <td> 0.074</td> <td>   -0.066     1.452</td>\n",
       "</tr>\n",
       "<tr>\n",
       "  <th>Oakland</th>           <td>  -22.8458</td> <td> 6.46e+04</td> <td>   -0.000</td> <td> 1.000</td> <td>-1.27e+05  1.27e+05</td>\n",
       "</tr>\n",
       "<tr>\n",
       "  <th>Philadelphia</th>      <td>    2.1972</td> <td>    1.054</td> <td>    2.084</td> <td> 0.037</td> <td>    0.131     4.263</td>\n",
       "</tr>\n",
       "<tr>\n",
       "  <th>Phoenix</th>           <td>   -1.9459</td> <td>    1.069</td> <td>   -1.820</td> <td> 0.069</td> <td>   -4.041     0.149</td>\n",
       "</tr>\n",
       "<tr>\n",
       "  <th>Pittsburgh</th>        <td>  -22.8458</td> <td> 6.46e+04</td> <td>   -0.000</td> <td> 1.000</td> <td>-1.27e+05  1.27e+05</td>\n",
       "</tr>\n",
       "<tr>\n",
       "  <th>Plano</th>             <td>   30.0739</td> <td> 3.39e+06</td> <td> 8.86e-06</td> <td> 1.000</td> <td>-6.65e+06  6.65e+06</td>\n",
       "</tr>\n",
       "<tr>\n",
       "  <th>Portland</th>          <td>  -21.3214</td> <td> 2.13e+04</td> <td>   -0.001</td> <td> 0.999</td> <td>-4.18e+04  4.18e+04</td>\n",
       "</tr>\n",
       "<tr>\n",
       "  <th>Radnor</th>            <td>   30.0739</td> <td> 3.39e+06</td> <td> 8.86e-06</td> <td> 1.000</td> <td>-6.65e+06  6.65e+06</td>\n",
       "</tr>\n",
       "<tr>\n",
       "  <th>Richardson</th>        <td>  -30.0739</td> <td> 3.39e+06</td> <td>-8.87e-06</td> <td> 1.000</td> <td>-6.65e+06  6.65e+06</td>\n",
       "</tr>\n",
       "<tr>\n",
       "  <th>Rowland Heights</th>   <td>  -23.0493</td> <td> 5.84e+04</td> <td>   -0.000</td> <td> 1.000</td> <td>-1.15e+05  1.14e+05</td>\n",
       "</tr>\n",
       "<tr>\n",
       "  <th>San Francisco</th>     <td>   22.3909</td> <td>  2.3e+04</td> <td>    0.001</td> <td> 0.999</td> <td>-4.51e+04  4.51e+04</td>\n",
       "</tr>\n",
       "<tr>\n",
       "  <th>Scottsdale</th>        <td>  -30.0739</td> <td> 3.39e+06</td> <td>-8.87e-06</td> <td> 1.000</td> <td>-6.65e+06  6.65e+06</td>\n",
       "</tr>\n",
       "<tr>\n",
       "  <th>Seattle</th>           <td>   -1.6094</td> <td>    0.775</td> <td>   -2.078</td> <td> 0.038</td> <td>   -3.128    -0.091</td>\n",
       "</tr>\n",
       "<tr>\n",
       "  <th>Smyrna</th>            <td>  -30.0739</td> <td> 3.39e+06</td> <td>-8.87e-06</td> <td> 1.000</td> <td>-6.65e+06  6.65e+06</td>\n",
       "</tr>\n",
       "<tr>\n",
       "  <th>Spring House</th>      <td>  -30.0739</td> <td> 3.39e+06</td> <td>-8.87e-06</td> <td> 1.000</td> <td>-6.65e+06  6.65e+06</td>\n",
       "</tr>\n",
       "<tr>\n",
       "  <th>Tempe</th>             <td>  -23.0493</td> <td> 5.84e+04</td> <td>   -0.000</td> <td> 1.000</td> <td>-1.15e+05  1.14e+05</td>\n",
       "</tr>\n",
       "</table>"
      ],
      "text/plain": [
       "<class 'statsmodels.iolib.summary.Summary'>\n",
       "\"\"\"\n",
       "                           Logit Regression Results                           \n",
       "==============================================================================\n",
       "Dep. Variable:              sal_class   No. Observations:                  196\n",
       "Model:                          Logit   Df Residuals:                      151\n",
       "Method:                           MLE   Df Model:                           44\n",
       "Date:                Sat, 05 Nov 2016   Pseudo R-squ.:                  0.3909\n",
       "Time:                        17:30:51   Log-Likelihood:                -82.722\n",
       "converged:                      False   LL-Null:                       -135.82\n",
       "                                        LLR p-value:                 4.676e-07\n",
       "=====================================================================================\n",
       "                        coef    std err          z      P>|z|      [95.0% Conf. Int.]\n",
       "-------------------------------------------------------------------------------------\n",
       "Atlanta              -0.2877      0.764     -0.377      0.706        -1.785     1.209\n",
       "Aurora              -22.8458   6.46e+04     -0.000      1.000     -1.27e+05  1.27e+05\n",
       "Austin               -0.8109      0.601     -1.349      0.177        -1.989     0.367\n",
       "Azusa               -30.0739   3.39e+06  -8.87e-06      1.000     -6.65e+06  6.65e+06\n",
       "Bellevue                   0      1.414          0      1.000        -2.772     2.772\n",
       "Belmont              30.0739   3.39e+06   8.86e-06      1.000     -6.65e+06  6.65e+06\n",
       "Berkeley            -30.0739   3.39e+06  -8.87e-06      1.000     -6.65e+06  6.65e+06\n",
       "Boulder             -30.0739   3.39e+06  -8.87e-06      1.000     -6.65e+06  6.65e+06\n",
       "Burbank              30.0739   3.39e+06   8.86e-06      1.000     -6.65e+06  6.65e+06\n",
       "Charlotte            30.0739   3.39e+06   8.86e-06      1.000     -6.65e+06  6.65e+06\n",
       "Chatsworth          -30.0739   3.39e+06  -8.87e-06      1.000     -6.65e+06  6.65e+06\n",
       "Chicago               1.2528      0.567      2.210      0.027         0.142     2.364\n",
       "Coral Gables         -1.0986      0.816     -1.346      0.178        -2.699     0.502\n",
       "Culver City          30.0739   3.39e+06   8.86e-06      1.000     -6.65e+06  6.65e+06\n",
       "Dallas               23.0493   5.84e+04      0.000      1.000     -1.14e+05  1.15e+05\n",
       "Dallas-Fort Worth    30.0739   3.39e+06   8.86e-06      1.000     -6.65e+06  6.65e+06\n",
       "Denver               -0.6931      1.225     -0.566      0.571        -3.094     1.707\n",
       "Des Plaines          30.0739   3.39e+06   8.86e-06      1.000     -6.65e+06  6.65e+06\n",
       "Evanston            -30.0739   3.39e+06  -8.87e-06      1.000     -6.65e+06  6.65e+06\n",
       "Fort Washington            0      1.414          0      1.000        -2.772     2.772\n",
       "Fullerton           -22.8458   6.46e+04     -0.000      1.000     -1.27e+05  1.27e+05\n",
       "Houston                    0      1.414          0      1.000        -2.772     2.772\n",
       "Irving               -0.6931      1.225     -0.566      0.571        -3.094     1.707\n",
       "King of Prussia      30.0739   3.39e+06   8.86e-06      1.000     -6.65e+06  6.65e+06\n",
       "Los Angeles           0.7885      0.539      1.462      0.144        -0.269     1.846\n",
       "Manhattan            -0.5108      0.730     -0.699      0.484        -1.942     0.921\n",
       "Miami                 0.6931      1.225      0.566      0.571        -1.707     3.094\n",
       "Miami Lakes          30.0739   3.39e+06   8.86e-06      1.000     -6.65e+06  6.65e+06\n",
       "Monroe               30.0739   3.39e+06   8.86e-06      1.000     -6.65e+06  6.65e+06\n",
       "New York              0.6931      0.387      1.790      0.074        -0.066     1.452\n",
       "Oakland             -22.8458   6.46e+04     -0.000      1.000     -1.27e+05  1.27e+05\n",
       "Philadelphia          2.1972      1.054      2.084      0.037         0.131     4.263\n",
       "Phoenix              -1.9459      1.069     -1.820      0.069        -4.041     0.149\n",
       "Pittsburgh          -22.8458   6.46e+04     -0.000      1.000     -1.27e+05  1.27e+05\n",
       "Plano                30.0739   3.39e+06   8.86e-06      1.000     -6.65e+06  6.65e+06\n",
       "Portland            -21.3214   2.13e+04     -0.001      0.999     -4.18e+04  4.18e+04\n",
       "Radnor               30.0739   3.39e+06   8.86e-06      1.000     -6.65e+06  6.65e+06\n",
       "Richardson          -30.0739   3.39e+06  -8.87e-06      1.000     -6.65e+06  6.65e+06\n",
       "Rowland Heights     -23.0493   5.84e+04     -0.000      1.000     -1.15e+05  1.14e+05\n",
       "San Francisco        22.3909    2.3e+04      0.001      0.999     -4.51e+04  4.51e+04\n",
       "Scottsdale          -30.0739   3.39e+06  -8.87e-06      1.000     -6.65e+06  6.65e+06\n",
       "Seattle              -1.6094      0.775     -2.078      0.038        -3.128    -0.091\n",
       "Smyrna              -30.0739   3.39e+06  -8.87e-06      1.000     -6.65e+06  6.65e+06\n",
       "Spring House        -30.0739   3.39e+06  -8.87e-06      1.000     -6.65e+06  6.65e+06\n",
       "Tempe               -23.0493   5.84e+04     -0.000      1.000     -1.15e+05  1.14e+05\n",
       "=====================================================================================\n",
       "\"\"\""
      ]
     },
     "execution_count": 168,
     "metadata": {},
     "output_type": "execute_result"
    }
   ],
   "source": [
    "import statsmodels.api as sm\n",
    "\n",
    "df_features_for_sm_city = pd.get_dummies(df[\"city\"])\n",
    "df_target_for_sm = df[\"sal_class\"].replace({\"HIGH\":1, \"LOW\":0})\n",
    "\n",
    "sm_model_city = sm.Logit(df_target_for_sm, df_features_for_sm_city)\n",
    "sm_model_city_result = sm_model_city.fit() \n",
    "sm_model_city_result.summary() "
   ]
  },
  {
   "cell_type": "code",
   "execution_count": 169,
   "metadata": {
    "collapsed": false
   },
   "outputs": [
    {
     "data": {
      "text/plain": [
       "45"
      ]
     },
     "execution_count": 169,
     "metadata": {},
     "output_type": "execute_result"
    }
   ],
   "source": [
    "len(df[\"city\"].unique())"
   ]
  },
  {
   "cell_type": "markdown",
   "metadata": {},
   "source": [
    "There are 45 different cities for 200 data points (rows with salaries).  This is probably the reason why the model did not converge.  The best way to solve this problem would be to scrape for more salary data, if we had the time for that.  A different approach would consider state instead of city, but there are still 50 different states, so the best would be to get more salary data.\n",
    "\n",
    "Interpreting the coefficients is hard, for the reason explained above.  Negative coefficients are associated with cities that are less likely to have HIGH salaries, and positive coeficients are associated with cities that are more likely to have HIGH salaries."
   ]
  },
  {
   "cell_type": "markdown",
   "metadata": {
    "focus": false,
    "id": "0ef04f32-419c-4bf2-baf7-48201f03df89"
   },
   "source": [
    "#### Create a few new variables in your dataframe to represent interesting features of a job title.\n",
    "- For example, create a feature that represents whether 'Senior' is in the title, \n",
    "- or whether 'Manager' is in the title. \n",
    "- Then build a new Logistic Regression model with these features. Do they add any value? \n"
   ]
  },
  {
   "cell_type": "code",
   "execution_count": 170,
   "metadata": {
    "collapsed": false
   },
   "outputs": [
    {
     "name": "stdout",
     "output_type": "stream",
     "text": [
      "analyst 77\n",
      "research 63\n",
      "specialist 11\n",
      "senior 34\n",
      "manager 8\n"
     ]
    },
    {
     "data": {
      "text/html": [
       "<div>\n",
       "<table border=\"1\" class=\"dataframe\">\n",
       "  <thead>\n",
       "    <tr style=\"text-align: right;\">\n",
       "      <th></th>\n",
       "      <th>location</th>\n",
       "      <th>job</th>\n",
       "      <th>comp</th>\n",
       "      <th>salary</th>\n",
       "      <th>anual_salary</th>\n",
       "      <th>city</th>\n",
       "      <th>sal_class</th>\n",
       "      <th>analyst</th>\n",
       "      <th>research</th>\n",
       "      <th>specialist</th>\n",
       "      <th>senior</th>\n",
       "      <th>manager</th>\n",
       "    </tr>\n",
       "  </thead>\n",
       "  <tbody>\n",
       "    <tr>\n",
       "      <th>0</th>\n",
       "      <td>Houston, TX</td>\n",
       "      <td>Research Financial Analyst II</td>\n",
       "      <td>Baylor College of Medicine</td>\n",
       "      <td>$65,000 a year</td>\n",
       "      <td>65000.0</td>\n",
       "      <td>Houston</td>\n",
       "      <td>LOW</td>\n",
       "      <td>1</td>\n",
       "      <td>1</td>\n",
       "      <td>0</td>\n",
       "      <td>0</td>\n",
       "      <td>0</td>\n",
       "    </tr>\n",
       "    <tr>\n",
       "      <th>1</th>\n",
       "      <td>Houston, TX</td>\n",
       "      <td>Sr. Bioinformatics Programmer</td>\n",
       "      <td>Baylor College of Medicine</td>\n",
       "      <td>$70,000 - $91,000 a year</td>\n",
       "      <td>80500.0</td>\n",
       "      <td>Houston</td>\n",
       "      <td>HIGH</td>\n",
       "      <td>0</td>\n",
       "      <td>0</td>\n",
       "      <td>0</td>\n",
       "      <td>1</td>\n",
       "      <td>0</td>\n",
       "    </tr>\n",
       "    <tr>\n",
       "      <th>2</th>\n",
       "      <td>Tempe, AZ</td>\n",
       "      <td>Data Analysis Specialist</td>\n",
       "      <td>Arizona State University</td>\n",
       "      <td>$47,476 - $60,000 a year</td>\n",
       "      <td>53738.0</td>\n",
       "      <td>Tempe</td>\n",
       "      <td>LOW</td>\n",
       "      <td>1</td>\n",
       "      <td>0</td>\n",
       "      <td>1</td>\n",
       "      <td>0</td>\n",
       "      <td>0</td>\n",
       "    </tr>\n",
       "    <tr>\n",
       "      <th>3</th>\n",
       "      <td>Phoenix, AZ 85003 (Central City area)</td>\n",
       "      <td>Research Analyst</td>\n",
       "      <td>Maricopa County, AZ</td>\n",
       "      <td>$44,616 - $82,618 a year</td>\n",
       "      <td>63617.0</td>\n",
       "      <td>Phoenix</td>\n",
       "      <td>LOW</td>\n",
       "      <td>1</td>\n",
       "      <td>1</td>\n",
       "      <td>0</td>\n",
       "      <td>0</td>\n",
       "      <td>0</td>\n",
       "    </tr>\n",
       "    <tr>\n",
       "      <th>4</th>\n",
       "      <td>Phoenix, AZ</td>\n",
       "      <td>RESEARCH AND STATISTICAL ANALYST</td>\n",
       "      <td>Arizona Health Care Cost Containment System</td>\n",
       "      <td>$39,983 - $55,500 a year</td>\n",
       "      <td>47741.5</td>\n",
       "      <td>Phoenix</td>\n",
       "      <td>LOW</td>\n",
       "      <td>1</td>\n",
       "      <td>1</td>\n",
       "      <td>0</td>\n",
       "      <td>0</td>\n",
       "      <td>0</td>\n",
       "    </tr>\n",
       "  </tbody>\n",
       "</table>\n",
       "</div>"
      ],
      "text/plain": [
       "                                location                               job  \\\n",
       "0                            Houston, TX     Research Financial Analyst II   \n",
       "1                            Houston, TX     Sr. Bioinformatics Programmer   \n",
       "2                              Tempe, AZ          Data Analysis Specialist   \n",
       "3  Phoenix, AZ 85003 (Central City area)                  Research Analyst   \n",
       "4                            Phoenix, AZ  RESEARCH AND STATISTICAL ANALYST   \n",
       "\n",
       "                                          comp                    salary  \\\n",
       "0                   Baylor College of Medicine            $65,000 a year   \n",
       "1                   Baylor College of Medicine  $70,000 - $91,000 a year   \n",
       "2                     Arizona State University  $47,476 - $60,000 a year   \n",
       "3                          Maricopa County, AZ  $44,616 - $82,618 a year   \n",
       "4  Arizona Health Care Cost Containment System  $39,983 - $55,500 a year   \n",
       "\n",
       "   anual_salary     city sal_class  analyst  research  specialist  senior  \\\n",
       "0       65000.0  Houston       LOW        1         1           0       0   \n",
       "1       80500.0  Houston      HIGH        0         0           0       1   \n",
       "2       53738.0    Tempe       LOW        1         0           1       0   \n",
       "3       63617.0  Phoenix       LOW        1         1           0       0   \n",
       "4       47741.5  Phoenix       LOW        1         1           0       0   \n",
       "\n",
       "   manager  \n",
       "0        0  \n",
       "1        0  \n",
       "2        0  \n",
       "3        0  \n",
       "4        0  "
      ]
     },
     "execution_count": 170,
     "metadata": {},
     "output_type": "execute_result"
    }
   ],
   "source": [
    "df[\"analyst\"] = map(int, df[\"job\"].str.lower().str.contains(\"analy\"))\n",
    "df[\"research\"] = map(int, df[\"job\"].str.lower().str.contains(\"research\"))\n",
    "df[\"specialist\"] = map(int, df[\"job\"].str.lower().str.contains(\"special\"))\n",
    "df[\"senior\"] = map(int, (df[\"job\"].str.lower().str.contains(\"senior\") |\n",
    "                         df[\"job\"].str.lower().str.contains(\"snr\") |\n",
    "                         df[\"job\"].str.lower().str.contains(\"sr.\")))\n",
    "df[\"manager\"] = map(int, df[\"job\"].str.lower().str.contains(\"manager\"))\n",
    "\n",
    "job_title_feature_names = [\"analyst\", \"research\", \"specialist\", \"senior\", \"manager\"]\n",
    "for feature in job_title_feature_names:\n",
    "    print(feature, df[feature].sum())\n",
    "\n",
    "df.head()"
   ]
  },
  {
   "cell_type": "code",
   "execution_count": 171,
   "metadata": {
    "collapsed": false
   },
   "outputs": [
    {
     "name": "stdout",
     "output_type": "stream",
     "text": [
      "(196, 5)\n",
      "   analyst  research  specialist  senior  manager\n",
      "0        1         1           0       0        0\n",
      "1        0         0           0       1        0\n",
      "2        1         0           1       0        0\n",
      "3        1         1           0       0        0\n",
      "4        1         1           0       0        0\n",
      "(196,)\n",
      "0    0\n",
      "1    1\n",
      "2    0\n",
      "3    0\n",
      "4    0\n",
      "Name: sal_class, dtype: int64\n"
     ]
    }
   ],
   "source": [
    "df_features_for_sm_job_titles = df[job_title_feature_names]\n",
    "df_target_for_sm = df[\"sal_class\"].replace({\"HIGH\":1, \"LOW\":0})\n",
    "\n",
    "print(df_features_for_sm_job_titles.shape)\n",
    "print(df_features_for_sm_job_titles.head())\n",
    "print(df_target_for_sm.shape)\n",
    "print(df_target_for_sm.head())"
   ]
  },
  {
   "cell_type": "code",
   "execution_count": 172,
   "metadata": {
    "collapsed": false,
    "focus": false,
    "id": "068dc1cf-7fd7-4f27-a1f1-7f0a5a221d29"
   },
   "outputs": [
    {
     "name": "stdout",
     "output_type": "stream",
     "text": [
      "Optimization terminated successfully.\n",
      "         Current function value: 0.641014\n",
      "         Iterations 6\n"
     ]
    },
    {
     "data": {
      "text/html": [
       "<table class=\"simpletable\">\n",
       "<caption>Logit Regression Results</caption>\n",
       "<tr>\n",
       "  <th>Dep. Variable:</th>     <td>sal_class</td>    <th>  No. Observations:  </th>  <td>   196</td>  \n",
       "</tr>\n",
       "<tr>\n",
       "  <th>Model:</th>               <td>Logit</td>      <th>  Df Residuals:      </th>  <td>   191</td>  \n",
       "</tr>\n",
       "<tr>\n",
       "  <th>Method:</th>               <td>MLE</td>       <th>  Df Model:          </th>  <td>     4</td>  \n",
       "</tr>\n",
       "<tr>\n",
       "  <th>Date:</th>          <td>Sat, 05 Nov 2016</td> <th>  Pseudo R-squ.:     </th>  <td>0.07493</td> \n",
       "</tr>\n",
       "<tr>\n",
       "  <th>Time:</th>              <td>17:30:52</td>     <th>  Log-Likelihood:    </th> <td> -125.64</td> \n",
       "</tr>\n",
       "<tr>\n",
       "  <th>converged:</th>           <td>True</td>       <th>  LL-Null:           </th> <td> -135.82</td> \n",
       "</tr>\n",
       "<tr>\n",
       "  <th> </th>                      <td> </td>        <th>  LLR p-value:       </th> <td>0.0004250</td>\n",
       "</tr>\n",
       "</table>\n",
       "<table class=\"simpletable\">\n",
       "<tr>\n",
       "       <td></td>         <th>coef</th>     <th>std err</th>      <th>z</th>      <th>P>|z|</th> <th>[95.0% Conf. Int.]</th> \n",
       "</tr>\n",
       "<tr>\n",
       "  <th>analyst</th>    <td>   -0.1397</td> <td>    0.317</td> <td>   -0.440</td> <td> 0.660</td> <td>   -0.762     0.482</td>\n",
       "</tr>\n",
       "<tr>\n",
       "  <th>research</th>   <td>   -0.6148</td> <td>    0.356</td> <td>   -1.729</td> <td> 0.084</td> <td>   -1.312     0.082</td>\n",
       "</tr>\n",
       "<tr>\n",
       "  <th>specialist</th> <td>   -2.0734</td> <td>    1.056</td> <td>   -1.964</td> <td> 0.049</td> <td>   -4.142    -0.005</td>\n",
       "</tr>\n",
       "<tr>\n",
       "  <th>senior</th>     <td>    0.8801</td> <td>    0.377</td> <td>    2.334</td> <td> 0.020</td> <td>    0.141     1.619</td>\n",
       "</tr>\n",
       "<tr>\n",
       "  <th>manager</th>    <td>    0.5163</td> <td>    0.745</td> <td>    0.693</td> <td> 0.488</td> <td>   -0.944     1.976</td>\n",
       "</tr>\n",
       "</table>"
      ],
      "text/plain": [
       "<class 'statsmodels.iolib.summary.Summary'>\n",
       "\"\"\"\n",
       "                           Logit Regression Results                           \n",
       "==============================================================================\n",
       "Dep. Variable:              sal_class   No. Observations:                  196\n",
       "Model:                          Logit   Df Residuals:                      191\n",
       "Method:                           MLE   Df Model:                            4\n",
       "Date:                Sat, 05 Nov 2016   Pseudo R-squ.:                 0.07493\n",
       "Time:                        17:30:52   Log-Likelihood:                -125.64\n",
       "converged:                       True   LL-Null:                       -135.82\n",
       "                                        LLR p-value:                 0.0004250\n",
       "==============================================================================\n",
       "                 coef    std err          z      P>|z|      [95.0% Conf. Int.]\n",
       "------------------------------------------------------------------------------\n",
       "analyst       -0.1397      0.317     -0.440      0.660        -0.762     0.482\n",
       "research      -0.6148      0.356     -1.729      0.084        -1.312     0.082\n",
       "specialist    -2.0734      1.056     -1.964      0.049        -4.142    -0.005\n",
       "senior         0.8801      0.377      2.334      0.020         0.141     1.619\n",
       "manager        0.5163      0.745      0.693      0.488        -0.944     1.976\n",
       "==============================================================================\n",
       "\"\"\""
      ]
     },
     "execution_count": 172,
     "metadata": {},
     "output_type": "execute_result"
    }
   ],
   "source": [
    "sm_model_job_titles = sm.Logit(df_target_for_sm, df_features_for_sm_job_titles)\n",
    "sm_model_job_titles_result = sm_model_job_titles.fit() \n",
    "sm_model_job_titles_result.summary()"
   ]
  },
  {
   "cell_type": "markdown",
   "metadata": {},
   "source": [
    "Looking at the coefficients we can see that senior roles are more associated with high salaries than manager roles.  We can also see that specialist roles are negatively associated with high salaries."
   ]
  },
  {
   "cell_type": "markdown",
   "metadata": {
    "focus": false,
    "id": "9c9274ef-c9f5-4d56-b286-ecc8709eff9f"
   },
   "source": [
    "#### Rebuild this model with scikit-learn.\n",
    "- You can either create the dummy features manually or use the `dmatrix` function from `patsy`\n",
    "- Remember to scale the feature variables as well!\n"
   ]
  },
  {
   "cell_type": "code",
   "execution_count": 173,
   "metadata": {
    "collapsed": true
   },
   "outputs": [],
   "source": [
    "def examine_coefficients(model, df):\n",
    "    df = pd.DataFrame(\n",
    "        { 'Coefficient' : model.coef_[0] , 'Feature' : df.columns}\n",
    "    ).sort_values(by='Coefficient')\n",
    "    return df[df.Coefficient !=0 ]"
   ]
  },
  {
   "cell_type": "code",
   "execution_count": 174,
   "metadata": {
    "collapsed": false
   },
   "outputs": [
    {
     "name": "stdout",
     "output_type": "stream",
     "text": [
      "(196, 5)\n",
      "   analyst  research  specialist  senior  manager\n",
      "0        1         1           0       0        0\n",
      "1        0         0           0       1        0\n",
      "2        1         0           1       0        0\n",
      "3        1         1           0       0        0\n",
      "4        1         1           0       0        0\n",
      "(196,)\n",
      "0    0\n",
      "1    1\n",
      "2    0\n",
      "3    0\n",
      "4    0\n",
      "Name: sal_class, dtype: int64\n"
     ]
    }
   ],
   "source": [
    "# define X features and y target variables\n",
    "\n",
    "X = df[job_title_feature_names]\n",
    "y = df[\"sal_class\"].replace({\"HIGH\":1, \"LOW\":0})\n",
    "\n",
    "print(X.shape)\n",
    "print(X.head())\n",
    "print(y.shape)\n",
    "print(y.head())"
   ]
  },
  {
   "cell_type": "code",
   "execution_count": 175,
   "metadata": {
    "collapsed": false,
    "focus": false,
    "id": "b76f65cd-cd3a-4e91-af55-12880be7b057"
   },
   "outputs": [],
   "source": [
    "from sklearn.linear_model import LogisticRegression\n",
    "from sklearn.metrics import mean_squared_error, mean_absolute_error, r2_score\n",
    "from sklearn.model_selection import cross_val_predict, cross_val_score"
   ]
  },
  {
   "cell_type": "code",
   "execution_count": 176,
   "metadata": {
    "collapsed": false
   },
   "outputs": [
    {
     "data": {
      "text/html": [
       "<div>\n",
       "<table border=\"1\" class=\"dataframe\">\n",
       "  <thead>\n",
       "    <tr style=\"text-align: right;\">\n",
       "      <th></th>\n",
       "      <th>Coefficient</th>\n",
       "      <th>Feature</th>\n",
       "    </tr>\n",
       "  </thead>\n",
       "  <tbody>\n",
       "    <tr>\n",
       "      <th>2</th>\n",
       "      <td>-1.355220</td>\n",
       "      <td>specialist</td>\n",
       "    </tr>\n",
       "    <tr>\n",
       "      <th>1</th>\n",
       "      <td>-0.738345</td>\n",
       "      <td>research</td>\n",
       "    </tr>\n",
       "    <tr>\n",
       "      <th>0</th>\n",
       "      <td>-0.413262</td>\n",
       "      <td>analyst</td>\n",
       "    </tr>\n",
       "    <tr>\n",
       "      <th>4</th>\n",
       "      <td>0.129406</td>\n",
       "      <td>manager</td>\n",
       "    </tr>\n",
       "    <tr>\n",
       "      <th>3</th>\n",
       "      <td>0.519567</td>\n",
       "      <td>senior</td>\n",
       "    </tr>\n",
       "  </tbody>\n",
       "</table>\n",
       "</div>"
      ],
      "text/plain": [
       "   Coefficient     Feature\n",
       "2    -1.355220  specialist\n",
       "1    -0.738345    research\n",
       "0    -0.413262     analyst\n",
       "4     0.129406     manager\n",
       "3     0.519567      senior"
      ]
     },
     "execution_count": 176,
     "metadata": {},
     "output_type": "execute_result"
    }
   ],
   "source": [
    "logreg_ridge_linear = LogisticRegression()\n",
    "# same as \n",
    "# logreg_ridge_linear = LogisticRegression(penalty=\"l2\", solver=\"liblinear\")\n",
    "logreg_ridge_linear.fit(X, y)\n",
    "examine_coefficients(logreg_ridge_linear, X)"
   ]
  },
  {
   "cell_type": "markdown",
   "metadata": {},
   "source": [
    "As expected, using sklearn having \"senior\" in the job title is more correlated to a high salary than \"manager\", just like when using statsmodels.  Using \"specialist\" in the job title continues to be negatively correlated with a high salary."
   ]
  },
  {
   "cell_type": "markdown",
   "metadata": {
    "focus": false,
    "id": "9367beff-72ba-4768-a0ba-a50b335de61d"
   },
   "source": [
    "#### Use cross-validation in scikit-learn to evaluate the model above. \n",
    "- Evaluate the accuracy, AUC, precision and recall of the model. \n",
    "- Discuss the differences and explain when you want a high-recall or a high-precision model in this scenario."
   ]
  },
  {
   "cell_type": "code",
   "execution_count": 177,
   "metadata": {
    "collapsed": false
   },
   "outputs": [
    {
     "name": "stdout",
     "output_type": "stream",
     "text": [
      "mean accuracy : 0.617368421053 \n",
      "all scores : [ 0.8         0.5         0.65        0.45        0.65        0.65\n",
      "  0.84210526  0.52631579  0.47368421  0.63157895] \n",
      "\n",
      "mean precision : 0.623248695749 \n",
      "all scores : [ 0.875       0.5         0.6         0.46666667  0.63636364  0.71428571\n",
      "  0.76923077  0.55555556  0.5         0.61538462] \n",
      "\n",
      "mean recall : 0.72 \n",
      "all scores : [ 0.7  0.8  0.9  0.7  0.7  0.5  1.   0.5  0.6  0.8] \n",
      "\n",
      "mean roc_auc : 0.646444444444 \n",
      "all scores : [ 0.8         0.48        0.745       0.46        0.745       0.64\n",
      "  0.90555556  0.52777778  0.43888889  0.72222222] \n",
      "\n"
     ]
    }
   ],
   "source": [
    "for metric in ['accuracy', 'precision', 'recall', 'roc_auc']:\n",
    "    scores = cross_val_score(logreg_ridge_linear, X, y, cv=10, scoring=metric)\n",
    "    print('mean', metric, ':', scores.mean(), '\\nall scores :', scores, \"\\n\")"
   ]
  },
  {
   "cell_type": "markdown",
   "metadata": {},
   "source": [
    "Using these features improves accuracy from the base model, so we can conclude that they are useful for predicting if the salary for a position will be under or above the median."
   ]
  },
  {
   "cell_type": "markdown",
   "metadata": {
    "focus": false,
    "id": "8c22664b-92e4-4fc2-b7ac-fbac865845d3"
   },
   "source": [
    "#### Compare L1 and L2 regularization for this logistic regression model. What effect does this have on the coefficients learned?"
   ]
  },
  {
   "cell_type": "code",
   "execution_count": 178,
   "metadata": {
    "collapsed": false,
    "focus": false,
    "id": "172fd952-5012-4630-81f4-1206da6eb820"
   },
   "outputs": [
    {
     "data": {
      "text/html": [
       "<div>\n",
       "<table border=\"1\" class=\"dataframe\">\n",
       "  <thead>\n",
       "    <tr style=\"text-align: right;\">\n",
       "      <th></th>\n",
       "      <th>Coefficient</th>\n",
       "      <th>Feature</th>\n",
       "    </tr>\n",
       "  </thead>\n",
       "  <tbody>\n",
       "    <tr>\n",
       "      <th>2</th>\n",
       "      <td>-1.567679</td>\n",
       "      <td>specialist</td>\n",
       "    </tr>\n",
       "    <tr>\n",
       "      <th>1</th>\n",
       "      <td>-0.732410</td>\n",
       "      <td>research</td>\n",
       "    </tr>\n",
       "    <tr>\n",
       "      <th>0</th>\n",
       "      <td>-0.353926</td>\n",
       "      <td>analyst</td>\n",
       "    </tr>\n",
       "    <tr>\n",
       "      <th>3</th>\n",
       "      <td>0.454142</td>\n",
       "      <td>senior</td>\n",
       "    </tr>\n",
       "  </tbody>\n",
       "</table>\n",
       "</div>"
      ],
      "text/plain": [
       "   Coefficient     Feature\n",
       "2    -1.567679  specialist\n",
       "1    -0.732410    research\n",
       "0    -0.353926     analyst\n",
       "3     0.454142      senior"
      ]
     },
     "execution_count": 178,
     "metadata": {},
     "output_type": "execute_result"
    }
   ],
   "source": [
    "# The logreg_ridge_linear model built above is using L2 regularization.\n",
    "\n",
    "logreg_lasso = LogisticRegression(penalty=\"l1\")\n",
    "logreg_lasso.fit(X, y)\n",
    "examine_coefficients(logreg_lasso, X)"
   ]
  },
  {
   "cell_type": "markdown",
   "metadata": {},
   "source": [
    "Lasso regression will select only the most relevant features.  We can see that there is no corfficient for manager in the job title.  This may be because it is not relevant, or because this word appears in only a few rows from our dataframe.  (We checked the numbers after creating these features.)"
   ]
  },
  {
   "cell_type": "code",
   "execution_count": 179,
   "metadata": {
    "collapsed": false
   },
   "outputs": [
    {
     "data": {
      "text/html": [
       "<div>\n",
       "<table border=\"1\" class=\"dataframe\">\n",
       "  <thead>\n",
       "    <tr style=\"text-align: right;\">\n",
       "      <th></th>\n",
       "      <th>Coefficient</th>\n",
       "      <th>Feature</th>\n",
       "    </tr>\n",
       "  </thead>\n",
       "  <tbody>\n",
       "    <tr>\n",
       "      <th>2</th>\n",
       "      <td>-1.364142</td>\n",
       "      <td>specialist</td>\n",
       "    </tr>\n",
       "    <tr>\n",
       "      <th>1</th>\n",
       "      <td>-0.746578</td>\n",
       "      <td>research</td>\n",
       "    </tr>\n",
       "    <tr>\n",
       "      <th>0</th>\n",
       "      <td>-0.424868</td>\n",
       "      <td>analyst</td>\n",
       "    </tr>\n",
       "    <tr>\n",
       "      <th>4</th>\n",
       "      <td>0.119642</td>\n",
       "      <td>manager</td>\n",
       "    </tr>\n",
       "    <tr>\n",
       "      <th>3</th>\n",
       "      <td>0.507755</td>\n",
       "      <td>senior</td>\n",
       "    </tr>\n",
       "  </tbody>\n",
       "</table>\n",
       "</div>"
      ],
      "text/plain": [
       "   Coefficient     Feature\n",
       "2    -1.364142  specialist\n",
       "1    -0.746578    research\n",
       "0    -0.424868     analyst\n",
       "4     0.119642     manager\n",
       "3     0.507755      senior"
      ]
     },
     "execution_count": 179,
     "metadata": {},
     "output_type": "execute_result"
    }
   ],
   "source": [
    "# Using a different solver for L2 regularization.\n",
    "\n",
    "logreg_ridge_newton = LogisticRegression(penalty=\"l2\", solver=\"newton-cg\")\n",
    "logreg_ridge_newton.fit(X, y)\n",
    "examine_coefficients(logreg_ridge_newton, X)"
   ]
  },
  {
   "cell_type": "markdown",
   "metadata": {},
   "source": [
    "Using a different solver produces different values for the coefficients, but their ordering is the same.  This needs to be compared to logreg_ridge_linear, if we want to compare the coefficients for all the features."
   ]
  },
  {
   "cell_type": "markdown",
   "metadata": {},
   "source": [
    "One interesting improvement to what I did would be to automatically select the most common words from the job titles and use them all as features with lasso regression."
   ]
  },
  {
   "cell_type": "markdown",
   "metadata": {},
   "source": [
    "# Summary\n",
    "\n",
    "The first part of this project turned out to be the one that took the greatest amount of time.     Even web pages that are supposedly easy to scrape turn out to be a challenge, with the additional caveat that they can change over time.\n",
    "\n",
    "One of the lessons learned is that it's important to save the scraped data regularly, if we want to be able to reproduce our results.\n",
    "\n",
    "After having the data, I realised that many rows were repeated and very few rows contained salary information (around 200 out of 56000).  Because of time constraints, I decided to continue with the project, instead of risking not being able to submit it in time.  This is the reason why my dataset is relatively small.\n",
    "\n",
    "Creating the regression models was relatively simple, but I'm not sure if I did what was expected or if I misinterpreted the results.\n",
    "\n",
    "Given the small size of the dataset, the models' predictions are not very accurate.  Maybe using more words from the title and then Lasso regression would produce better results.  This is something to experiment with in the future.\n",
    "\n",
    "The main take away according to the data that I scraped is that for data scientists, senior roles are more likely to have a high salary than other roles, including manager roles.  This is to be expected, as experience tends to be highly valued in the job market.\n",
    "\n",
    "This can be easily verified in the folowing plot."
   ]
  },
  {
   "cell_type": "code",
   "execution_count": 205,
   "metadata": {
    "collapsed": false
   },
   "outputs": [
    {
     "data": {
      "text/plain": [
       "<matplotlib.axes._subplots.AxesSubplot at 0x119a27190>"
      ]
     },
     "execution_count": 205,
     "metadata": {},
     "output_type": "execute_result"
    },
    {
     "data": {
      "image/png": "[encoded data removed]",
      "text/plain": [
       "<matplotlib.figure.Figure at 0x119a434d0>"
      ]
     },
     "metadata": {},
     "output_type": "display_data"
    }
   ],
   "source": [
    "job_counts = []\n",
    "for feature in job_title_feature_names:\n",
    "    have_feature = df[df[feature] == 1]\n",
    "    count_high = have_feature[\"sal_class\"].value_counts()[\"HIGH\"]\n",
    "    count_low = have_feature[\"sal_class\"].value_counts()[\"LOW\"]\n",
    "    job_counts.append([count_high, count_low])\n",
    "\n",
    "df_plot = pd.DataFrame(job_counts, \n",
    "                       columns=[\"high_salary\", \"low_salary\"],\n",
    "                          index=job_title_feature_names)\n",
    "\n",
    "df_plot.plot.barh(stacked=True, title=\"High and low salaries per role\")"
   ]
  },
  {
   "cell_type": "markdown",
   "metadata": {
    "collapsed": true
   },
   "source": [
    "## Blog post summary\n",
    "\n",
    "Blog post here:\n",
    "\n",
    "https://acardocacho.github.io/project04/"
   ]
  },
  {
   "cell_type": "code",
   "execution_count": null,
   "metadata": {
    "collapsed": true
   },
   "outputs": [],
   "source": []
  }
 ],
 "metadata": {
  "anaconda-cloud": {},
  "kernelspec": {
   "display_name": "Python [default]",
   "language": "python",
   "name": "python2"
  },
  "language_info": {
   "codemirror_mode": {
    "name": "ipython",
    "version": 2
   },
   "file_extension": ".py",
   "mimetype": "text/x-python",
   "name": "python",
   "nbconvert_exporter": "python",
   "pygments_lexer": "ipython2",
   "version": "2.7.12"
  }
 },
 "nbformat": 4,
 "nbformat_minor": 0
}
