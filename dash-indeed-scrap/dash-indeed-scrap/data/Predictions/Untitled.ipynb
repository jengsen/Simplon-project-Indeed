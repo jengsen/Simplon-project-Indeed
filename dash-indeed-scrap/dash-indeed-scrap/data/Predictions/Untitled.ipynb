{
 "cells": [
  {
   "cell_type": "code",
   "execution_count": 2,
   "metadata": {},
   "outputs": [],
   "source": [
    "import pandas as pd\n",
    "import json"
   ]
  },
  {
   "cell_type": "code",
   "execution_count": 6,
   "metadata": {},
   "outputs": [],
   "source": [
    "ddf = pd.read_json('main_features_Ada Boost.json')"
   ]
  },
  {
   "cell_type": "code",
   "execution_count": 4,
   "metadata": {},
   "outputs": [
    {
     "name": "stdout",
     "output_type": "stream",
     "text": [
      "<_io.TextIOWrapper name='main_features_Ada Boost.json' mode='r' encoding='UTF-8'>\n"
     ]
    }
   ],
   "source": [
    "with open('main_features_Ada Boost.json') as json_data:\n",
    "    print(json_data)"
   ]
  },
  {
   "cell_type": "code",
   "execution_count": 27,
   "metadata": {
    "scrolled": true
   },
   "outputs": [
    {
     "ename": "AttributeError",
     "evalue": "'str' object has no attribute 'head'",
     "output_type": "error",
     "traceback": [
      "\u001b[0;31m---------------------------------------------------------------------------\u001b[0m",
      "\u001b[0;31mAttributeError\u001b[0m                            Traceback (most recent call last)",
      "\u001b[0;32m<ipython-input-27-795de2259f05>\u001b[0m in \u001b[0;36m<module>\u001b[0;34m\u001b[0m\n\u001b[0;32m----> 1\u001b[0;31m \u001b[0mprint\u001b[0m\u001b[0;34m(\u001b[0m\u001b[0mddf\u001b[0m\u001b[0;34m.\u001b[0m\u001b[0mto_json\u001b[0m\u001b[0;34m(\u001b[0m\u001b[0;34m)\u001b[0m\u001b[0;34m.\u001b[0m\u001b[0mhead\u001b[0m\u001b[0;34m(\u001b[0m\u001b[0;34m)\u001b[0m\u001b[0;34m)\u001b[0m\u001b[0;34m\u001b[0m\u001b[0;34m\u001b[0m\u001b[0m\n\u001b[0m",
      "\u001b[0;31mAttributeError\u001b[0m: 'str' object has no attribute 'head'"
     ]
    }
   ],
   "source": [
    "print(ddf.to_json()"
   ]
  },
  {
   "cell_type": "code",
   "execution_count": 15,
   "metadata": {},
   "outputs": [],
   "source": [
    "df_svm = pd.read_json('main_features_SVM.json', orient='columns')\n",
    "df_log = pd.read_json('main_features_Log Reg.json')\n",
    "df_rf = pd.read_json('main_features_Random Forest.json')\n",
    "df_ada = pd.read_json('main_features_Ada Boost.json')\n",
    "df_gbo = pd.read_json('main_features_Gradient Boost.json')\n",
    "df_xgbo = pd.read_json('main_features_X Gradient Boost.json')\n",
    "\n",
    "data_pred_km = {\n",
    "        'REGLOG': df_log,\n",
    "        'SVM': df_svm,\n",
    "        'RF': df_rf,\n",
    "        'ADA': df_ada,\n",
    "        'GBO': df_gbo,\n",
    "        'XGBO': df_xgbo\n",
    "    }`"
   ]
  },
  {
   "cell_type": "code",
   "execution_count": 24,
   "metadata": {},
   "outputs": [
    {
     "data": {
      "text/plain": [
       "dict_values"
      ]
     },
     "execution_count": 24,
     "metadata": {},
     "output_type": "execute_result"
    }
   ],
   "source": [
    "type(data_pred_km.values())"
   ]
  },
  {
   "cell_type": "code",
   "execution_count": null,
   "metadata": {},
   "outputs": [],
   "source": [
    "data_pred_km = {\n",
    "        'REGLOG': df_log,\n",
    "        'SVM': df_svm,\n",
    "        'RF': df_rf,\n",
    "        'ADA': df_ada,\n",
    "        'GBO': df_gbo,\n",
    "        'XGBO': df_xgbo\n",
    "    }\n",
    "\n",
    "html.Div([\n",
    "    html.Div([html.H1(\"NHL Entry Draft 2013\")], className=\"row\", style={'textAlign': \"center\"}),\n",
    "    html.Div([html.Span(\"Modèles à choisir\", style={'textAlign': \"center\", \"display\": \"block\"}),\n",
    "              dcc.Dropdown(id='column-selected',multi=False, value=['REGLOG'],\n",
    "                           options=[{\"label\": i, 'value': i} for i.value in data_pred_km],\n",
    "                           style={\"display\": \"block\", \"margin-left\": \"auto\", \"margin-right\": \"auto\", \"width\": \"60%\"})\n",
    "              ], className=\"row\", style={\"padding\": 10}),\n",
    "    html.Div([dcc.Graph(id=\"my-graph3\")], className=\"row\", style={\"padding\": 20}),\n",
    "], )\n",
    "\n",
    "\n",
    "@app.callback(\n",
    "    Output(\"my-graph3\", \"figure\"),\n",
    "    [Input(\"column-selected\", \"value\")])\n",
    "def update_graph(rows):\n",
    "    if rows is None:\n",
    "        dff = df\n",
    "    else:\n",
    "        dff = pd.DataFrame(rows)\n",
    "\n",
    "    return html.Div()"
   ]
  },
  {
   "cell_type": "code",
   "execution_count": null,
   "metadata": {},
   "outputs": [],
   "source": [
    "app.layout = html.Div([\n",
    "    dcc.Upload(\n",
    "        id='datatable-upload',\n",
    "        children=html.Div([\n",
    "            'Drag and Drop or ',\n",
    "            html.A('Select Files')\n",
    "        ]),\n",
    "        style={\n",
    "            'width': '100%', 'height': '60px', 'lineHeight': '60px',\n",
    "            'borderWidth': '1px', 'borderStyle': 'dashed',\n",
    "            'borderRadius': '5px', 'textAlign': 'center', 'margin': '10px'\n",
    "        },\n",
    "    ),\n",
    "    dash_table.DataTable(id='datatable-upload-container'),\n",
    "    dcc.Graph(id='datatable-upload-graph')\n",
    "])\n",
    "\n",
    "\n",
    "def parse_contents(contents, filename):\n",
    "    content_type, content_string = contents.split(',')\n",
    "    decoded = base64.b64decode(content_string)\n",
    "    if 'csv' in filename:\n",
    "        # Assume that the user uploaded a CSV file\n",
    "        return pd.read_csv(\n",
    "            io.StringIO(decoded.decode('utf-8')))\n",
    "    elif 'xls' in filename:\n",
    "        # Assume that the user uploaded an excel file\n",
    "        return pd.read_excel(io.BytesIO(decoded))\n",
    "\n",
    "\n",
    "@app.callback([Output('datatable-upload-container', 'data'),\n",
    "               Output('datatable-upload-container', 'columns')],\n",
    "              [Input('datatable-upload', 'contents')],\n",
    "              [State('datatable-upload', 'filename')])\n",
    "def update_output(contents, filename):\n",
    "    if contents is None:\n",
    "        return [{}], []\n",
    "    df = parse_contents(contents, filename)\n",
    "    return df.to_dict('records'), [{\"name\": i, \"id\": i} for i in df.columns]\n",
    "\n",
    "\n",
    "@app.callback(Output('datatable-upload-graph', 'figure'),\n",
    "              [Input('datatable-upload-container', 'data')])\n",
    "def display_graph(rows):\n",
    "    df = pd.DataFrame(rows)\n",
    "\n",
    "    if (df.empty or len(df.columns) < 1):\n",
    "        return {\n",
    "            'data': [{\n",
    "                'x': [],\n",
    "                'y': [],\n",
    "                'type': 'bar'\n",
    "            }]\n",
    "        }\n",
    "    return {\n",
    "        'data': [{\n",
    "            'x': df[df.columns[0]],\n",
    "            'y': df[df.columns[1]],\n",
    "            'type': 'bar'\n",
    "        }]\n",
    "    }\n",
    "\n"
   ]
  }
 ],
 "metadata": {
  "kernelspec": {
   "display_name": "Python 3",
   "language": "python",
   "name": "python3"
  },
  "language_info": {
   "codemirror_mode": {
    "name": "ipython",
    "version": 3
   },
   "file_extension": ".py",
   "mimetype": "text/x-python",
   "name": "python",
   "nbconvert_exporter": "python",
   "pygments_lexer": "ipython3",
   "version": "3.7.3"
  }
 },
 "nbformat": 4,
 "nbformat_minor": 2
}
