{
 "cells": [
  {
   "cell_type": "code",
   "execution_count": 2,
   "metadata": {},
   "outputs": [],
   "source": [
    "import pandas as pd\n",
    "import numpy as np\n",
    "import matplotlib.pyplot as plt\n",
    "import seaborn as seabornInstance\n",
    "from sklearn.model_selection import train_test_split\n",
    "from sklearn.linear_model import LinearRegression\n",
    "from sklearn.preprocessing import PolynomialFeatures\n",
    "from sklearn import metrics\n",
    "%matplotlib inline"
   ]
  },
  {
   "cell_type": "markdown",
   "metadata": {},
   "source": [
    "# Modèle RL with salary_relevant_rows.csv"
   ]
  },
  {
   "cell_type": "code",
   "execution_count": 5,
   "metadata": {},
   "outputs": [],
   "source": [
    "salary = pd.read_csv('salary_relevant_rows.csv')"
   ]
  },
  {
   "cell_type": "code",
   "execution_count": 6,
   "metadata": {},
   "outputs": [
    {
     "data": {
      "text/plain": [
       "(203, 6)"
      ]
     },
     "execution_count": 6,
     "metadata": {},
     "output_type": "execute_result"
    }
   ],
   "source": [
    "salary.shape"
   ]
  },
  {
   "cell_type": "code",
   "execution_count": 7,
   "metadata": {},
   "outputs": [
    {
     "data": {
      "text/html": [
       "<div>\n",
       "<style scoped>\n",
       "    .dataframe tbody tr th:only-of-type {\n",
       "        vertical-align: middle;\n",
       "    }\n",
       "\n",
       "    .dataframe tbody tr th {\n",
       "        vertical-align: top;\n",
       "    }\n",
       "\n",
       "    .dataframe thead th {\n",
       "        text-align: right;\n",
       "    }\n",
       "</style>\n",
       "<table border=\"1\" class=\"dataframe\">\n",
       "  <thead>\n",
       "    <tr style=\"text-align: right;\">\n",
       "      <th></th>\n",
       "      <th>location</th>\n",
       "      <th>job</th>\n",
       "      <th>comp</th>\n",
       "      <th>salary</th>\n",
       "      <th>anual_salary</th>\n",
       "      <th>city</th>\n",
       "    </tr>\n",
       "  </thead>\n",
       "  <tbody>\n",
       "    <tr>\n",
       "      <th>0</th>\n",
       "      <td>Houston, TX</td>\n",
       "      <td>Research Financial Analyst II</td>\n",
       "      <td>Baylor College of Medicine</td>\n",
       "      <td>$65,000 a year</td>\n",
       "      <td>65000.0</td>\n",
       "      <td>Houston</td>\n",
       "    </tr>\n",
       "    <tr>\n",
       "      <th>1</th>\n",
       "      <td>Houston, TX</td>\n",
       "      <td>Sr. Bioinformatics Programmer</td>\n",
       "      <td>Baylor College of Medicine</td>\n",
       "      <td>$70,000 - $91,000 a year</td>\n",
       "      <td>80500.0</td>\n",
       "      <td>Houston</td>\n",
       "    </tr>\n",
       "    <tr>\n",
       "      <th>2</th>\n",
       "      <td>Tempe, AZ</td>\n",
       "      <td>Data Analysis Specialist</td>\n",
       "      <td>Arizona State University</td>\n",
       "      <td>$47,476 - $60,000 a year</td>\n",
       "      <td>53738.0</td>\n",
       "      <td>Tempe</td>\n",
       "    </tr>\n",
       "    <tr>\n",
       "      <th>3</th>\n",
       "      <td>Phoenix, AZ 85003 (Central City area)</td>\n",
       "      <td>Research Analyst</td>\n",
       "      <td>Maricopa County, AZ</td>\n",
       "      <td>$44,616 - $82,618 a year</td>\n",
       "      <td>63617.0</td>\n",
       "      <td>Phoenix</td>\n",
       "    </tr>\n",
       "    <tr>\n",
       "      <th>4</th>\n",
       "      <td>Phoenix, AZ</td>\n",
       "      <td>RESEARCH AND STATISTICAL ANALYST</td>\n",
       "      <td>Arizona Health Care Cost Containment System</td>\n",
       "      <td>$39,983 - $55,500 a year</td>\n",
       "      <td>47741.5</td>\n",
       "      <td>Phoenix</td>\n",
       "    </tr>\n",
       "  </tbody>\n",
       "</table>\n",
       "</div>"
      ],
      "text/plain": [
       "                                location                               job  \\\n",
       "0                            Houston, TX     Research Financial Analyst II   \n",
       "1                            Houston, TX     Sr. Bioinformatics Programmer   \n",
       "2                              Tempe, AZ          Data Analysis Specialist   \n",
       "3  Phoenix, AZ 85003 (Central City area)                  Research Analyst   \n",
       "4                            Phoenix, AZ  RESEARCH AND STATISTICAL ANALYST   \n",
       "\n",
       "                                          comp                    salary  \\\n",
       "0                   Baylor College of Medicine            $65,000 a year   \n",
       "1                   Baylor College of Medicine  $70,000 - $91,000 a year   \n",
       "2                     Arizona State University  $47,476 - $60,000 a year   \n",
       "3                          Maricopa County, AZ  $44,616 - $82,618 a year   \n",
       "4  Arizona Health Care Cost Containment System  $39,983 - $55,500 a year   \n",
       "\n",
       "   anual_salary     city  \n",
       "0       65000.0  Houston  \n",
       "1       80500.0  Houston  \n",
       "2       53738.0    Tempe  \n",
       "3       63617.0  Phoenix  \n",
       "4       47741.5  Phoenix  "
      ]
     },
     "execution_count": 7,
     "metadata": {},
     "output_type": "execute_result"
    }
   ],
   "source": [
    "salary.head()"
   ]
  },
  {
   "cell_type": "code",
   "execution_count": 8,
   "metadata": {},
   "outputs": [
    {
     "data": {
      "text/plain": [
       "Index(['location', 'job', 'comp', 'salary', 'anual_salary', 'city'], dtype='object')"
      ]
     },
     "execution_count": 8,
     "metadata": {},
     "output_type": "execute_result"
    }
   ],
   "source": [
    "salary.columns"
   ]
  },
  {
   "cell_type": "code",
   "execution_count": 9,
   "metadata": {},
   "outputs": [
    {
     "data": {
      "text/plain": [
       "New York, NY                                         22\n",
       "Chicago, IL                                          15\n",
       "Los Angeles, CA                                      14\n",
       "Austin, TX                                           13\n",
       "Seattle, WA                                          13\n",
       "Philadelphia, PA                                      8\n",
       "Manhattan, NY                                         8\n",
       "San Francisco, CA                                     8\n",
       "Coral Gables, FL                                      8\n",
       "New York, NY 10167 (Midtown area)                     6\n",
       "Atlanta, GA                                           6\n",
       "Phoenix, AZ                                           5\n",
       "Tempe, AZ                                             4\n",
       "Dallas, TX                                            3\n",
       "Rowland Heights, CA 91748                             3\n",
       "Miami, FL                                             3\n",
       "Denver, CO                                            3\n",
       "Houston, TX                                           2\n",
       "Portland, OR                                          2\n",
       "Chicago, IL 60601 (Loop area)                         2\n",
       "New York, NY 10016 (Gramercy area)                    2\n",
       "Bellevue, WA                                          2\n",
       "Fort Washington, PA                                   2\n",
       "Phoenix, AZ 85012 (Alhambra area)                     2\n",
       "Pittsburgh, PA                                        2\n",
       "Philadelphia, PA 19107 (City Center East area)        2\n",
       "Oakland, CA                                           2\n",
       "Fullerton, CA                                         2\n",
       "Spring House, PA                                      1\n",
       "Aurora, CO                                            1\n",
       "                                                     ..\n",
       "Los Angeles, CA 90021                                 1\n",
       "San Francisco, CA 94105 (Financial District area)     1\n",
       "San Francisco, CA 94124 (Bayview area)                1\n",
       "Monroe, NC                                            1\n",
       "Irving, TX                                            1\n",
       "Phoenix, AZ 85003 (Central City area)                 1\n",
       "Portland, OR 97213 (Roseway area)                     1\n",
       "Denver, CO 80204 (Central West Denver area)           1\n",
       "King of Prussia, PA                                   1\n",
       "Berkeley, CA                                          1\n",
       "Portland, OR 97225 (West Slope area)                  1\n",
       "Evanston, IL                                          1\n",
       "Dublin, OH 43017                                      1\n",
       "Aurora, CO 80011 (Norfolk Glen area)                  1\n",
       "Chatsworth, CA 91311                                  1\n",
       "Smyrna, GA 30082                                      1\n",
       "Culver City, CA 90230                                 1\n",
       "Plano, TX                                             1\n",
       "Dallas-Fort Worth, TX                                 1\n",
       "Irving, TX 75063                                      1\n",
       "Atlanta, GA 30341                                     1\n",
       "Azusa, CA                                             1\n",
       "Charlotte, NC 28203 (Dilworth area)                   1\n",
       "Belmont, CA                                           1\n",
       "Boulder, CO                                           1\n",
       "Radnor, PA                                            1\n",
       "Miami Lakes, FL                                       1\n",
       "Los Angeles, CA 90032                                 1\n",
       "Los Angeles, CA 90046                                 1\n",
       "Scottsdale, AZ                                        1\n",
       "Name: location, Length: 67, dtype: int64"
      ]
     },
     "execution_count": 9,
     "metadata": {},
     "output_type": "execute_result"
    }
   ],
   "source": [
    "salary['location'].value_counts()"
   ]
  },
  {
   "cell_type": "code",
   "execution_count": 10,
   "metadata": {},
   "outputs": [
    {
     "data": {
      "text/plain": [
       "<bound method IndexOpsMixin.nunique of 0                                Houston, TX\n",
       "1                                Houston, TX\n",
       "2                                  Tempe, AZ\n",
       "3      Phoenix, AZ 85003 (Central City area)\n",
       "4                                Phoenix, AZ\n",
       "5                                Phoenix, AZ\n",
       "6                                Phoenix, AZ\n",
       "7                                Phoenix, AZ\n",
       "8          Phoenix, AZ 85012 (Alhambra area)\n",
       "9                             Scottsdale, AZ\n",
       "10                                 Tempe, AZ\n",
       "11                                 Tempe, AZ\n",
       "12         Phoenix, AZ 85012 (Alhambra area)\n",
       "13                               Phoenix, AZ\n",
       "14                               Chicago, IL\n",
       "15                               Chicago, IL\n",
       "16                               Chicago, IL\n",
       "17                               Chicago, IL\n",
       "18                               Chicago, IL\n",
       "19                               Chicago, IL\n",
       "20                               Chicago, IL\n",
       "21                               Chicago, IL\n",
       "22                           Des Plaines, IL\n",
       "23                               Chicago, IL\n",
       "24             Chicago, IL 60601 (Loop area)\n",
       "25                               Chicago, IL\n",
       "26                               Chicago, IL\n",
       "27             Chicago, IL 60601 (Loop area)\n",
       "28                              Evanston, IL\n",
       "29             Chicago, IL 60603 (Loop area)\n",
       "                       ...                  \n",
       "173                              Seattle, WA\n",
       "174                              Seattle, WA\n",
       "175                             Bellevue, WA\n",
       "176                              Seattle, WA\n",
       "177                               Austin, TX\n",
       "178                               Austin, TX\n",
       "179                               Austin, TX\n",
       "180                               Austin, TX\n",
       "181                               Austin, TX\n",
       "182                               Austin, TX\n",
       "183                               Austin, TX\n",
       "184                               Austin, TX\n",
       "185                               Austin, TX\n",
       "186                               Austin, TX\n",
       "187                               Austin, TX\n",
       "188     Portland, OR 97225 (West Slope area)\n",
       "189                             Portland, OR\n",
       "190        Portland, OR 97213 (Roseway area)\n",
       "191                                Tempe, AZ\n",
       "192                               Dallas, TX\n",
       "193                           Richardson, TX\n",
       "194                               Denver, CO\n",
       "195                                Azusa, CA\n",
       "196                              Burbank, CA\n",
       "197                               Monroe, NC\n",
       "198      Charlotte, NC 28203 (Dilworth area)\n",
       "199                         Coral Gables, FL\n",
       "200                               Austin, TX\n",
       "201                               Austin, TX\n",
       "202                             Portland, OR\n",
       "Name: location, Length: 203, dtype: object>"
      ]
     },
     "execution_count": 10,
     "metadata": {},
     "output_type": "execute_result"
    }
   ],
   "source": [
    "salary.location.nunique"
   ]
  },
  {
   "cell_type": "code",
   "execution_count": 11,
   "metadata": {},
   "outputs": [
    {
     "data": {
      "text/html": [
       "<div>\n",
       "<style scoped>\n",
       "    .dataframe tbody tr th:only-of-type {\n",
       "        vertical-align: middle;\n",
       "    }\n",
       "\n",
       "    .dataframe tbody tr th {\n",
       "        vertical-align: top;\n",
       "    }\n",
       "\n",
       "    .dataframe thead th {\n",
       "        text-align: right;\n",
       "    }\n",
       "</style>\n",
       "<table border=\"1\" class=\"dataframe\">\n",
       "  <thead>\n",
       "    <tr style=\"text-align: right;\">\n",
       "      <th></th>\n",
       "      <th>location</th>\n",
       "      <th>job</th>\n",
       "    </tr>\n",
       "  </thead>\n",
       "  <tbody>\n",
       "    <tr>\n",
       "      <th>0</th>\n",
       "      <td>Houston, TX</td>\n",
       "      <td>Research Financial Analyst II</td>\n",
       "    </tr>\n",
       "    <tr>\n",
       "      <th>1</th>\n",
       "      <td>Houston, TX</td>\n",
       "      <td>Sr. Bioinformatics Programmer</td>\n",
       "    </tr>\n",
       "    <tr>\n",
       "      <th>2</th>\n",
       "      <td>Tempe, AZ</td>\n",
       "      <td>Data Analysis Specialist</td>\n",
       "    </tr>\n",
       "    <tr>\n",
       "      <th>3</th>\n",
       "      <td>Phoenix, AZ 85003 (Central City area)</td>\n",
       "      <td>Research Analyst</td>\n",
       "    </tr>\n",
       "    <tr>\n",
       "      <th>4</th>\n",
       "      <td>Phoenix, AZ</td>\n",
       "      <td>RESEARCH AND STATISTICAL ANALYST</td>\n",
       "    </tr>\n",
       "  </tbody>\n",
       "</table>\n",
       "</div>"
      ],
      "text/plain": [
       "                                location                               job\n",
       "0                            Houston, TX     Research Financial Analyst II\n",
       "1                            Houston, TX     Sr. Bioinformatics Programmer\n",
       "2                              Tempe, AZ          Data Analysis Specialist\n",
       "3  Phoenix, AZ 85003 (Central City area)                  Research Analyst\n",
       "4                            Phoenix, AZ  RESEARCH AND STATISTICAL ANALYST"
      ]
     },
     "execution_count": 11,
     "metadata": {},
     "output_type": "execute_result"
    }
   ],
   "source": [
    "#variables X et Y\n",
    "X = salary[['location', 'job']]\n",
    "X.head()"
   ]
  },
  {
   "cell_type": "code",
   "execution_count": 12,
   "metadata": {},
   "outputs": [
    {
     "data": {
      "text/plain": [
       "0    65000.0\n",
       "1    80500.0\n",
       "2    53738.0\n",
       "3    63617.0\n",
       "4    47741.5\n",
       "Name: anual_salary, dtype: float64"
      ]
     },
     "execution_count": 12,
     "metadata": {},
     "output_type": "execute_result"
    }
   ],
   "source": [
    "#variable à predire\n",
    "y = salary['anual_salary']\n",
    "y.head()"
   ]
  },
  {
   "cell_type": "markdown",
   "metadata": {},
   "source": [
    "# pays en int"
   ]
  },
  {
   "cell_type": "code",
   "execution_count": 13,
   "metadata": {},
   "outputs": [
    {
     "data": {
      "text/html": [
       "<div>\n",
       "<style scoped>\n",
       "    .dataframe tbody tr th:only-of-type {\n",
       "        vertical-align: middle;\n",
       "    }\n",
       "\n",
       "    .dataframe tbody tr th {\n",
       "        vertical-align: top;\n",
       "    }\n",
       "\n",
       "    .dataframe thead th {\n",
       "        text-align: right;\n",
       "    }\n",
       "</style>\n",
       "<table border=\"1\" class=\"dataframe\">\n",
       "  <thead>\n",
       "    <tr style=\"text-align: right;\">\n",
       "      <th></th>\n",
       "      <th>Atlanta, GA</th>\n",
       "      <th>Atlanta, GA 30341</th>\n",
       "      <th>Aurora, CO</th>\n",
       "      <th>Aurora, CO 80011 (Norfolk Glen area)</th>\n",
       "      <th>Austin, TX</th>\n",
       "      <th>Azusa, CA</th>\n",
       "      <th>Bellevue, WA</th>\n",
       "      <th>Belmont, CA</th>\n",
       "      <th>Berkeley, CA</th>\n",
       "      <th>Boulder, CO</th>\n",
       "      <th>...</th>\n",
       "      <th>Richardson, TX</th>\n",
       "      <th>Rowland Heights, CA 91748</th>\n",
       "      <th>San Francisco, CA</th>\n",
       "      <th>San Francisco, CA 94105 (Financial District area)</th>\n",
       "      <th>San Francisco, CA 94124 (Bayview area)</th>\n",
       "      <th>Scottsdale, AZ</th>\n",
       "      <th>Seattle, WA</th>\n",
       "      <th>Smyrna, GA 30082</th>\n",
       "      <th>Spring House, PA</th>\n",
       "      <th>Tempe, AZ</th>\n",
       "    </tr>\n",
       "  </thead>\n",
       "  <tbody>\n",
       "    <tr>\n",
       "      <th>0</th>\n",
       "      <td>0</td>\n",
       "      <td>0</td>\n",
       "      <td>0</td>\n",
       "      <td>0</td>\n",
       "      <td>0</td>\n",
       "      <td>0</td>\n",
       "      <td>0</td>\n",
       "      <td>0</td>\n",
       "      <td>0</td>\n",
       "      <td>0</td>\n",
       "      <td>...</td>\n",
       "      <td>0</td>\n",
       "      <td>0</td>\n",
       "      <td>0</td>\n",
       "      <td>0</td>\n",
       "      <td>0</td>\n",
       "      <td>0</td>\n",
       "      <td>0</td>\n",
       "      <td>0</td>\n",
       "      <td>0</td>\n",
       "      <td>0</td>\n",
       "    </tr>\n",
       "    <tr>\n",
       "      <th>1</th>\n",
       "      <td>0</td>\n",
       "      <td>0</td>\n",
       "      <td>0</td>\n",
       "      <td>0</td>\n",
       "      <td>0</td>\n",
       "      <td>0</td>\n",
       "      <td>0</td>\n",
       "      <td>0</td>\n",
       "      <td>0</td>\n",
       "      <td>0</td>\n",
       "      <td>...</td>\n",
       "      <td>0</td>\n",
       "      <td>0</td>\n",
       "      <td>0</td>\n",
       "      <td>0</td>\n",
       "      <td>0</td>\n",
       "      <td>0</td>\n",
       "      <td>0</td>\n",
       "      <td>0</td>\n",
       "      <td>0</td>\n",
       "      <td>0</td>\n",
       "    </tr>\n",
       "    <tr>\n",
       "      <th>2</th>\n",
       "      <td>0</td>\n",
       "      <td>0</td>\n",
       "      <td>0</td>\n",
       "      <td>0</td>\n",
       "      <td>0</td>\n",
       "      <td>0</td>\n",
       "      <td>0</td>\n",
       "      <td>0</td>\n",
       "      <td>0</td>\n",
       "      <td>0</td>\n",
       "      <td>...</td>\n",
       "      <td>0</td>\n",
       "      <td>0</td>\n",
       "      <td>0</td>\n",
       "      <td>0</td>\n",
       "      <td>0</td>\n",
       "      <td>0</td>\n",
       "      <td>0</td>\n",
       "      <td>0</td>\n",
       "      <td>0</td>\n",
       "      <td>1</td>\n",
       "    </tr>\n",
       "    <tr>\n",
       "      <th>3</th>\n",
       "      <td>0</td>\n",
       "      <td>0</td>\n",
       "      <td>0</td>\n",
       "      <td>0</td>\n",
       "      <td>0</td>\n",
       "      <td>0</td>\n",
       "      <td>0</td>\n",
       "      <td>0</td>\n",
       "      <td>0</td>\n",
       "      <td>0</td>\n",
       "      <td>...</td>\n",
       "      <td>0</td>\n",
       "      <td>0</td>\n",
       "      <td>0</td>\n",
       "      <td>0</td>\n",
       "      <td>0</td>\n",
       "      <td>0</td>\n",
       "      <td>0</td>\n",
       "      <td>0</td>\n",
       "      <td>0</td>\n",
       "      <td>0</td>\n",
       "    </tr>\n",
       "    <tr>\n",
       "      <th>4</th>\n",
       "      <td>0</td>\n",
       "      <td>0</td>\n",
       "      <td>0</td>\n",
       "      <td>0</td>\n",
       "      <td>0</td>\n",
       "      <td>0</td>\n",
       "      <td>0</td>\n",
       "      <td>0</td>\n",
       "      <td>0</td>\n",
       "      <td>0</td>\n",
       "      <td>...</td>\n",
       "      <td>0</td>\n",
       "      <td>0</td>\n",
       "      <td>0</td>\n",
       "      <td>0</td>\n",
       "      <td>0</td>\n",
       "      <td>0</td>\n",
       "      <td>0</td>\n",
       "      <td>0</td>\n",
       "      <td>0</td>\n",
       "      <td>0</td>\n",
       "    </tr>\n",
       "  </tbody>\n",
       "</table>\n",
       "<p>5 rows × 67 columns</p>\n",
       "</div>"
      ],
      "text/plain": [
       "   Atlanta, GA  Atlanta, GA 30341  Aurora, CO  \\\n",
       "0            0                  0           0   \n",
       "1            0                  0           0   \n",
       "2            0                  0           0   \n",
       "3            0                  0           0   \n",
       "4            0                  0           0   \n",
       "\n",
       "   Aurora, CO 80011 (Norfolk Glen area)  Austin, TX  Azusa, CA  Bellevue, WA  \\\n",
       "0                                     0           0          0             0   \n",
       "1                                     0           0          0             0   \n",
       "2                                     0           0          0             0   \n",
       "3                                     0           0          0             0   \n",
       "4                                     0           0          0             0   \n",
       "\n",
       "   Belmont, CA  Berkeley, CA  Boulder, CO  ...  Richardson, TX  \\\n",
       "0            0             0            0  ...               0   \n",
       "1            0             0            0  ...               0   \n",
       "2            0             0            0  ...               0   \n",
       "3            0             0            0  ...               0   \n",
       "4            0             0            0  ...               0   \n",
       "\n",
       "   Rowland Heights, CA 91748  San Francisco, CA  \\\n",
       "0                          0                  0   \n",
       "1                          0                  0   \n",
       "2                          0                  0   \n",
       "3                          0                  0   \n",
       "4                          0                  0   \n",
       "\n",
       "   San Francisco, CA 94105 (Financial District area)  \\\n",
       "0                                                  0   \n",
       "1                                                  0   \n",
       "2                                                  0   \n",
       "3                                                  0   \n",
       "4                                                  0   \n",
       "\n",
       "   San Francisco, CA 94124 (Bayview area)  Scottsdale, AZ  Seattle, WA  \\\n",
       "0                                       0               0            0   \n",
       "1                                       0               0            0   \n",
       "2                                       0               0            0   \n",
       "3                                       0               0            0   \n",
       "4                                       0               0            0   \n",
       "\n",
       "   Smyrna, GA 30082  Spring House, PA  Tempe, AZ  \n",
       "0                 0                 0          0  \n",
       "1                 0                 0          0  \n",
       "2                 0                 0          1  \n",
       "3                 0                 0          0  \n",
       "4                 0                 0          0  \n",
       "\n",
       "[5 rows x 67 columns]"
      ]
     },
     "execution_count": 13,
     "metadata": {},
     "output_type": "execute_result"
    }
   ],
   "source": [
    "colonnes = pd.get_dummies(salary['location'])\n",
    "colonnes.head()"
   ]
  },
  {
   "cell_type": "code",
   "execution_count": 14,
   "metadata": {},
   "outputs": [
    {
     "data": {
      "text/html": [
       "<div>\n",
       "<style scoped>\n",
       "    .dataframe tbody tr th:only-of-type {\n",
       "        vertical-align: middle;\n",
       "    }\n",
       "\n",
       "    .dataframe tbody tr th {\n",
       "        vertical-align: top;\n",
       "    }\n",
       "\n",
       "    .dataframe thead th {\n",
       "        text-align: right;\n",
       "    }\n",
       "</style>\n",
       "<table border=\"1\" class=\"dataframe\">\n",
       "  <thead>\n",
       "    <tr style=\"text-align: right;\">\n",
       "      <th></th>\n",
       "      <th>Atlanta, GA</th>\n",
       "      <th>Atlanta, GA 30341</th>\n",
       "      <th>Aurora, CO</th>\n",
       "      <th>Aurora, CO 80011 (Norfolk Glen area)</th>\n",
       "      <th>Austin, TX</th>\n",
       "      <th>Azusa, CA</th>\n",
       "      <th>Bellevue, WA</th>\n",
       "      <th>Belmont, CA</th>\n",
       "      <th>Berkeley, CA</th>\n",
       "      <th>Boulder, CO</th>\n",
       "      <th>...</th>\n",
       "      <th>Seattle, WA</th>\n",
       "      <th>Smyrna, GA 30082</th>\n",
       "      <th>Spring House, PA</th>\n",
       "      <th>Tempe, AZ</th>\n",
       "      <th>location</th>\n",
       "      <th>job</th>\n",
       "      <th>comp</th>\n",
       "      <th>salary</th>\n",
       "      <th>anual_salary</th>\n",
       "      <th>city</th>\n",
       "    </tr>\n",
       "  </thead>\n",
       "  <tbody>\n",
       "    <tr>\n",
       "      <th>0</th>\n",
       "      <td>0</td>\n",
       "      <td>0</td>\n",
       "      <td>0</td>\n",
       "      <td>0</td>\n",
       "      <td>0</td>\n",
       "      <td>0</td>\n",
       "      <td>0</td>\n",
       "      <td>0</td>\n",
       "      <td>0</td>\n",
       "      <td>0</td>\n",
       "      <td>...</td>\n",
       "      <td>0</td>\n",
       "      <td>0</td>\n",
       "      <td>0</td>\n",
       "      <td>0</td>\n",
       "      <td>Houston, TX</td>\n",
       "      <td>Research Financial Analyst II</td>\n",
       "      <td>Baylor College of Medicine</td>\n",
       "      <td>$65,000 a year</td>\n",
       "      <td>65000.0</td>\n",
       "      <td>Houston</td>\n",
       "    </tr>\n",
       "    <tr>\n",
       "      <th>1</th>\n",
       "      <td>0</td>\n",
       "      <td>0</td>\n",
       "      <td>0</td>\n",
       "      <td>0</td>\n",
       "      <td>0</td>\n",
       "      <td>0</td>\n",
       "      <td>0</td>\n",
       "      <td>0</td>\n",
       "      <td>0</td>\n",
       "      <td>0</td>\n",
       "      <td>...</td>\n",
       "      <td>0</td>\n",
       "      <td>0</td>\n",
       "      <td>0</td>\n",
       "      <td>0</td>\n",
       "      <td>Houston, TX</td>\n",
       "      <td>Sr. Bioinformatics Programmer</td>\n",
       "      <td>Baylor College of Medicine</td>\n",
       "      <td>$70,000 - $91,000 a year</td>\n",
       "      <td>80500.0</td>\n",
       "      <td>Houston</td>\n",
       "    </tr>\n",
       "    <tr>\n",
       "      <th>2</th>\n",
       "      <td>0</td>\n",
       "      <td>0</td>\n",
       "      <td>0</td>\n",
       "      <td>0</td>\n",
       "      <td>0</td>\n",
       "      <td>0</td>\n",
       "      <td>0</td>\n",
       "      <td>0</td>\n",
       "      <td>0</td>\n",
       "      <td>0</td>\n",
       "      <td>...</td>\n",
       "      <td>0</td>\n",
       "      <td>0</td>\n",
       "      <td>0</td>\n",
       "      <td>1</td>\n",
       "      <td>Tempe, AZ</td>\n",
       "      <td>Data Analysis Specialist</td>\n",
       "      <td>Arizona State University</td>\n",
       "      <td>$47,476 - $60,000 a year</td>\n",
       "      <td>53738.0</td>\n",
       "      <td>Tempe</td>\n",
       "    </tr>\n",
       "    <tr>\n",
       "      <th>3</th>\n",
       "      <td>0</td>\n",
       "      <td>0</td>\n",
       "      <td>0</td>\n",
       "      <td>0</td>\n",
       "      <td>0</td>\n",
       "      <td>0</td>\n",
       "      <td>0</td>\n",
       "      <td>0</td>\n",
       "      <td>0</td>\n",
       "      <td>0</td>\n",
       "      <td>...</td>\n",
       "      <td>0</td>\n",
       "      <td>0</td>\n",
       "      <td>0</td>\n",
       "      <td>0</td>\n",
       "      <td>Phoenix, AZ 85003 (Central City area)</td>\n",
       "      <td>Research Analyst</td>\n",
       "      <td>Maricopa County, AZ</td>\n",
       "      <td>$44,616 - $82,618 a year</td>\n",
       "      <td>63617.0</td>\n",
       "      <td>Phoenix</td>\n",
       "    </tr>\n",
       "    <tr>\n",
       "      <th>4</th>\n",
       "      <td>0</td>\n",
       "      <td>0</td>\n",
       "      <td>0</td>\n",
       "      <td>0</td>\n",
       "      <td>0</td>\n",
       "      <td>0</td>\n",
       "      <td>0</td>\n",
       "      <td>0</td>\n",
       "      <td>0</td>\n",
       "      <td>0</td>\n",
       "      <td>...</td>\n",
       "      <td>0</td>\n",
       "      <td>0</td>\n",
       "      <td>0</td>\n",
       "      <td>0</td>\n",
       "      <td>Phoenix, AZ</td>\n",
       "      <td>RESEARCH AND STATISTICAL ANALYST</td>\n",
       "      <td>Arizona Health Care Cost Containment System</td>\n",
       "      <td>$39,983 - $55,500 a year</td>\n",
       "      <td>47741.5</td>\n",
       "      <td>Phoenix</td>\n",
       "    </tr>\n",
       "  </tbody>\n",
       "</table>\n",
       "<p>5 rows × 73 columns</p>\n",
       "</div>"
      ],
      "text/plain": [
       "   Atlanta, GA  Atlanta, GA 30341  Aurora, CO  \\\n",
       "0            0                  0           0   \n",
       "1            0                  0           0   \n",
       "2            0                  0           0   \n",
       "3            0                  0           0   \n",
       "4            0                  0           0   \n",
       "\n",
       "   Aurora, CO 80011 (Norfolk Glen area)  Austin, TX  Azusa, CA  Bellevue, WA  \\\n",
       "0                                     0           0          0             0   \n",
       "1                                     0           0          0             0   \n",
       "2                                     0           0          0             0   \n",
       "3                                     0           0          0             0   \n",
       "4                                     0           0          0             0   \n",
       "\n",
       "   Belmont, CA  Berkeley, CA  Boulder, CO  ...  Seattle, WA  Smyrna, GA 30082  \\\n",
       "0            0             0            0  ...            0                 0   \n",
       "1            0             0            0  ...            0                 0   \n",
       "2            0             0            0  ...            0                 0   \n",
       "3            0             0            0  ...            0                 0   \n",
       "4            0             0            0  ...            0                 0   \n",
       "\n",
       "   Spring House, PA  Tempe, AZ                               location  \\\n",
       "0                 0          0                            Houston, TX   \n",
       "1                 0          0                            Houston, TX   \n",
       "2                 0          1                              Tempe, AZ   \n",
       "3                 0          0  Phoenix, AZ 85003 (Central City area)   \n",
       "4                 0          0                            Phoenix, AZ   \n",
       "\n",
       "                                job  \\\n",
       "0     Research Financial Analyst II   \n",
       "1     Sr. Bioinformatics Programmer   \n",
       "2          Data Analysis Specialist   \n",
       "3                  Research Analyst   \n",
       "4  RESEARCH AND STATISTICAL ANALYST   \n",
       "\n",
       "                                          comp                    salary  \\\n",
       "0                   Baylor College of Medicine            $65,000 a year   \n",
       "1                   Baylor College of Medicine  $70,000 - $91,000 a year   \n",
       "2                     Arizona State University  $47,476 - $60,000 a year   \n",
       "3                          Maricopa County, AZ  $44,616 - $82,618 a year   \n",
       "4  Arizona Health Care Cost Containment System  $39,983 - $55,500 a year   \n",
       "\n",
       "   anual_salary     city  \n",
       "0       65000.0  Houston  \n",
       "1       80500.0  Houston  \n",
       "2       53738.0    Tempe  \n",
       "3       63617.0  Phoenix  \n",
       "4       47741.5  Phoenix  \n",
       "\n",
       "[5 rows x 73 columns]"
      ]
     },
     "execution_count": 14,
     "metadata": {},
     "output_type": "execute_result"
    }
   ],
   "source": [
    "#fusionner les nouvelles colonnes avec le dataset\n",
    "new_salary = pd.concat([colonnes, salary], axis=1)\n",
    "new_salary.head()"
   ]
  },
  {
   "cell_type": "code",
   "execution_count": 15,
   "metadata": {},
   "outputs": [
    {
     "data": {
      "text/plain": [
       "Index(['Atlanta, GA', 'Atlanta, GA 30341', 'Aurora, CO',\n",
       "       'Aurora, CO 80011 (Norfolk Glen area)', 'Austin, TX', 'Azusa, CA',\n",
       "       'Bellevue, WA', 'Belmont, CA', 'Berkeley, CA', 'Boulder, CO',\n",
       "       'Burbank, CA', 'Charlotte, NC 28203 (Dilworth area)',\n",
       "       'Chatsworth, CA 91311', 'Chicago, IL', 'Chicago, IL 60601 (Loop area)',\n",
       "       'Chicago, IL 60603 (Loop area)', 'Coral Gables, FL',\n",
       "       'Culver City, CA 90230', 'Dallas, TX', 'Dallas-Fort Worth, TX',\n",
       "       'Denver, CO', 'Denver, CO 80204 (Central West Denver area)',\n",
       "       'Des Plaines, IL', 'Dublin, OH 43017', 'Evanston, IL',\n",
       "       'Fort Washington, PA', 'Fullerton, CA', 'Houston, TX', 'Irving, TX',\n",
       "       'Irving, TX 75038', 'Irving, TX 75063', 'King of Prussia, PA',\n",
       "       'Long Beach, CA', 'Los Angeles, CA', 'Los Angeles, CA 90021',\n",
       "       'Los Angeles, CA 90032', 'Los Angeles, CA 90046', 'Manhattan, NY',\n",
       "       'Miami Lakes, FL', 'Miami, FL', 'Monroe, NC', 'New York, NY',\n",
       "       'New York, NY 10001 (Chelsea area)',\n",
       "       'New York, NY 10016 (Gramercy area)',\n",
       "       'New York, NY 10167 (Midtown area)', 'Oakland, CA', 'Philadelphia, PA',\n",
       "       'Philadelphia, PA 19107 (City Center East area)', 'Phoenix, AZ',\n",
       "       'Phoenix, AZ 85003 (Central City area)',\n",
       "       'Phoenix, AZ 85012 (Alhambra area)', 'Pittsburgh, PA', 'Plano, TX',\n",
       "       'Portland, OR', 'Portland, OR 97213 (Roseway area)',\n",
       "       'Portland, OR 97225 (West Slope area)', 'Radnor, PA', 'Richardson, TX',\n",
       "       'Rowland Heights, CA 91748', 'San Francisco, CA',\n",
       "       'San Francisco, CA 94105 (Financial District area)',\n",
       "       'San Francisco, CA 94124 (Bayview area)', 'Scottsdale, AZ',\n",
       "       'Seattle, WA', 'Smyrna, GA 30082', 'Spring House, PA', 'Tempe, AZ',\n",
       "       'location', 'job', 'comp', 'salary', 'anual_salary', 'city'],\n",
       "      dtype='object')"
      ]
     },
     "execution_count": 15,
     "metadata": {},
     "output_type": "execute_result"
    }
   ],
   "source": [
    "new_salary.columns"
   ]
  },
  {
   "cell_type": "code",
   "execution_count": 16,
   "metadata": {},
   "outputs": [
    {
     "data": {
      "text/html": [
       "<div>\n",
       "<style scoped>\n",
       "    .dataframe tbody tr th:only-of-type {\n",
       "        vertical-align: middle;\n",
       "    }\n",
       "\n",
       "    .dataframe tbody tr th {\n",
       "        vertical-align: top;\n",
       "    }\n",
       "\n",
       "    .dataframe thead th {\n",
       "        text-align: right;\n",
       "    }\n",
       "</style>\n",
       "<table border=\"1\" class=\"dataframe\">\n",
       "  <thead>\n",
       "    <tr style=\"text-align: right;\">\n",
       "      <th></th>\n",
       "      <th>Atlanta, GA</th>\n",
       "      <th>Atlanta, GA 30341</th>\n",
       "      <th>Aurora, CO</th>\n",
       "      <th>Aurora, CO 80011 (Norfolk Glen area)</th>\n",
       "      <th>Austin, TX</th>\n",
       "      <th>Azusa, CA</th>\n",
       "      <th>Bellevue, WA</th>\n",
       "      <th>Belmont, CA</th>\n",
       "      <th>Berkeley, CA</th>\n",
       "      <th>Boulder, CO</th>\n",
       "      <th>...</th>\n",
       "      <th>Scottsdale, AZ</th>\n",
       "      <th>Seattle, WA</th>\n",
       "      <th>Smyrna, GA 30082</th>\n",
       "      <th>Spring House, PA</th>\n",
       "      <th>Tempe, AZ</th>\n",
       "      <th>job</th>\n",
       "      <th>comp</th>\n",
       "      <th>salary</th>\n",
       "      <th>anual_salary</th>\n",
       "      <th>city</th>\n",
       "    </tr>\n",
       "  </thead>\n",
       "  <tbody>\n",
       "    <tr>\n",
       "      <th>0</th>\n",
       "      <td>0</td>\n",
       "      <td>0</td>\n",
       "      <td>0</td>\n",
       "      <td>0</td>\n",
       "      <td>0</td>\n",
       "      <td>0</td>\n",
       "      <td>0</td>\n",
       "      <td>0</td>\n",
       "      <td>0</td>\n",
       "      <td>0</td>\n",
       "      <td>...</td>\n",
       "      <td>0</td>\n",
       "      <td>0</td>\n",
       "      <td>0</td>\n",
       "      <td>0</td>\n",
       "      <td>0</td>\n",
       "      <td>Research Financial Analyst II</td>\n",
       "      <td>Baylor College of Medicine</td>\n",
       "      <td>$65,000 a year</td>\n",
       "      <td>65000.0</td>\n",
       "      <td>Houston</td>\n",
       "    </tr>\n",
       "    <tr>\n",
       "      <th>1</th>\n",
       "      <td>0</td>\n",
       "      <td>0</td>\n",
       "      <td>0</td>\n",
       "      <td>0</td>\n",
       "      <td>0</td>\n",
       "      <td>0</td>\n",
       "      <td>0</td>\n",
       "      <td>0</td>\n",
       "      <td>0</td>\n",
       "      <td>0</td>\n",
       "      <td>...</td>\n",
       "      <td>0</td>\n",
       "      <td>0</td>\n",
       "      <td>0</td>\n",
       "      <td>0</td>\n",
       "      <td>0</td>\n",
       "      <td>Sr. Bioinformatics Programmer</td>\n",
       "      <td>Baylor College of Medicine</td>\n",
       "      <td>$70,000 - $91,000 a year</td>\n",
       "      <td>80500.0</td>\n",
       "      <td>Houston</td>\n",
       "    </tr>\n",
       "    <tr>\n",
       "      <th>2</th>\n",
       "      <td>0</td>\n",
       "      <td>0</td>\n",
       "      <td>0</td>\n",
       "      <td>0</td>\n",
       "      <td>0</td>\n",
       "      <td>0</td>\n",
       "      <td>0</td>\n",
       "      <td>0</td>\n",
       "      <td>0</td>\n",
       "      <td>0</td>\n",
       "      <td>...</td>\n",
       "      <td>0</td>\n",
       "      <td>0</td>\n",
       "      <td>0</td>\n",
       "      <td>0</td>\n",
       "      <td>1</td>\n",
       "      <td>Data Analysis Specialist</td>\n",
       "      <td>Arizona State University</td>\n",
       "      <td>$47,476 - $60,000 a year</td>\n",
       "      <td>53738.0</td>\n",
       "      <td>Tempe</td>\n",
       "    </tr>\n",
       "    <tr>\n",
       "      <th>3</th>\n",
       "      <td>0</td>\n",
       "      <td>0</td>\n",
       "      <td>0</td>\n",
       "      <td>0</td>\n",
       "      <td>0</td>\n",
       "      <td>0</td>\n",
       "      <td>0</td>\n",
       "      <td>0</td>\n",
       "      <td>0</td>\n",
       "      <td>0</td>\n",
       "      <td>...</td>\n",
       "      <td>0</td>\n",
       "      <td>0</td>\n",
       "      <td>0</td>\n",
       "      <td>0</td>\n",
       "      <td>0</td>\n",
       "      <td>Research Analyst</td>\n",
       "      <td>Maricopa County, AZ</td>\n",
       "      <td>$44,616 - $82,618 a year</td>\n",
       "      <td>63617.0</td>\n",
       "      <td>Phoenix</td>\n",
       "    </tr>\n",
       "    <tr>\n",
       "      <th>4</th>\n",
       "      <td>0</td>\n",
       "      <td>0</td>\n",
       "      <td>0</td>\n",
       "      <td>0</td>\n",
       "      <td>0</td>\n",
       "      <td>0</td>\n",
       "      <td>0</td>\n",
       "      <td>0</td>\n",
       "      <td>0</td>\n",
       "      <td>0</td>\n",
       "      <td>...</td>\n",
       "      <td>0</td>\n",
       "      <td>0</td>\n",
       "      <td>0</td>\n",
       "      <td>0</td>\n",
       "      <td>0</td>\n",
       "      <td>RESEARCH AND STATISTICAL ANALYST</td>\n",
       "      <td>Arizona Health Care Cost Containment System</td>\n",
       "      <td>$39,983 - $55,500 a year</td>\n",
       "      <td>47741.5</td>\n",
       "      <td>Phoenix</td>\n",
       "    </tr>\n",
       "  </tbody>\n",
       "</table>\n",
       "<p>5 rows × 72 columns</p>\n",
       "</div>"
      ],
      "text/plain": [
       "   Atlanta, GA  Atlanta, GA 30341  Aurora, CO  \\\n",
       "0            0                  0           0   \n",
       "1            0                  0           0   \n",
       "2            0                  0           0   \n",
       "3            0                  0           0   \n",
       "4            0                  0           0   \n",
       "\n",
       "   Aurora, CO 80011 (Norfolk Glen area)  Austin, TX  Azusa, CA  Bellevue, WA  \\\n",
       "0                                     0           0          0             0   \n",
       "1                                     0           0          0             0   \n",
       "2                                     0           0          0             0   \n",
       "3                                     0           0          0             0   \n",
       "4                                     0           0          0             0   \n",
       "\n",
       "   Belmont, CA  Berkeley, CA  Boulder, CO  ...  Scottsdale, AZ  Seattle, WA  \\\n",
       "0            0             0            0  ...               0            0   \n",
       "1            0             0            0  ...               0            0   \n",
       "2            0             0            0  ...               0            0   \n",
       "3            0             0            0  ...               0            0   \n",
       "4            0             0            0  ...               0            0   \n",
       "\n",
       "   Smyrna, GA 30082  Spring House, PA  Tempe, AZ  \\\n",
       "0                 0                 0          0   \n",
       "1                 0                 0          0   \n",
       "2                 0                 0          1   \n",
       "3                 0                 0          0   \n",
       "4                 0                 0          0   \n",
       "\n",
       "                                job  \\\n",
       "0     Research Financial Analyst II   \n",
       "1     Sr. Bioinformatics Programmer   \n",
       "2          Data Analysis Specialist   \n",
       "3                  Research Analyst   \n",
       "4  RESEARCH AND STATISTICAL ANALYST   \n",
       "\n",
       "                                          comp                    salary  \\\n",
       "0                   Baylor College of Medicine            $65,000 a year   \n",
       "1                   Baylor College of Medicine  $70,000 - $91,000 a year   \n",
       "2                     Arizona State University  $47,476 - $60,000 a year   \n",
       "3                          Maricopa County, AZ  $44,616 - $82,618 a year   \n",
       "4  Arizona Health Care Cost Containment System  $39,983 - $55,500 a year   \n",
       "\n",
       "   anual_salary     city  \n",
       "0       65000.0  Houston  \n",
       "1       80500.0  Houston  \n",
       "2       53738.0    Tempe  \n",
       "3       63617.0  Phoenix  \n",
       "4       47741.5  Phoenix  \n",
       "\n",
       "[5 rows x 72 columns]"
      ]
     },
     "execution_count": 16,
     "metadata": {},
     "output_type": "execute_result"
    }
   ],
   "source": [
    "#je drop the state column\n",
    "new = new_salary.drop(new_salary.columns[[67]], axis=1)\n",
    "new.head()"
   ]
  },
  {
   "cell_type": "code",
   "execution_count": 17,
   "metadata": {},
   "outputs": [
    {
     "data": {
      "text/plain": [
       "Atlanta, GA                                          0\n",
       "Atlanta, GA 30341                                    0\n",
       "Aurora, CO                                           0\n",
       "Aurora, CO 80011 (Norfolk Glen area)                 0\n",
       "Austin, TX                                           0\n",
       "Azusa, CA                                            0\n",
       "Bellevue, WA                                         0\n",
       "Belmont, CA                                          0\n",
       "Berkeley, CA                                         0\n",
       "Boulder, CO                                          0\n",
       "Burbank, CA                                          0\n",
       "Charlotte, NC 28203 (Dilworth area)                  0\n",
       "Chatsworth, CA 91311                                 0\n",
       "Chicago, IL                                          0\n",
       "Chicago, IL 60601 (Loop area)                        0\n",
       "Chicago, IL 60603 (Loop area)                        0\n",
       "Coral Gables, FL                                     0\n",
       "Culver City, CA 90230                                0\n",
       "Dallas, TX                                           0\n",
       "Dallas-Fort Worth, TX                                0\n",
       "Denver, CO                                           0\n",
       "Denver, CO 80204 (Central West Denver area)          0\n",
       "Des Plaines, IL                                      0\n",
       "Dublin, OH 43017                                     0\n",
       "Evanston, IL                                         0\n",
       "Fort Washington, PA                                  0\n",
       "Fullerton, CA                                        0\n",
       "Houston, TX                                          0\n",
       "Irving, TX                                           0\n",
       "Irving, TX 75038                                     0\n",
       "                                                    ..\n",
       "New York, NY 10001 (Chelsea area)                    0\n",
       "New York, NY 10016 (Gramercy area)                   0\n",
       "New York, NY 10167 (Midtown area)                    0\n",
       "Oakland, CA                                          0\n",
       "Philadelphia, PA                                     0\n",
       "Philadelphia, PA 19107 (City Center East area)       0\n",
       "Phoenix, AZ                                          0\n",
       "Phoenix, AZ 85003 (Central City area)                0\n",
       "Phoenix, AZ 85012 (Alhambra area)                    0\n",
       "Pittsburgh, PA                                       0\n",
       "Plano, TX                                            0\n",
       "Portland, OR                                         0\n",
       "Portland, OR 97213 (Roseway area)                    0\n",
       "Portland, OR 97225 (West Slope area)                 0\n",
       "Radnor, PA                                           0\n",
       "Richardson, TX                                       0\n",
       "Rowland Heights, CA 91748                            0\n",
       "San Francisco, CA                                    0\n",
       "San Francisco, CA 94105 (Financial District area)    0\n",
       "San Francisco, CA 94124 (Bayview area)               0\n",
       "Scottsdale, AZ                                       0\n",
       "Seattle, WA                                          0\n",
       "Smyrna, GA 30082                                     0\n",
       "Spring House, PA                                     0\n",
       "Tempe, AZ                                            0\n",
       "job                                                  0\n",
       "comp                                                 0\n",
       "salary                                               0\n",
       "anual_salary                                         7\n",
       "city                                                 0\n",
       "Length: 72, dtype: int64"
      ]
     },
     "execution_count": 17,
     "metadata": {},
     "output_type": "execute_result"
    }
   ],
   "source": [
    "#is NaN\n",
    "nombre_nan = new.isna().sum()\n",
    "nombre_nan"
   ]
  },
  {
   "cell_type": "code",
   "execution_count": 18,
   "metadata": {},
   "outputs": [
    {
     "data": {
      "text/html": [
       "<div>\n",
       "<style scoped>\n",
       "    .dataframe tbody tr th:only-of-type {\n",
       "        vertical-align: middle;\n",
       "    }\n",
       "\n",
       "    .dataframe tbody tr th {\n",
       "        vertical-align: top;\n",
       "    }\n",
       "\n",
       "    .dataframe thead th {\n",
       "        text-align: right;\n",
       "    }\n",
       "</style>\n",
       "<table border=\"1\" class=\"dataframe\">\n",
       "  <thead>\n",
       "    <tr style=\"text-align: right;\">\n",
       "      <th></th>\n",
       "      <th>Atlanta, GA</th>\n",
       "      <th>Atlanta, GA 30341</th>\n",
       "      <th>Aurora, CO</th>\n",
       "      <th>Aurora, CO 80011 (Norfolk Glen area)</th>\n",
       "      <th>Austin, TX</th>\n",
       "      <th>Azusa, CA</th>\n",
       "      <th>Bellevue, WA</th>\n",
       "      <th>Belmont, CA</th>\n",
       "      <th>Berkeley, CA</th>\n",
       "      <th>Boulder, CO</th>\n",
       "      <th>...</th>\n",
       "      <th>Scottsdale, AZ</th>\n",
       "      <th>Seattle, WA</th>\n",
       "      <th>Smyrna, GA 30082</th>\n",
       "      <th>Spring House, PA</th>\n",
       "      <th>Tempe, AZ</th>\n",
       "      <th>job</th>\n",
       "      <th>comp</th>\n",
       "      <th>salary</th>\n",
       "      <th>anual_salary</th>\n",
       "      <th>city</th>\n",
       "    </tr>\n",
       "  </thead>\n",
       "  <tbody>\n",
       "    <tr>\n",
       "      <th>0</th>\n",
       "      <td>0</td>\n",
       "      <td>0</td>\n",
       "      <td>0</td>\n",
       "      <td>0</td>\n",
       "      <td>0</td>\n",
       "      <td>0</td>\n",
       "      <td>0</td>\n",
       "      <td>0</td>\n",
       "      <td>0</td>\n",
       "      <td>0</td>\n",
       "      <td>...</td>\n",
       "      <td>0</td>\n",
       "      <td>0</td>\n",
       "      <td>0</td>\n",
       "      <td>0</td>\n",
       "      <td>0</td>\n",
       "      <td>Research Financial Analyst II</td>\n",
       "      <td>Baylor College of Medicine</td>\n",
       "      <td>$65,000 a year</td>\n",
       "      <td>65000.0</td>\n",
       "      <td>Houston</td>\n",
       "    </tr>\n",
       "    <tr>\n",
       "      <th>1</th>\n",
       "      <td>0</td>\n",
       "      <td>0</td>\n",
       "      <td>0</td>\n",
       "      <td>0</td>\n",
       "      <td>0</td>\n",
       "      <td>0</td>\n",
       "      <td>0</td>\n",
       "      <td>0</td>\n",
       "      <td>0</td>\n",
       "      <td>0</td>\n",
       "      <td>...</td>\n",
       "      <td>0</td>\n",
       "      <td>0</td>\n",
       "      <td>0</td>\n",
       "      <td>0</td>\n",
       "      <td>0</td>\n",
       "      <td>Sr. Bioinformatics Programmer</td>\n",
       "      <td>Baylor College of Medicine</td>\n",
       "      <td>$70,000 - $91,000 a year</td>\n",
       "      <td>80500.0</td>\n",
       "      <td>Houston</td>\n",
       "    </tr>\n",
       "    <tr>\n",
       "      <th>2</th>\n",
       "      <td>0</td>\n",
       "      <td>0</td>\n",
       "      <td>0</td>\n",
       "      <td>0</td>\n",
       "      <td>0</td>\n",
       "      <td>0</td>\n",
       "      <td>0</td>\n",
       "      <td>0</td>\n",
       "      <td>0</td>\n",
       "      <td>0</td>\n",
       "      <td>...</td>\n",
       "      <td>0</td>\n",
       "      <td>0</td>\n",
       "      <td>0</td>\n",
       "      <td>0</td>\n",
       "      <td>1</td>\n",
       "      <td>Data Analysis Specialist</td>\n",
       "      <td>Arizona State University</td>\n",
       "      <td>$47,476 - $60,000 a year</td>\n",
       "      <td>53738.0</td>\n",
       "      <td>Tempe</td>\n",
       "    </tr>\n",
       "    <tr>\n",
       "      <th>3</th>\n",
       "      <td>0</td>\n",
       "      <td>0</td>\n",
       "      <td>0</td>\n",
       "      <td>0</td>\n",
       "      <td>0</td>\n",
       "      <td>0</td>\n",
       "      <td>0</td>\n",
       "      <td>0</td>\n",
       "      <td>0</td>\n",
       "      <td>0</td>\n",
       "      <td>...</td>\n",
       "      <td>0</td>\n",
       "      <td>0</td>\n",
       "      <td>0</td>\n",
       "      <td>0</td>\n",
       "      <td>0</td>\n",
       "      <td>Research Analyst</td>\n",
       "      <td>Maricopa County, AZ</td>\n",
       "      <td>$44,616 - $82,618 a year</td>\n",
       "      <td>63617.0</td>\n",
       "      <td>Phoenix</td>\n",
       "    </tr>\n",
       "    <tr>\n",
       "      <th>4</th>\n",
       "      <td>0</td>\n",
       "      <td>0</td>\n",
       "      <td>0</td>\n",
       "      <td>0</td>\n",
       "      <td>0</td>\n",
       "      <td>0</td>\n",
       "      <td>0</td>\n",
       "      <td>0</td>\n",
       "      <td>0</td>\n",
       "      <td>0</td>\n",
       "      <td>...</td>\n",
       "      <td>0</td>\n",
       "      <td>0</td>\n",
       "      <td>0</td>\n",
       "      <td>0</td>\n",
       "      <td>0</td>\n",
       "      <td>RESEARCH AND STATISTICAL ANALYST</td>\n",
       "      <td>Arizona Health Care Cost Containment System</td>\n",
       "      <td>$39,983 - $55,500 a year</td>\n",
       "      <td>47741.5</td>\n",
       "      <td>Phoenix</td>\n",
       "    </tr>\n",
       "  </tbody>\n",
       "</table>\n",
       "<p>5 rows × 72 columns</p>\n",
       "</div>"
      ],
      "text/plain": [
       "   Atlanta, GA  Atlanta, GA 30341  Aurora, CO  \\\n",
       "0            0                  0           0   \n",
       "1            0                  0           0   \n",
       "2            0                  0           0   \n",
       "3            0                  0           0   \n",
       "4            0                  0           0   \n",
       "\n",
       "   Aurora, CO 80011 (Norfolk Glen area)  Austin, TX  Azusa, CA  Bellevue, WA  \\\n",
       "0                                     0           0          0             0   \n",
       "1                                     0           0          0             0   \n",
       "2                                     0           0          0             0   \n",
       "3                                     0           0          0             0   \n",
       "4                                     0           0          0             0   \n",
       "\n",
       "   Belmont, CA  Berkeley, CA  Boulder, CO  ...  Scottsdale, AZ  Seattle, WA  \\\n",
       "0            0             0            0  ...               0            0   \n",
       "1            0             0            0  ...               0            0   \n",
       "2            0             0            0  ...               0            0   \n",
       "3            0             0            0  ...               0            0   \n",
       "4            0             0            0  ...               0            0   \n",
       "\n",
       "   Smyrna, GA 30082  Spring House, PA  Tempe, AZ  \\\n",
       "0                 0                 0          0   \n",
       "1                 0                 0          0   \n",
       "2                 0                 0          1   \n",
       "3                 0                 0          0   \n",
       "4                 0                 0          0   \n",
       "\n",
       "                                job  \\\n",
       "0     Research Financial Analyst II   \n",
       "1     Sr. Bioinformatics Programmer   \n",
       "2          Data Analysis Specialist   \n",
       "3                  Research Analyst   \n",
       "4  RESEARCH AND STATISTICAL ANALYST   \n",
       "\n",
       "                                          comp                    salary  \\\n",
       "0                   Baylor College of Medicine            $65,000 a year   \n",
       "1                   Baylor College of Medicine  $70,000 - $91,000 a year   \n",
       "2                     Arizona State University  $47,476 - $60,000 a year   \n",
       "3                          Maricopa County, AZ  $44,616 - $82,618 a year   \n",
       "4  Arizona Health Care Cost Containment System  $39,983 - $55,500 a year   \n",
       "\n",
       "   anual_salary     city  \n",
       "0       65000.0  Houston  \n",
       "1       80500.0  Houston  \n",
       "2       53738.0    Tempe  \n",
       "3       63617.0  Phoenix  \n",
       "4       47741.5  Phoenix  \n",
       "\n",
       "[5 rows x 72 columns]"
      ]
     },
     "execution_count": 18,
     "metadata": {},
     "output_type": "execute_result"
    }
   ],
   "source": [
    "#drop rows with NaN by product_name\n",
    "sans_NaN = new.dropna(subset=['anual_salary'])\n",
    "sans_NaN.head()"
   ]
  },
  {
   "cell_type": "code",
   "execution_count": 19,
   "metadata": {},
   "outputs": [
    {
     "data": {
      "text/plain": [
       "Atlanta, GA                                          0\n",
       "Atlanta, GA 30341                                    0\n",
       "Aurora, CO                                           0\n",
       "Aurora, CO 80011 (Norfolk Glen area)                 0\n",
       "Austin, TX                                           0\n",
       "Azusa, CA                                            0\n",
       "Bellevue, WA                                         0\n",
       "Belmont, CA                                          0\n",
       "Berkeley, CA                                         0\n",
       "Boulder, CO                                          0\n",
       "Burbank, CA                                          0\n",
       "Charlotte, NC 28203 (Dilworth area)                  0\n",
       "Chatsworth, CA 91311                                 0\n",
       "Chicago, IL                                          0\n",
       "Chicago, IL 60601 (Loop area)                        0\n",
       "Chicago, IL 60603 (Loop area)                        0\n",
       "Coral Gables, FL                                     0\n",
       "Culver City, CA 90230                                0\n",
       "Dallas, TX                                           0\n",
       "Dallas-Fort Worth, TX                                0\n",
       "Denver, CO                                           0\n",
       "Denver, CO 80204 (Central West Denver area)          0\n",
       "Des Plaines, IL                                      0\n",
       "Dublin, OH 43017                                     0\n",
       "Evanston, IL                                         0\n",
       "Fort Washington, PA                                  0\n",
       "Fullerton, CA                                        0\n",
       "Houston, TX                                          0\n",
       "Irving, TX                                           0\n",
       "Irving, TX 75038                                     0\n",
       "                                                    ..\n",
       "New York, NY 10001 (Chelsea area)                    0\n",
       "New York, NY 10016 (Gramercy area)                   0\n",
       "New York, NY 10167 (Midtown area)                    0\n",
       "Oakland, CA                                          0\n",
       "Philadelphia, PA                                     0\n",
       "Philadelphia, PA 19107 (City Center East area)       0\n",
       "Phoenix, AZ                                          0\n",
       "Phoenix, AZ 85003 (Central City area)                0\n",
       "Phoenix, AZ 85012 (Alhambra area)                    0\n",
       "Pittsburgh, PA                                       0\n",
       "Plano, TX                                            0\n",
       "Portland, OR                                         0\n",
       "Portland, OR 97213 (Roseway area)                    0\n",
       "Portland, OR 97225 (West Slope area)                 0\n",
       "Radnor, PA                                           0\n",
       "Richardson, TX                                       0\n",
       "Rowland Heights, CA 91748                            0\n",
       "San Francisco, CA                                    0\n",
       "San Francisco, CA 94105 (Financial District area)    0\n",
       "San Francisco, CA 94124 (Bayview area)               0\n",
       "Scottsdale, AZ                                       0\n",
       "Seattle, WA                                          0\n",
       "Smyrna, GA 30082                                     0\n",
       "Spring House, PA                                     0\n",
       "Tempe, AZ                                            0\n",
       "job                                                  0\n",
       "comp                                                 0\n",
       "salary                                               0\n",
       "anual_salary                                         0\n",
       "city                                                 0\n",
       "Length: 72, dtype: int64"
      ]
     },
     "execution_count": 19,
     "metadata": {},
     "output_type": "execute_result"
    }
   ],
   "source": [
    "#is NaN\n",
    "nombre_nan = sans_NaN.isna().sum()\n",
    "nombre_nan"
   ]
  },
  {
   "cell_type": "code",
   "execution_count": 20,
   "metadata": {},
   "outputs": [
    {
     "data": {
      "text/plain": [
       "array([[0, 0, 0, ..., 0, 0, 0],\n",
       "       [0, 0, 0, ..., 0, 0, 0],\n",
       "       [0, 0, 0, ..., 0, 0, 1],\n",
       "       ...,\n",
       "       [0, 0, 0, ..., 0, 0, 0],\n",
       "       [0, 0, 0, ..., 0, 0, 0],\n",
       "       [0, 0, 0, ..., 0, 0, 0]], dtype=uint8)"
      ]
     },
     "execution_count": 20,
     "metadata": {},
     "output_type": "execute_result"
    }
   ],
   "source": [
    "#redéfinir X\n",
    "X = sans_NaN.iloc[:,0:67].values\n",
    "X"
   ]
  },
  {
   "cell_type": "code",
   "execution_count": 21,
   "metadata": {},
   "outputs": [],
   "source": [
    "#variable à predire\n",
    "y = sans_NaN['anual_salary']"
   ]
  },
  {
   "cell_type": "code",
   "execution_count": 24,
   "metadata": {},
   "outputs": [
    {
     "data": {
      "text/plain": [
       "array([ 65000. ,  80500. ,  53738. ,  63617. ,  47741.5,  68500. ,\n",
       "        56677. ,  55735. ,  48991.5,  52500. ,  49738. ,  60000. ,\n",
       "       150000. ,  56871. , 110000. ,  28800. , 110000. , 132500. ,\n",
       "        80000. , 180000. , 180000. , 155000. , 128016. ,  90000. ,\n",
       "        82500. , 110000. ,  38400. ,  67500. , 172800. , 140000. ,\n",
       "        70000. , 200000. , 115000. , 135000. ,  34142. , 140000. ,\n",
       "       111774. , 160000. , 180000. , 165000. , 140000. , 140000. ,\n",
       "        34142. , 115200. , 160000. ,  62850. , 250000. ,  79249.5,\n",
       "        65977. , 125000. ,  33650. , 200000. , 120000. , 165000. ,\n",
       "        74119.5,  79249.5,  79249.5,  78510.5,  84315. ,  77975. ,\n",
       "        46072. ,  57500. ,  64055.5,  76941.5,  98806. ,  87500. ,\n",
       "       110000. ,  88331. ,  79025.5,  90981. , 212500. ,  79249.5,\n",
       "        60000. ,  79249.5,  76941.5,  76941.5, 124500. ,  56576. ,\n",
       "        80000. ,  76941.5,  95000. , 107500. , 180000. , 145000. ,\n",
       "       175000. ,  97500. ,  90000. , 180000. ,  67200. ,  85000. ,\n",
       "        50000. ,  95000. , 112500. ,  86400. ,  70000. , 140000. ,\n",
       "       220000. , 110000. , 124800. , 110000. , 155000. ,  60000. ,\n",
       "        57600. , 110000. , 100000. , 250000. , 100000. ,  67026. ,\n",
       "        68000. ,  50500. ,  66654. ,  50000. , 102636. ,  73860. ,\n",
       "        64213. ,  97476. , 104708.5,  79758.5,  97476. , 120000. ,\n",
       "       125000. ,  73860. ,  56072. ,  75864. ,  56072. , 130000. ,\n",
       "        84495.5,  84495.5, 180000. , 130000. ,  60000. ,  50000. ,\n",
       "        56000. ,  50000. ,  55000. ,  40014. ,  40014. ,  56000. ,\n",
       "        32900. ,  50375. , 108600. ,  93100. ,  46000. ,  56000. ,\n",
       "        80000. ,  85000. ,  80000. ,  50000. ,  51706. ,  94531. ,\n",
       "        69900. ,  85399. ,  66700. ,  80000. ,  65000. ,  62500. ,\n",
       "        55548. ,  39192. ,  42090. ,  38244. , 125000. ,  57500. ,\n",
       "        75366. ,  51138. ,  63012. ,  75366. ,  63012. ,  65568. ,\n",
       "       288000. , 140000. ,  80004. , 102498. ,  68436. ,  71400. ,\n",
       "       102498. ,  69996. ,  71400. ,  73200. , 150000. ,  71400. ,\n",
       "        57500. ,  28800. ,  64638. ,  45000. ,  48738. , 102500. ,\n",
       "        48000. ,  85000. ,  24960. , 105000. ,  90000. , 153600. ,\n",
       "        75400. ,  55008. ,  66996. ,  51409. ])"
      ]
     },
     "execution_count": 24,
     "metadata": {},
     "output_type": "execute_result"
    }
   ],
   "source": [
    "y_array = y.values\n",
    "y_array"
   ]
  },
  {
   "cell_type": "code",
   "execution_count": 20,
   "metadata": {},
   "outputs": [],
   "source": [
    "#2. Diviser le dataset entre training et test set\n",
    "X_train, X_test, y_train, y_test = train_test_split(X, y_array, test_size=0.25, random_state=0)"
   ]
  },
  {
   "cell_type": "code",
   "execution_count": 21,
   "metadata": {},
   "outputs": [],
   "source": [
    "#convert en int\n",
    "y_train2 = y_train.astype(np.int)"
   ]
  },
  {
   "cell_type": "code",
   "execution_count": 22,
   "metadata": {},
   "outputs": [
    {
     "name": "stderr",
     "output_type": "stream",
     "text": [
      "C:\\Users\\utilisateur\\Anaconda3\\lib\\site-packages\\sklearn\\linear_model\\logistic.py:460: FutureWarning: Default multi_class will be changed to 'auto' in 0.22. Specify the multi_class option to silence this warning.\n",
      "  \"this warning.\", FutureWarning)\n"
     ]
    },
    {
     "data": {
      "text/plain": [
       "LogisticRegression(C=1.0, class_weight=None, dual=False, fit_intercept=True,\n",
       "          intercept_scaling=1, max_iter=100, multi_class='warn',\n",
       "          n_jobs=None, penalty='l2', random_state=None, solver='lbfgs',\n",
       "          tol=0.0001, verbose=0, warm_start=False)"
      ]
     },
     "execution_count": 22,
     "metadata": {},
     "output_type": "execute_result"
    }
   ],
   "source": [
    "#4. Construire le modèle avec -> from sklearn.linear_model import LogisticRegression\n",
    "from sklearn.linear_model import LogisticRegression\n",
    "\n",
    "modele = LogisticRegression(solver='lbfgs')\n",
    "modele.fit(X_train, y_train2)"
   ]
  },
  {
   "cell_type": "code",
   "execution_count": 23,
   "metadata": {},
   "outputs": [
    {
     "data": {
      "text/plain": [
       "array([140000, 140000, 140000, 140000,  71400, 140000, 140000, 180000,\n",
       "       180000, 110000, 140000, 140000, 140000, 140000,  71400, 140000,\n",
       "       180000, 180000, 140000, 140000, 180000,  71400, 140000, 140000,\n",
       "       140000, 180000, 140000, 140000,  71400, 140000, 110000, 140000,\n",
       "       180000, 140000, 140000, 140000,  71400, 140000, 140000,  90000,\n",
       "       140000, 140000, 180000, 140000, 180000,  50000, 180000, 140000,\n",
       "       180000])"
      ]
     },
     "execution_count": 23,
     "metadata": {},
     "output_type": "execute_result"
    }
   ],
   "source": [
    "y_predict = modele.predict(X_test)\n",
    "y_predict"
   ]
  },
  {
   "cell_type": "code",
   "execution_count": 24,
   "metadata": {},
   "outputs": [
    {
     "data": {
      "text/plain": [
       "dtype('float64')"
      ]
     },
     "execution_count": 24,
     "metadata": {},
     "output_type": "execute_result"
    }
   ],
   "source": [
    "y_test.dtype"
   ]
  },
  {
   "cell_type": "code",
   "execution_count": 25,
   "metadata": {},
   "outputs": [
    {
     "data": {
      "text/plain": [
       "array([145000, 150000, 135000,  73860, 102498,  55000,  51138,  56072,\n",
       "        76941,  80000,  55735,  68500, 130000,  57500,  80004,  28800,\n",
       "        75864,  46072, 160000,  93100,  79249,  71400,  40014,  85000,\n",
       "        76941,  79249,  66654,  63012,  69996,  62850, 128016,  62500,\n",
       "       110000, 160000,  47741,  95000, 150000, 100000, 125000,  38400,\n",
       "        50375,  56000,  79249,  48991,  57500,  60000,  56072,  60000,\n",
       "        97476])"
      ]
     },
     "execution_count": 25,
     "metadata": {},
     "output_type": "execute_result"
    }
   ],
   "source": [
    "y_test.astype(np.int)"
   ]
  },
  {
   "cell_type": "code",
   "execution_count": 26,
   "metadata": {},
   "outputs": [
    {
     "data": {
      "text/plain": [
       "dtype('int32')"
      ]
     },
     "execution_count": 26,
     "metadata": {},
     "output_type": "execute_result"
    }
   ],
   "source": [
    "y_predict.dtype"
   ]
  },
  {
   "cell_type": "code",
   "execution_count": 27,
   "metadata": {},
   "outputs": [
    {
     "data": {
      "text/plain": [
       "array([140000, 140000, 140000, 140000,  71400, 140000, 140000, 180000,\n",
       "       180000, 110000, 140000, 140000, 140000, 140000,  71400, 140000,\n",
       "       180000, 180000, 140000, 140000, 180000,  71400, 140000, 140000,\n",
       "       140000, 180000, 140000, 140000,  71400, 140000, 110000, 140000,\n",
       "       180000, 140000, 140000, 140000,  71400, 140000, 140000,  90000,\n",
       "       140000, 140000, 180000, 140000, 180000,  50000, 180000, 140000,\n",
       "       180000])"
      ]
     },
     "execution_count": 27,
     "metadata": {},
     "output_type": "execute_result"
    }
   ],
   "source": [
    "y_predict"
   ]
  },
  {
   "cell_type": "code",
   "execution_count": 28,
   "metadata": {
    "scrolled": true
   },
   "outputs": [
    {
     "data": {
      "text/plain": [
       "array([ 24960. ,  28800. ,  32900. ,  33650. ,  34142. ,  38244. ,\n",
       "        39192. ,  40014. ,  42090. ,  45000. ,  46000. ,  48000. ,\n",
       "        48738. ,  49738. ,  50000. ,  50500. ,  51409. ,  51706. ,\n",
       "        52500. ,  53738. ,  55008. ,  55548. ,  56000. ,  56576. ,\n",
       "        56677. ,  56871. ,  57500. ,  57600. ,  60000. ,  63012. ,\n",
       "        63617. ,  64055.5,  64213. ,  64638. ,  65000. ,  65568. ,\n",
       "        65977. ,  66700. ,  66996. ,  67026. ,  67200. ,  67500. ,\n",
       "        68000. ,  68436. ,  69900. ,  70000. ,  71400. ,  73200. ,\n",
       "        73860. ,  74119.5,  75366. ,  75400. ,  76941.5,  77975. ,\n",
       "        78510.5,  79025.5,  79249.5,  79758.5,  80000. ,  80500. ,\n",
       "        82500. ,  84315. ,  84495.5,  85000. ,  85399. ,  86400. ,\n",
       "        87500. ,  88331. ,  90000. ,  90981. ,  94531. ,  95000. ,\n",
       "        97476. ,  97500. ,  98806. , 100000. , 102498. , 102500. ,\n",
       "       102636. , 104708.5, 105000. , 107500. , 108600. , 110000. ,\n",
       "       111774. , 112500. , 115000. , 115200. , 120000. , 124500. ,\n",
       "       124800. , 125000. , 130000. , 132500. , 140000. , 153600. ,\n",
       "       155000. , 165000. , 172800. , 175000. , 180000. , 200000. ,\n",
       "       212500. , 220000. , 250000. , 288000. ])"
      ]
     },
     "execution_count": 28,
     "metadata": {},
     "output_type": "execute_result"
    }
   ],
   "source": [
    "np.unique(y_train)"
   ]
  },
  {
   "cell_type": "code",
   "execution_count": 29,
   "metadata": {},
   "outputs": [
    {
     "data": {
      "text/plain": [
       "array([ 28800. ,  38400. ,  40014. ,  46072. ,  47741.5,  48991.5,\n",
       "        50375. ,  51138. ,  55000. ,  55735. ,  56000. ,  56072. ,\n",
       "        57500. ,  60000. ,  62500. ,  62850. ,  63012. ,  66654. ,\n",
       "        68500. ,  69996. ,  71400. ,  73860. ,  75864. ,  76941.5,\n",
       "        79249.5,  80000. ,  80004. ,  85000. ,  93100. ,  95000. ,\n",
       "        97476. , 100000. , 102498. , 110000. , 125000. , 128016. ,\n",
       "       130000. , 135000. , 145000. , 150000. , 160000. ])"
      ]
     },
     "execution_count": 29,
     "metadata": {},
     "output_type": "execute_result"
    }
   ],
   "source": [
    "np.unique(y_test)"
   ]
  },
  {
   "cell_type": "code",
   "execution_count": 30,
   "metadata": {},
   "outputs": [
    {
     "data": {
      "text/plain": [
       "0.02040816326530612"
      ]
     },
     "execution_count": 30,
     "metadata": {},
     "output_type": "execute_result"
    }
   ],
   "source": [
    "#accuracy\n",
    "metrics.accuracy_score(y_test.astype(np.int), y_predict)"
   ]
  },
  {
   "cell_type": "code",
   "execution_count": 31,
   "metadata": {},
   "outputs": [
    {
     "data": {
      "text/plain": [
       "array([[0, 0, 0, ..., 0, 0, 0],\n",
       "       [0, 0, 0, ..., 0, 0, 0],\n",
       "       [0, 0, 0, ..., 0, 0, 0],\n",
       "       ...,\n",
       "       [0, 0, 0, ..., 0, 0, 0],\n",
       "       [0, 0, 0, ..., 0, 0, 0],\n",
       "       [0, 0, 0, ..., 0, 0, 0]], dtype=int64)"
      ]
     },
     "execution_count": 31,
     "metadata": {},
     "output_type": "execute_result"
    }
   ],
   "source": [
    "from sklearn import metrics\n",
    "metrics.confusion_matrix(y_test.astype(np.int), y_predict)"
   ]
  },
  {
   "cell_type": "code",
   "execution_count": 32,
   "metadata": {},
   "outputs": [
    {
     "data": {
      "text/plain": [
       "(array([13., 40., 40., 35., 23., 12.,  9.,  9.,  8.,  2.,  1.,  1.,  2.,\n",
       "         0.,  1.]),\n",
       " array([ 24960.,  42496.,  60032.,  77568.,  95104., 112640., 130176.,\n",
       "        147712., 165248., 182784., 200320., 217856., 235392., 252928.,\n",
       "        270464., 288000.]),\n",
       " <a list of 15 Patch objects>)"
      ]
     },
     "execution_count": 32,
     "metadata": {},
     "output_type": "execute_result"
    },
    {
     "data": {
      "image/png": "[encoded data removed]",
      "text/plain": [
       "<Figure size 432x288 with 1 Axes>"
      ]
     },
     "metadata": {
      "needs_background": "light"
     },
     "output_type": "display_data"
    }
   ],
   "source": [
    "plt.hist(y_array,15)"
   ]
  },
  {
   "cell_type": "code",
   "execution_count": 33,
   "metadata": {},
   "outputs": [],
   "source": [
    "#Création de niveau de salaires entre 0 et 8\n",
    "\n",
    "y_class0 = np.where(y_array > 180000, 0, y_array)\n",
    "y_class1 = np.where(y_class0 > 150000, 1, y_class0)\n",
    "y_class2 = np.where(y_class1 > 120000, 2, y_class1)\n",
    "y_class3 = np.where(y_class2 > 100000, 3, y_class2)\n",
    "y_class4 = np.where(y_class3 > 85000, 4, y_class3)\n",
    "y_class5 = np.where(y_class4 > 70000, 5, y_class4)\n",
    "y_class6 = np.where(y_class5 > 60000, 6, y_class5)\n",
    "y_class7 = np.where(y_class6 > 50000, 7, y_class6)\n",
    "y_class8 = np.where(y_class7 > 10, 8, y_class7)"
   ]
  },
  {
   "cell_type": "code",
   "execution_count": 34,
   "metadata": {},
   "outputs": [
    {
     "data": {
      "text/plain": [
       "(array([ 7.,  0.,  7., 10., 32., 32., 29., 18., 13., 12., 10.,  8.,  6.,\n",
       "         4.,  8.]),\n",
       " array([     0.,  12000.,  24000.,  36000.,  48000.,  60000.,  72000.,\n",
       "         84000.,  96000., 108000., 120000., 132000., 144000., 156000.,\n",
       "        168000., 180000.]),\n",
       " <a list of 15 Patch objects>)"
      ]
     },
     "execution_count": 34,
     "metadata": {},
     "output_type": "execute_result"
    },
    {
     "data": {
      "image/png": "[encoded data removed]",
      "text/plain": [
       "<Figure size 432x288 with 1 Axes>"
      ]
     },
     "metadata": {
      "needs_background": "light"
     },
     "output_type": "display_data"
    }
   ],
   "source": [
    "plt.hist(y_class0,15)"
   ]
  },
  {
   "cell_type": "code",
   "execution_count": 35,
   "metadata": {
    "scrolled": true
   },
   "outputs": [
    {
     "data": {
      "text/plain": [
       "(array([22.,  0.,  3.,  7., 11., 28., 27., 26., 18., 12., 10., 11.,  8.,\n",
       "         4.,  9.]),\n",
       " array([     0.,  10000.,  20000.,  30000.,  40000.,  50000.,  60000.,\n",
       "         70000.,  80000.,  90000., 100000., 110000., 120000., 130000.,\n",
       "        140000., 150000.]),\n",
       " <a list of 15 Patch objects>)"
      ]
     },
     "execution_count": 35,
     "metadata": {},
     "output_type": "execute_result"
    },
    {
     "data": {
      "image/png": "[encoded data removed]",
      "text/plain": [
       "<Figure size 432x288 with 1 Axes>"
      ]
     },
     "metadata": {
      "needs_background": "light"
     },
     "output_type": "display_data"
    }
   ],
   "source": [
    "plt.hist(y_class1,15)"
   ]
  },
  {
   "cell_type": "code",
   "execution_count": 36,
   "metadata": {},
   "outputs": [
    {
     "data": {
      "text/plain": [
       "(array([41.,  0.,  0.,  3.,  7.,  7., 20., 21., 23., 21., 17.,  9., 10.,\n",
       "        12.,  5.]),\n",
       " array([     0.,   8000.,  16000.,  24000.,  32000.,  40000.,  48000.,\n",
       "         56000.,  64000.,  72000.,  80000.,  88000.,  96000., 104000.,\n",
       "        112000., 120000.]),\n",
       " <a list of 15 Patch objects>)"
      ]
     },
     "execution_count": 36,
     "metadata": {},
     "output_type": "execute_result"
    },
    {
     "data": {
      "image/png": "[encoded data removed]",
      "text/plain": [
       "<Figure size 432x288 with 1 Axes>"
      ]
     },
     "metadata": {
      "needs_background": "light"
     },
     "output_type": "display_data"
    }
   ],
   "source": [
    "plt.hist(y_class2,15)"
   ]
  },
  {
   "cell_type": "code",
   "execution_count": 37,
   "metadata": {},
   "outputs": [
    {
     "data": {
      "text/plain": [
       "(array([62.,  0.,  0.,  1.,  3.,  6.,  6., 16., 17., 17., 16., 20., 16.,\n",
       "         7.,  9.]),\n",
       " array([     0.        ,   6666.66666667,  13333.33333333,  20000.        ,\n",
       "         26666.66666667,  33333.33333333,  40000.        ,  46666.66666667,\n",
       "         53333.33333333,  60000.        ,  66666.66666667,  73333.33333333,\n",
       "         80000.        ,  86666.66666667,  93333.33333333, 100000.        ]),\n",
       " <a list of 15 Patch objects>)"
      ]
     },
     "execution_count": 37,
     "metadata": {},
     "output_type": "execute_result"
    },
    {
     "data": {
      "image/png": "[encoded data removed]",
      "text/plain": [
       "<Figure size 432x288 with 1 Axes>"
      ]
     },
     "metadata": {
      "needs_background": "light"
     },
     "output_type": "display_data"
    }
   ],
   "source": [
    "plt.hist(y_class3,15)"
   ]
  },
  {
   "cell_type": "code",
   "execution_count": 38,
   "metadata": {},
   "outputs": [
    {
     "data": {
      "text/plain": [
       "(array([80.,  0.,  0.,  0.,  1.,  4.,  5.,  4., 14., 15., 10., 18., 11.,\n",
       "        19., 15.]),\n",
       " array([    0.        ,  5666.66666667, 11333.33333333, 17000.        ,\n",
       "        22666.66666667, 28333.33333333, 34000.        , 39666.66666667,\n",
       "        45333.33333333, 51000.        , 56666.66666667, 62333.33333333,\n",
       "        68000.        , 73666.66666667, 79333.33333333, 85000.        ]),\n",
       " <a list of 15 Patch objects>)"
      ]
     },
     "execution_count": 38,
     "metadata": {},
     "output_type": "execute_result"
    },
    {
     "data": {
      "image/png": "[encoded data removed]",
      "text/plain": [
       "<Figure size 432x288 with 1 Axes>"
      ]
     },
     "metadata": {
      "needs_background": "light"
     },
     "output_type": "display_data"
    }
   ],
   "source": [
    "plt.hist(y_class4,15)"
   ]
  },
  {
   "cell_type": "code",
   "execution_count": 39,
   "metadata": {},
   "outputs": [
    {
     "data": {
      "text/plain": [
       "(array([118.,   0.,   0.,   0.,   0.,   1.,   2.,   4.,   5.,   4.,  13.,\n",
       "          8.,  16.,  10.,  15.]),\n",
       " array([    0.        ,  4666.66666667,  9333.33333333, 14000.        ,\n",
       "        18666.66666667, 23333.33333333, 28000.        , 32666.66666667,\n",
       "        37333.33333333, 42000.        , 46666.66666667, 51333.33333333,\n",
       "        56000.        , 60666.66666667, 65333.33333333, 70000.        ]),\n",
       " <a list of 15 Patch objects>)"
      ]
     },
     "execution_count": 39,
     "metadata": {},
     "output_type": "execute_result"
    },
    {
     "data": {
      "image/png": "[encoded data removed]",
      "text/plain": [
       "<Figure size 432x288 with 1 Axes>"
      ]
     },
     "metadata": {
      "needs_background": "light"
     },
     "output_type": "display_data"
    }
   ],
   "source": [
    "plt.hist(y_class5,15)"
   ]
  },
  {
   "cell_type": "code",
   "execution_count": 40,
   "metadata": {},
   "outputs": [
    {
     "data": {
      "text/plain": [
       "(array([143.,   0.,   0.,   0.,   0.,   0.,   1.,   2.,   4.,   3.,   3.,\n",
       "          4.,  14.,   6.,  16.]),\n",
       " array([    0.,  4000.,  8000., 12000., 16000., 20000., 24000., 28000.,\n",
       "        32000., 36000., 40000., 44000., 48000., 52000., 56000., 60000.]),\n",
       " <a list of 15 Patch objects>)"
      ]
     },
     "execution_count": 40,
     "metadata": {},
     "output_type": "execute_result"
    },
    {
     "data": {
      "image/png": "[encoded data removed]",
      "text/plain": [
       "<Figure size 432x288 with 1 Axes>"
      ]
     },
     "metadata": {
      "needs_background": "light"
     },
     "output_type": "display_data"
    }
   ],
   "source": [
    "plt.hist(y_class6,15)"
   ]
  },
  {
   "cell_type": "code",
   "execution_count": 41,
   "metadata": {},
   "outputs": [
    {
     "data": {
      "text/plain": [
       "(array([170.,   0.,   0.,   0.,   0.,   0.,   0.,   1.,   2.,   1.,   3.,\n",
       "          3.,   3.,   3.,  10.]),\n",
       " array([    0.        ,  3333.33333333,  6666.66666667, 10000.        ,\n",
       "        13333.33333333, 16666.66666667, 20000.        , 23333.33333333,\n",
       "        26666.66666667, 30000.        , 33333.33333333, 36666.66666667,\n",
       "        40000.        , 43333.33333333, 46666.66666667, 50000.        ]),\n",
       " <a list of 15 Patch objects>)"
      ]
     },
     "execution_count": 41,
     "metadata": {},
     "output_type": "execute_result"
    },
    {
     "data": {
      "image/png": "[encoded data removed]",
      "text/plain": [
       "<Figure size 432x288 with 1 Axes>"
      ]
     },
     "metadata": {
      "needs_background": "light"
     },
     "output_type": "display_data"
    }
   ],
   "source": [
    "plt.hist(y_class7,15)"
   ]
  },
  {
   "cell_type": "code",
   "execution_count": 42,
   "metadata": {},
   "outputs": [
    {
     "data": {
      "text/plain": [
       "(array([ 7., 15.,  0., 19.,  0., 21.,  0., 18.,  0., 38.,  0., 25.,  0.,\n",
       "        27., 26.]),\n",
       " array([0.        , 0.53333333, 1.06666667, 1.6       , 2.13333333,\n",
       "        2.66666667, 3.2       , 3.73333333, 4.26666667, 4.8       ,\n",
       "        5.33333333, 5.86666667, 6.4       , 6.93333333, 7.46666667,\n",
       "        8.        ]),\n",
       " <a list of 15 Patch objects>)"
      ]
     },
     "execution_count": 42,
     "metadata": {},
     "output_type": "execute_result"
    },
    {
     "data": {
      "image/png": "[encoded data removed]",
      "text/plain": [
       "<Figure size 432x288 with 1 Axes>"
      ]
     },
     "metadata": {
      "needs_background": "light"
     },
     "output_type": "display_data"
    }
   ],
   "source": [
    "plt.hist(y_class8,15)"
   ]
  },
  {
   "cell_type": "code",
   "execution_count": 43,
   "metadata": {},
   "outputs": [
    {
     "data": {
      "text/plain": [
       "array([0., 1., 2., 3., 4., 5., 6., 7., 8.])"
      ]
     },
     "execution_count": 43,
     "metadata": {},
     "output_type": "execute_result"
    }
   ],
   "source": [
    "np.unique(y_class8)"
   ]
  },
  {
   "cell_type": "code",
   "execution_count": 25,
   "metadata": {},
   "outputs": [
    {
     "data": {
      "text/plain": [
       "array([[ 65000. ],\n",
       "       [ 80500. ],\n",
       "       [ 53738. ],\n",
       "       [ 63617. ],\n",
       "       [ 47741.5],\n",
       "       [ 68500. ],\n",
       "       [ 56677. ],\n",
       "       [ 55735. ],\n",
       "       [ 48991.5],\n",
       "       [ 52500. ],\n",
       "       [ 49738. ],\n",
       "       [ 60000. ],\n",
       "       [150000. ],\n",
       "       [ 56871. ],\n",
       "       [110000. ],\n",
       "       [ 28800. ],\n",
       "       [110000. ],\n",
       "       [132500. ],\n",
       "       [ 80000. ],\n",
       "       [180000. ],\n",
       "       [180000. ],\n",
       "       [155000. ],\n",
       "       [128016. ],\n",
       "       [ 90000. ],\n",
       "       [ 82500. ],\n",
       "       [110000. ],\n",
       "       [ 38400. ],\n",
       "       [ 67500. ],\n",
       "       [172800. ],\n",
       "       [140000. ],\n",
       "       [ 70000. ],\n",
       "       [200000. ],\n",
       "       [115000. ],\n",
       "       [135000. ],\n",
       "       [ 34142. ],\n",
       "       [140000. ],\n",
       "       [111774. ],\n",
       "       [160000. ],\n",
       "       [180000. ],\n",
       "       [165000. ],\n",
       "       [140000. ],\n",
       "       [140000. ],\n",
       "       [ 34142. ],\n",
       "       [115200. ],\n",
       "       [160000. ],\n",
       "       [ 62850. ],\n",
       "       [250000. ],\n",
       "       [ 79249.5],\n",
       "       [ 65977. ],\n",
       "       [125000. ],\n",
       "       [ 33650. ],\n",
       "       [200000. ],\n",
       "       [120000. ],\n",
       "       [165000. ],\n",
       "       [ 74119.5],\n",
       "       [ 79249.5],\n",
       "       [ 79249.5],\n",
       "       [ 78510.5],\n",
       "       [ 84315. ],\n",
       "       [ 77975. ],\n",
       "       [ 46072. ],\n",
       "       [ 57500. ],\n",
       "       [ 64055.5],\n",
       "       [ 76941.5],\n",
       "       [ 98806. ],\n",
       "       [ 87500. ],\n",
       "       [110000. ],\n",
       "       [ 88331. ],\n",
       "       [ 79025.5],\n",
       "       [ 90981. ],\n",
       "       [212500. ],\n",
       "       [ 79249.5],\n",
       "       [ 60000. ],\n",
       "       [ 79249.5],\n",
       "       [ 76941.5],\n",
       "       [ 76941.5],\n",
       "       [124500. ],\n",
       "       [ 56576. ],\n",
       "       [ 80000. ],\n",
       "       [ 76941.5],\n",
       "       [ 95000. ],\n",
       "       [107500. ],\n",
       "       [180000. ],\n",
       "       [145000. ],\n",
       "       [175000. ],\n",
       "       [ 97500. ],\n",
       "       [ 90000. ],\n",
       "       [180000. ],\n",
       "       [ 67200. ],\n",
       "       [ 85000. ],\n",
       "       [ 50000. ],\n",
       "       [ 95000. ],\n",
       "       [112500. ],\n",
       "       [ 86400. ],\n",
       "       [ 70000. ],\n",
       "       [140000. ],\n",
       "       [220000. ],\n",
       "       [110000. ],\n",
       "       [124800. ],\n",
       "       [110000. ],\n",
       "       [155000. ],\n",
       "       [ 60000. ],\n",
       "       [ 57600. ],\n",
       "       [110000. ],\n",
       "       [100000. ],\n",
       "       [250000. ],\n",
       "       [100000. ],\n",
       "       [ 67026. ],\n",
       "       [ 68000. ],\n",
       "       [ 50500. ],\n",
       "       [ 66654. ],\n",
       "       [ 50000. ],\n",
       "       [102636. ],\n",
       "       [ 73860. ],\n",
       "       [ 64213. ],\n",
       "       [ 97476. ],\n",
       "       [104708.5],\n",
       "       [ 79758.5],\n",
       "       [ 97476. ],\n",
       "       [120000. ],\n",
       "       [125000. ],\n",
       "       [ 73860. ],\n",
       "       [ 56072. ],\n",
       "       [ 75864. ],\n",
       "       [ 56072. ],\n",
       "       [130000. ],\n",
       "       [ 84495.5],\n",
       "       [ 84495.5],\n",
       "       [180000. ],\n",
       "       [130000. ],\n",
       "       [ 60000. ],\n",
       "       [ 50000. ],\n",
       "       [ 56000. ],\n",
       "       [ 50000. ],\n",
       "       [ 55000. ],\n",
       "       [ 40014. ],\n",
       "       [ 40014. ],\n",
       "       [ 56000. ],\n",
       "       [ 32900. ],\n",
       "       [ 50375. ],\n",
       "       [108600. ],\n",
       "       [ 93100. ],\n",
       "       [ 46000. ],\n",
       "       [ 56000. ],\n",
       "       [ 80000. ],\n",
       "       [ 85000. ],\n",
       "       [ 80000. ],\n",
       "       [ 50000. ],\n",
       "       [ 51706. ],\n",
       "       [ 94531. ],\n",
       "       [ 69900. ],\n",
       "       [ 85399. ],\n",
       "       [ 66700. ],\n",
       "       [ 80000. ],\n",
       "       [ 65000. ],\n",
       "       [ 62500. ],\n",
       "       [ 55548. ],\n",
       "       [ 39192. ],\n",
       "       [ 42090. ],\n",
       "       [ 38244. ],\n",
       "       [125000. ],\n",
       "       [ 57500. ],\n",
       "       [ 75366. ],\n",
       "       [ 51138. ],\n",
       "       [ 63012. ],\n",
       "       [ 75366. ],\n",
       "       [ 63012. ],\n",
       "       [ 65568. ],\n",
       "       [288000. ],\n",
       "       [140000. ],\n",
       "       [ 80004. ],\n",
       "       [102498. ],\n",
       "       [ 68436. ],\n",
       "       [ 71400. ],\n",
       "       [102498. ],\n",
       "       [ 69996. ],\n",
       "       [ 71400. ],\n",
       "       [ 73200. ],\n",
       "       [150000. ],\n",
       "       [ 71400. ],\n",
       "       [ 57500. ],\n",
       "       [ 28800. ],\n",
       "       [ 64638. ],\n",
       "       [ 45000. ],\n",
       "       [ 48738. ],\n",
       "       [102500. ],\n",
       "       [ 48000. ],\n",
       "       [ 85000. ],\n",
       "       [ 24960. ],\n",
       "       [105000. ],\n",
       "       [ 90000. ],\n",
       "       [153600. ],\n",
       "       [ 75400. ],\n",
       "       [ 55008. ],\n",
       "       [ 66996. ],\n",
       "       [ 51409. ]])"
      ]
     },
     "execution_count": 25,
     "metadata": {},
     "output_type": "execute_result"
    }
   ],
   "source": [
    "y_array.reshape(-1, 1)"
   ]
  },
  {
   "cell_type": "code",
   "execution_count": 45,
   "metadata": {},
   "outputs": [
    {
     "data": {
      "text/plain": [
       "array([ 65000. ,  80500. ,  53738. ,  63617. ,  47741.5,  68500. ,\n",
       "        56677. ,  55735. ,  48991.5,  52500. ,  49738. ,  60000. ,\n",
       "       150000. ,  56871. , 110000. ,  28800. , 110000. , 132500. ,\n",
       "        80000. , 180000. , 180000. , 155000. , 128016. ,  90000. ,\n",
       "        82500. , 110000. ,  38400. ,  67500. , 172800. , 140000. ,\n",
       "        70000. , 200000. , 115000. , 135000. ,  34142. , 140000. ,\n",
       "       111774. , 160000. , 180000. , 165000. , 140000. , 140000. ,\n",
       "        34142. , 115200. , 160000. ,  62850. , 250000. ,  79249.5,\n",
       "        65977. , 125000. ,  33650. , 200000. , 120000. , 165000. ,\n",
       "        74119.5,  79249.5,  79249.5,  78510.5,  84315. ,  77975. ,\n",
       "        46072. ,  57500. ,  64055.5,  76941.5,  98806. ,  87500. ,\n",
       "       110000. ,  88331. ,  79025.5,  90981. , 212500. ,  79249.5,\n",
       "        60000. ,  79249.5,  76941.5,  76941.5, 124500. ,  56576. ,\n",
       "        80000. ,  76941.5,  95000. , 107500. , 180000. , 145000. ,\n",
       "       175000. ,  97500. ,  90000. , 180000. ,  67200. ,  85000. ,\n",
       "        50000. ,  95000. , 112500. ,  86400. ,  70000. , 140000. ,\n",
       "       220000. , 110000. , 124800. , 110000. , 155000. ,  60000. ,\n",
       "        57600. , 110000. , 100000. , 250000. , 100000. ,  67026. ,\n",
       "        68000. ,  50500. ,  66654. ,  50000. , 102636. ,  73860. ,\n",
       "        64213. ,  97476. , 104708.5,  79758.5,  97476. , 120000. ,\n",
       "       125000. ,  73860. ,  56072. ,  75864. ,  56072. , 130000. ,\n",
       "        84495.5,  84495.5, 180000. , 130000. ,  60000. ,  50000. ,\n",
       "        56000. ,  50000. ,  55000. ,  40014. ,  40014. ,  56000. ,\n",
       "        32900. ,  50375. , 108600. ,  93100. ,  46000. ,  56000. ,\n",
       "        80000. ,  85000. ,  80000. ,  50000. ,  51706. ,  94531. ,\n",
       "        69900. ,  85399. ,  66700. ,  80000. ,  65000. ,  62500. ,\n",
       "        55548. ,  39192. ,  42090. ,  38244. , 125000. ,  57500. ,\n",
       "        75366. ,  51138. ,  63012. ,  75366. ,  63012. ,  65568. ,\n",
       "       288000. , 140000. ,  80004. , 102498. ,  68436. ,  71400. ,\n",
       "       102498. ,  69996. ,  71400. ,  73200. , 150000. ,  71400. ,\n",
       "        57500. ,  28800. ,  64638. ,  45000. ,  48738. , 102500. ,\n",
       "        48000. ,  85000. ,  24960. , 105000. ,  90000. , 153600. ,\n",
       "        75400. ,  55008. ,  66996. ,  51409. ])"
      ]
     },
     "execution_count": 45,
     "metadata": {},
     "output_type": "execute_result"
    }
   ],
   "source": [
    "y_array"
   ]
  },
  {
   "cell_type": "code",
   "execution_count": 27,
   "metadata": {},
   "outputs": [
    {
     "data": {
      "text/plain": [
       "array([2, 0, 2, 2, 2, 2, 2, 2, 2, 2, 2, 2, 1, 2, 0, 2, 0, 1, 0, 1, 1, 1,\n",
       "       1, 0, 0, 0, 2, 2, 1, 1, 2, 3, 0, 1, 2, 1, 0, 1, 1, 1, 1, 1, 2, 0,\n",
       "       1, 2, 3, 0, 2, 1, 2, 3, 1, 1, 0, 0, 0, 0, 0, 0, 2, 2, 2, 0, 0, 0,\n",
       "       0, 0, 0, 0, 3, 0, 2, 0, 0, 0, 1, 2, 0, 0, 0, 0, 1, 1, 1, 0, 0, 1,\n",
       "       2, 0, 2, 0, 0, 0, 2, 1, 3, 0, 1, 0, 1, 2, 2, 0, 0, 3, 0, 2, 2, 2,\n",
       "       2, 2, 0, 0, 2, 0, 0, 0, 0, 1, 1, 0, 2, 0, 2, 1, 0, 0, 1, 1, 2, 2,\n",
       "       2, 2, 2, 2, 2, 2, 2, 2, 0, 0, 2, 2, 0, 0, 0, 2, 2, 0, 2, 0, 2, 0,\n",
       "       2, 2, 2, 2, 2, 2, 1, 2, 0, 2, 2, 0, 2, 2, 3, 1, 0, 0, 2, 2, 0, 2,\n",
       "       2, 0, 1, 2, 2, 2, 2, 2, 2, 0, 2, 0, 2, 0, 0, 1, 0, 2, 2, 2],\n",
       "      dtype=int32)"
      ]
     },
     "execution_count": 27,
     "metadata": {},
     "output_type": "execute_result"
    }
   ],
   "source": [
    "from sklearn.cluster import KMeans\n",
    "kmeans = KMeans(n_clusters=4, random_state=0).fit(y_array.reshape(-1, 1))\n",
    "y_k = kmeans.labels_ #.astype(np.int)\n",
    "y_k"
   ]
  },
  {
   "cell_type": "code",
   "execution_count": 47,
   "metadata": {},
   "outputs": [
    {
     "data": {
      "text/plain": [
       "array([6, 5, 7, 6, 8, 6, 7, 7, 8, 7, 8, 7, 2, 7, 3, 8, 3, 2, 5, 1, 1, 1,\n",
       "       2, 4, 5, 3, 8, 6, 1, 2, 6, 0, 3, 2, 8, 2, 3, 1, 1, 1, 2, 2, 8, 3,\n",
       "       1, 6, 0, 5, 6, 2, 8, 0, 3, 1, 5, 5, 5, 5, 5, 5, 8, 7, 6, 5, 4, 4,\n",
       "       3, 4, 5, 4, 0, 5, 7, 5, 5, 5, 2, 7, 5, 5, 4, 3, 1, 2, 1, 4, 4, 1,\n",
       "       6, 5, 8, 4, 3, 4, 6, 2, 0, 3, 2, 3, 1, 7, 7, 3, 4, 0, 4, 6, 6, 7,\n",
       "       6, 8, 3, 5, 6, 4, 3, 5, 4, 3, 2, 5, 7, 5, 7, 2, 5, 5, 1, 2, 7, 8,\n",
       "       7, 8, 7, 8, 8, 7, 8, 7, 3, 4, 8, 7, 5, 5, 5, 8, 7, 4, 6, 4, 6, 5,\n",
       "       6, 6, 7, 8, 8, 8, 2, 7, 5, 7, 6, 5, 6, 6, 0, 2, 5, 3, 6, 5, 3, 6,\n",
       "       5, 5, 2, 5, 7, 8, 6, 8, 8, 3, 8, 5, 8, 3, 4, 1, 5, 7, 6, 7])"
      ]
     },
     "execution_count": 47,
     "metadata": {},
     "output_type": "execute_result"
    }
   ],
   "source": [
    "y_class = y_class8.astype(np.int)\n",
    "y_class"
   ]
  },
  {
   "cell_type": "code",
   "execution_count": 48,
   "metadata": {},
   "outputs": [],
   "source": [
    "#2. Diviser le dataset entre training et test set\n",
    "X_train, X_test, y_train, y_test = train_test_split(X, y_class, test_size=0.25, random_state=0)"
   ]
  },
  {
   "cell_type": "code",
   "execution_count": 49,
   "metadata": {},
   "outputs": [
    {
     "name": "stderr",
     "output_type": "stream",
     "text": [
      "C:\\Users\\utilisateur\\Anaconda3\\lib\\site-packages\\sklearn\\linear_model\\logistic.py:460: FutureWarning: Default multi_class will be changed to 'auto' in 0.22. Specify the multi_class option to silence this warning.\n",
      "  \"this warning.\", FutureWarning)\n"
     ]
    },
    {
     "data": {
      "text/plain": [
       "LogisticRegression(C=1.0, class_weight=None, dual=False, fit_intercept=True,\n",
       "          intercept_scaling=1, max_iter=100, multi_class='warn',\n",
       "          n_jobs=None, penalty='l2', random_state=None, solver='lbfgs',\n",
       "          tol=0.0001, verbose=0, warm_start=False)"
      ]
     },
     "execution_count": 49,
     "metadata": {},
     "output_type": "execute_result"
    }
   ],
   "source": [
    "#4. Construire le modèle avec -> from sklearn.linear_model import LogisticRegression\n",
    "from sklearn.linear_model import LogisticRegression\n",
    "\n",
    "modele = LogisticRegression(solver='lbfgs')\n",
    "modele.fit(X_train, y_train)"
   ]
  },
  {
   "cell_type": "code",
   "execution_count": 50,
   "metadata": {},
   "outputs": [
    {
     "data": {
      "text/plain": [
       "array([3, 7, 1, 5, 5, 5, 8, 5, 5, 3, 7, 7, 5, 8, 5, 5, 5, 5, 1, 8, 5, 5,\n",
       "       8, 5, 5, 5, 5, 8, 5, 5, 3, 5, 5, 1, 7, 3, 5, 4, 8, 4, 8, 8, 5, 7,\n",
       "       5, 8, 5, 5, 5])"
      ]
     },
     "execution_count": 50,
     "metadata": {},
     "output_type": "execute_result"
    }
   ],
   "source": [
    "y_predict = modele.predict(X_test)\n",
    "y_predict"
   ]
  },
  {
   "cell_type": "code",
   "execution_count": 51,
   "metadata": {},
   "outputs": [
    {
     "data": {
      "text/plain": [
       "0.30612244897959184"
      ]
     },
     "execution_count": 51,
     "metadata": {},
     "output_type": "execute_result"
    }
   ],
   "source": [
    "#accuracy\n",
    "metrics.accuracy_score(y_test, y_predict)"
   ]
  },
  {
   "cell_type": "code",
   "execution_count": 52,
   "metadata": {},
   "outputs": [
    {
     "data": {
      "text/plain": [
       "array([[ 2,  0,  0,  0,  0,  0,  0,  0],\n",
       "       [ 1,  0,  2,  0,  2,  0,  1,  1],\n",
       "       [ 0,  0,  0,  0,  2,  0,  0,  0],\n",
       "       [ 0,  0,  1,  1,  1,  0,  0,  1],\n",
       "       [ 0,  0,  1,  0, 10,  0,  0,  0],\n",
       "       [ 0,  0,  0,  0,  4,  0,  1,  1],\n",
       "       [ 0,  0,  0,  0,  5,  0,  1,  5],\n",
       "       [ 0,  0,  0,  1,  2,  0,  2,  1]], dtype=int64)"
      ]
     },
     "execution_count": 52,
     "metadata": {},
     "output_type": "execute_result"
    }
   ],
   "source": [
    "from sklearn import metrics\n",
    "metrics.confusion_matrix(y_test, y_predict)"
   ]
  },
  {
   "cell_type": "code",
   "execution_count": 53,
   "metadata": {},
   "outputs": [
    {
     "name": "stdout",
     "output_type": "stream",
     "text": [
      "(196, 66)\n",
      "(196, 67)\n"
     ]
    }
   ],
   "source": [
    "#Essai en supprimant un colonne de X pour éviter la multi-colinéarité des données: il semblerait qu'on obtienne le même résultat.\n",
    "X_bis = X[:,:66]\n",
    "print(X_bis.shape)\n",
    "print(X.shape)"
   ]
  },
  {
   "cell_type": "code",
   "execution_count": 54,
   "metadata": {},
   "outputs": [
    {
     "name": "stderr",
     "output_type": "stream",
     "text": [
      "C:\\Users\\utilisateur\\Anaconda3\\lib\\site-packages\\sklearn\\linear_model\\logistic.py:460: FutureWarning: Default multi_class will be changed to 'auto' in 0.22. Specify the multi_class option to silence this warning.\n",
      "  \"this warning.\", FutureWarning)\n"
     ]
    },
    {
     "data": {
      "text/plain": [
       "0.30612244897959184"
      ]
     },
     "execution_count": 54,
     "metadata": {},
     "output_type": "execute_result"
    }
   ],
   "source": [
    "#2. Diviser le dataset entre training et test set\n",
    "X_train, X_test, y_train, y_test = train_test_split(X_bis, y_class, test_size=0.25, random_state=0)\n",
    "#4. Construire le modèle avec -> from sklearn.linear_model import LogisticRegression\n",
    "from sklearn.linear_model import LogisticRegression\n",
    "\n",
    "modele = LogisticRegression(solver='lbfgs')\n",
    "modele.fit(X_train, y_train)\n",
    "y_predict = modele.predict(X_test)\n",
    "#accuracy\n",
    "metrics.accuracy_score(y_test, y_predict)"
   ]
  },
  {
   "cell_type": "code",
   "execution_count": 55,
   "metadata": {},
   "outputs": [
    {
     "data": {
      "text/plain": [
       "array([[ 2,  0,  0,  0,  0,  0,  0,  0],\n",
       "       [ 1,  0,  2,  0,  2,  0,  1,  1],\n",
       "       [ 0,  0,  0,  0,  2,  0,  0,  0],\n",
       "       [ 0,  0,  1,  1,  1,  0,  0,  1],\n",
       "       [ 0,  0,  1,  0, 10,  0,  0,  0],\n",
       "       [ 0,  0,  0,  0,  4,  0,  1,  1],\n",
       "       [ 0,  0,  0,  0,  5,  0,  1,  5],\n",
       "       [ 0,  0,  0,  1,  2,  0,  2,  1]], dtype=int64)"
      ]
     },
     "execution_count": 55,
     "metadata": {},
     "output_type": "execute_result"
    }
   ],
   "source": [
    "from sklearn import metrics\n",
    "metrics.confusion_matrix(y_test, y_predict)"
   ]
  },
  {
   "cell_type": "markdown",
   "metadata": {},
   "source": [
    "### Essai avec les clusters k-means:"
   ]
  },
  {
   "cell_type": "code",
   "execution_count": 56,
   "metadata": {},
   "outputs": [
    {
     "name": "stderr",
     "output_type": "stream",
     "text": [
      "C:\\Users\\utilisateur\\Anaconda3\\lib\\site-packages\\sklearn\\linear_model\\logistic.py:460: FutureWarning: Default multi_class will be changed to 'auto' in 0.22. Specify the multi_class option to silence this warning.\n",
      "  \"this warning.\", FutureWarning)\n"
     ]
    },
    {
     "data": {
      "text/plain": [
       "0.6122448979591837"
      ]
     },
     "execution_count": 56,
     "metadata": {},
     "output_type": "execute_result"
    }
   ],
   "source": [
    "#2. Diviser le dataset entre training et test set\n",
    "X_train, X_test, y_train, y_test = train_test_split(X_bis, y_k, test_size=0.25, random_state=2)\n",
    "#K-means\n",
    "from sklearn.cluster import KMeans\n",
    "kmeans = KMeans(n_clusters=4, random_state=0).fit(y_train.reshape(-1, 1))\n",
    "y_train_k = kmeans.labels_.astype(np.int)\n",
    "y_test_k = kmeans.predict(y_test.reshape(-1, 1)).astype(np.int)\n",
    "#4. Construire le modèle avec -> from sklearn.linear_model import LogisticRegression\n",
    "from sklearn.linear_model import LogisticRegression\n",
    "\n",
    "modele = LogisticRegression(solver='lbfgs')\n",
    "modele.fit(X_train, y_train_k)\n",
    "y_predict = modele.predict(X_test)\n",
    "#accuracy\n",
    "metrics.accuracy_score(y_test_k, y_predict)"
   ]
  },
  {
   "cell_type": "code",
   "execution_count": 57,
   "metadata": {},
   "outputs": [
    {
     "data": {
      "text/plain": [
       "array([2, 2, 0, 2, 0, 2, 2, 0, 1, 2, 0, 2, 0, 2, 0, 2, 0, 0, 0, 2, 0, 0,\n",
       "       0, 0, 0, 2, 0, 2, 2, 0, 0, 2, 1, 2, 2, 2, 0, 2, 1, 1, 2, 2, 2, 2,\n",
       "       2, 2, 1, 0, 2, 0, 2, 0, 2, 0, 0, 1, 0, 0, 2, 0, 0, 0, 2, 0, 2, 2,\n",
       "       0, 0, 1, 2, 1, 0, 0, 2, 1, 2, 2, 0, 2, 0, 1, 0, 1, 0, 3, 2, 2, 1,\n",
       "       1, 0, 2, 0, 1, 3, 1, 2, 3, 0, 0, 0, 0, 2, 2, 1, 1, 2, 2, 2, 1, 0,\n",
       "       2, 0, 0, 3, 2, 0, 0, 2, 0, 1, 1, 0, 3, 2, 0, 2, 2, 2, 1, 0, 2, 2,\n",
       "       3, 0, 0, 0, 1, 0, 0, 2, 0, 0, 0, 1, 2, 2, 3])"
      ]
     },
     "execution_count": 57,
     "metadata": {},
     "output_type": "execute_result"
    }
   ],
   "source": [
    "y_train"
   ]
  },
  {
   "cell_type": "markdown",
   "metadata": {},
   "source": [
    "# elbow method"
   ]
  },
  {
   "cell_type": "code",
   "execution_count": 58,
   "metadata": {},
   "outputs": [
    {
     "name": "stderr",
     "output_type": "stream",
     "text": [
      "C:\\Users\\utilisateur\\Anaconda3\\lib\\site-packages\\sklearn\\cluster\\k_means_.py:971: ConvergenceWarning: Number of distinct clusters (4) found smaller than n_clusters (5). Possibly due to duplicate points in X.\n",
      "  return_n_iter=True)\n",
      "C:\\Users\\utilisateur\\Anaconda3\\lib\\site-packages\\sklearn\\cluster\\k_means_.py:971: ConvergenceWarning: Number of distinct clusters (4) found smaller than n_clusters (6). Possibly due to duplicate points in X.\n",
      "  return_n_iter=True)\n",
      "C:\\Users\\utilisateur\\Anaconda3\\lib\\site-packages\\sklearn\\cluster\\k_means_.py:971: ConvergenceWarning: Number of distinct clusters (4) found smaller than n_clusters (7). Possibly due to duplicate points in X.\n",
      "  return_n_iter=True)\n",
      "C:\\Users\\utilisateur\\Anaconda3\\lib\\site-packages\\sklearn\\cluster\\k_means_.py:971: ConvergenceWarning: Number of distinct clusters (4) found smaller than n_clusters (8). Possibly due to duplicate points in X.\n",
      "  return_n_iter=True)\n",
      "C:\\Users\\utilisateur\\Anaconda3\\lib\\site-packages\\sklearn\\cluster\\k_means_.py:971: ConvergenceWarning: Number of distinct clusters (4) found smaller than n_clusters (9). Possibly due to duplicate points in X.\n",
      "  return_n_iter=True)\n"
     ]
    },
    {
     "data": {
      "image/png": "[encoded data removed]",
      "text/plain": [
       "<Figure size 432x288 with 1 Axes>"
      ]
     },
     "metadata": {
      "needs_background": "light"
     },
     "output_type": "display_data"
    }
   ],
   "source": [
    "sse = {}\n",
    "for k in range(1, 10):\n",
    "    kmeans = KMeans(n_clusters=k,init = 'k-means++', max_iter=1000).fit(y_train.reshape(-1, 1))\n",
    "    sse[k] = kmeans.inertia_ # Inertia: Sum of distances of samples to their closest cluster center\n",
    "plt.figure()\n",
    "plt.plot(list(sse.keys()), list(sse.values()))\n",
    "plt.xlabel(\"Number of cluster\")\n",
    "plt.ylabel(\"SSE\")\n",
    "plt.show()"
   ]
  },
  {
   "cell_type": "code",
   "execution_count": 59,
   "metadata": {},
   "outputs": [
    {
     "data": {
      "text/plain": [
       "array([[ 8,  4,  0],\n",
       "       [ 4, 20,  0],\n",
       "       [ 6,  5,  2]], dtype=int64)"
      ]
     },
     "execution_count": 59,
     "metadata": {},
     "output_type": "execute_result"
    }
   ],
   "source": [
    "from sklearn import metrics\n",
    "metrics.confusion_matrix(y_test_k, y_predict)"
   ]
  },
  {
   "cell_type": "code",
   "execution_count": 60,
   "metadata": {},
   "outputs": [
    {
     "data": {
      "text/plain": [
       "array([2, 2, 2, 0, 0, 1, 1, 1, 0, 0, 1, 1, 2, 1, 0, 1, 0, 1, 2, 0, 0, 1,\n",
       "       1, 0, 0, 0, 1, 1, 1, 1, 2, 1, 0, 2, 1, 0, 2, 0, 2, 1, 1, 1, 0, 1,\n",
       "       1, 1, 1, 1, 0])"
      ]
     },
     "execution_count": 60,
     "metadata": {},
     "output_type": "execute_result"
    }
   ],
   "source": [
    "#2. Diviser le dataset entre training et test set\n",
    "X_train, X_test, y_train, y_test = train_test_split(X_bis, y_k, test_size=0.25, random_state=0)\n",
    "#K-means\n",
    "from sklearn.cluster import KMeans\n",
    "kmeans = KMeans(n_clusters=3, random_state=0).fit(y_train.reshape(-1, 1))\n",
    "y_train_k = kmeans.labels_.astype(np.int)\n",
    "y_test_k = kmeans.predict(y_test.reshape(-1, 1)).astype(np.int)\n",
    "y_test_k"
   ]
  },
  {
   "cell_type": "code",
   "execution_count": 72,
   "metadata": {},
   "outputs": [
    {
     "name": "stderr",
     "output_type": "stream",
     "text": [
      "C:\\Users\\utilisateur\\Anaconda3\\lib\\site-packages\\sklearn\\linear_model\\logistic.py:460: FutureWarning: Default multi_class will be changed to 'auto' in 0.22. Specify the multi_class option to silence this warning.\n",
      "  \"this warning.\", FutureWarning)\n",
      "C:\\Users\\utilisateur\\Anaconda3\\lib\\site-packages\\sklearn\\linear_model\\logistic.py:460: FutureWarning: Default multi_class will be changed to 'auto' in 0.22. Specify the multi_class option to silence this warning.\n",
      "  \"this warning.\", FutureWarning)\n",
      "C:\\Users\\utilisateur\\Anaconda3\\lib\\site-packages\\sklearn\\cluster\\k_means_.py:971: ConvergenceWarning: Number of distinct clusters (4) found smaller than n_clusters (5). Possibly due to duplicate points in X.\n",
      "  return_n_iter=True)\n",
      "C:\\Users\\utilisateur\\Anaconda3\\lib\\site-packages\\sklearn\\linear_model\\logistic.py:460: FutureWarning: Default multi_class will be changed to 'auto' in 0.22. Specify the multi_class option to silence this warning.\n",
      "  \"this warning.\", FutureWarning)\n",
      "C:\\Users\\utilisateur\\Anaconda3\\lib\\site-packages\\sklearn\\cluster\\k_means_.py:971: ConvergenceWarning: Number of distinct clusters (4) found smaller than n_clusters (6). Possibly due to duplicate points in X.\n",
      "  return_n_iter=True)\n",
      "C:\\Users\\utilisateur\\Anaconda3\\lib\\site-packages\\sklearn\\linear_model\\logistic.py:460: FutureWarning: Default multi_class will be changed to 'auto' in 0.22. Specify the multi_class option to silence this warning.\n",
      "  \"this warning.\", FutureWarning)\n",
      "C:\\Users\\utilisateur\\Anaconda3\\lib\\site-packages\\sklearn\\cluster\\k_means_.py:971: ConvergenceWarning: Number of distinct clusters (4) found smaller than n_clusters (7). Possibly due to duplicate points in X.\n",
      "  return_n_iter=True)\n",
      "C:\\Users\\utilisateur\\Anaconda3\\lib\\site-packages\\sklearn\\linear_model\\logistic.py:460: FutureWarning: Default multi_class will be changed to 'auto' in 0.22. Specify the multi_class option to silence this warning.\n",
      "  \"this warning.\", FutureWarning)\n",
      "C:\\Users\\utilisateur\\Anaconda3\\lib\\site-packages\\sklearn\\cluster\\k_means_.py:971: ConvergenceWarning: Number of distinct clusters (4) found smaller than n_clusters (8). Possibly due to duplicate points in X.\n",
      "  return_n_iter=True)\n",
      "C:\\Users\\utilisateur\\Anaconda3\\lib\\site-packages\\sklearn\\linear_model\\logistic.py:460: FutureWarning: Default multi_class will be changed to 'auto' in 0.22. Specify the multi_class option to silence this warning.\n",
      "  \"this warning.\", FutureWarning)\n",
      "C:\\Users\\utilisateur\\Anaconda3\\lib\\site-packages\\sklearn\\cluster\\k_means_.py:971: ConvergenceWarning: Number of distinct clusters (4) found smaller than n_clusters (9). Possibly due to duplicate points in X.\n",
      "  return_n_iter=True)\n",
      "C:\\Users\\utilisateur\\Anaconda3\\lib\\site-packages\\sklearn\\linear_model\\logistic.py:460: FutureWarning: Default multi_class will be changed to 'auto' in 0.22. Specify the multi_class option to silence this warning.\n",
      "  \"this warning.\", FutureWarning)\n"
     ]
    },
    {
     "data": {
      "text/plain": [
       "[<matplotlib.lines.Line2D at 0x1e4ea5d05c0>]"
      ]
     },
     "execution_count": 72,
     "metadata": {},
     "output_type": "execute_result"
    },
    {
     "data": {
      "image/png": "[encoded data removed]",
      "text/plain": [
       "<Figure size 432x288 with 1 Axes>"
      ]
     },
     "metadata": {
      "needs_background": "light"
     },
     "output_type": "display_data"
    }
   ],
   "source": [
    "#2. Diviser le dataset entre training et test set\n",
    "X_train, X_test, y_train, y_test = train_test_split(X_bis, y_k, test_size=0.25, random_state=0)\n",
    "#K-means\n",
    "cluster_number = list(range(2,10))\n",
    "accuracy = []\n",
    "for i in range(2,10):\n",
    "    from sklearn.cluster import KMeans\n",
    "    kmeans = KMeans(n_clusters=i, init = 'k-means++', max_iter=1000, random_state=0).fit(y_train.reshape(-1, 1))\n",
    "    y_train_k = kmeans.labels_.astype(np.int)\n",
    "    y_test_k = kmeans.predict(y_test.reshape(-1, 1)).astype(np.int)\n",
    "    #4. Construire le modèle avec -> from sklearn.linear_model import LogisticRegression\n",
    "    from sklearn.linear_model import LogisticRegression\n",
    "    \n",
    "    modele = LogisticRegression(solver='lbfgs')\n",
    "    modele.fit(X_train, y_train_k)\n",
    "    y_predict = modele.predict(X_test)\n",
    "    #accuracy\n",
    "    accuracy.append(metrics.accuracy_score(y_test_k, y_predict))\n",
    "    \n",
    "plt.plot(cluster_number,accuracy)"
   ]
  },
  {
   "cell_type": "code",
   "execution_count": null,
   "metadata": {},
   "outputs": [],
   "source": []
  },
  {
   "cell_type": "markdown",
   "metadata": {},
   "source": [
    "# modèle Kernel_RBF"
   ]
  },
  {
   "cell_type": "code",
   "execution_count": 67,
   "metadata": {},
   "outputs": [
    {
     "name": "stderr",
     "output_type": "stream",
     "text": [
      "C:\\Users\\utilisateur\\Anaconda3\\lib\\site-packages\\sklearn\\cluster\\k_means_.py:971: ConvergenceWarning: Number of distinct clusters (4) found smaller than n_clusters (5). Possibly due to duplicate points in X.\n",
      "  return_n_iter=True)\n"
     ]
    },
    {
     "data": {
      "text/plain": [
       "SVC(C=1.0, cache_size=200, class_weight=None, coef0=0.0,\n",
       "  decision_function_shape='ovr', degree=3, gamma='scale', kernel='rbf',\n",
       "  max_iter=-1, probability=False, random_state=None, shrinking=True,\n",
       "  tol=0.001, verbose=False)"
      ]
     },
     "execution_count": 67,
     "metadata": {},
     "output_type": "execute_result"
    }
   ],
   "source": [
    "#Construire le modèle SVM (SVC) avec kernel = rbf et gamma = scale\n",
    "\n",
    "from sklearn.svm import SVC\n",
    "from sklearn.cluster import KMeans\n",
    "kmeans = KMeans(n_clusters=5, init = 'k-means++', max_iter=1000, random_state=0).fit(y_train.reshape(-1, 1))\n",
    "y_train_k = kmeans.labels_.astype(np.int)\n",
    "y_test_k = kmeans.predict(y_test.reshape(-1, 1)).astype(np.int)\n",
    "modele = SVC(kernel='rbf',gamma = 'scale')\n",
    "#fit = train the model\n",
    "modele.fit(X_train, y_train_k)"
   ]
  },
  {
   "cell_type": "code",
   "execution_count": 68,
   "metadata": {},
   "outputs": [],
   "source": [
    "# Effectuer de nouvelles prédictions\n",
    "\n",
    "y_predicte = modele.predict(X_test)"
   ]
  },
  {
   "cell_type": "code",
   "execution_count": 69,
   "metadata": {},
   "outputs": [
    {
     "data": {
      "text/plain": [
       "array([2, 1, 2, 0, 1, 1, 1, 0, 0, 0, 1, 1, 1, 1, 1, 1, 0, 0, 2, 1, 0, 1,\n",
       "       1, 1, 0, 0, 1, 1, 1, 1, 0, 1, 0, 2, 1, 2, 1, 0, 1, 0, 1, 1, 0, 1,\n",
       "       0, 1, 0, 1, 0])"
      ]
     },
     "execution_count": 69,
     "metadata": {},
     "output_type": "execute_result"
    }
   ],
   "source": [
    "y_predicte"
   ]
  },
  {
   "cell_type": "code",
   "execution_count": 70,
   "metadata": {},
   "outputs": [
    {
     "data": {
      "text/plain": [
       "array([[11,  4,  1],\n",
       "       [ 5, 19,  0],\n",
       "       [ 1,  4,  4]], dtype=int64)"
      ]
     },
     "execution_count": 70,
     "metadata": {},
     "output_type": "execute_result"
    }
   ],
   "source": [
    "#matrice de confusion\n",
    "\n",
    "from sklearn import metrics\n",
    "metrics.confusion_matrix(y_test_k, y_predicte)"
   ]
  },
  {
   "cell_type": "code",
   "execution_count": 71,
   "metadata": {},
   "outputs": [
    {
     "data": {
      "text/plain": [
       "0.6938775510204082"
      ]
     },
     "execution_count": 71,
     "metadata": {},
     "output_type": "execute_result"
    }
   ],
   "source": [
    "metrics.accuracy_score(y_test_k, y_predicte)"
   ]
  },
  {
   "cell_type": "code",
   "execution_count": null,
   "metadata": {},
   "outputs": [],
   "source": []
  }
 ],
 "metadata": {
  "kernelspec": {
   "display_name": "Python 3",
   "language": "python",
   "name": "python3"
  },
  "language_info": {
   "codemirror_mode": {
    "name": "ipython",
    "version": 3
   },
   "file_extension": ".py",
   "mimetype": "text/x-python",
   "name": "python",
   "nbconvert_exporter": "python",
   "pygments_lexer": "ipython3",
   "version": "3.7.4"
  }
 },
 "nbformat": 4,
 "nbformat_minor": 2
}
