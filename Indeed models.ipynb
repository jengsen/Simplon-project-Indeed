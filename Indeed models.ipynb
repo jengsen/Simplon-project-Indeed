{
 "cells": [
  {
   "cell_type": "code",
   "execution_count": 24,
   "metadata": {},
   "outputs": [],
   "source": [
    "from PreprocessIndeed import PreprocessIndeed\n",
    "from MLIndeed import MLIndeed\n",
    "from sklearn.feature_extraction.text import CountVectorizer\n",
    "from sklearn.model_selection import train_test_split\n",
    "\n",
    "\n",
    "countVec_titre = CountVectorizer(ngram_range=(1, 2), min_df=.005, max_df=0.8)\n",
    "countVec_description = CountVectorizer(ngram_range=(1, 2), min_df=.02, max_df=0.8)\n",
    "preprocess = PreprocessIndeed('data/BDD_14_10_2019.json')\n",
    "\n",
    "preprocess.preprocess_df(countVec_titre, countVec_description, correlation_description=0.1, correlation_titre=0.1, save_name='10correlation')\n",
    "\n",
    "X_train, X_test, y_train, y_test = \\\n",
    "    train_test_split(preprocess.df.drop(['Salaire'], axis=1),\n",
    "                     preprocess.df['Salaire'],\n",
    "                     test_size=0.25, random_state=0)\n",
    "\n"
   ]
  },
  {
   "cell_type": "code",
   "execution_count": 25,
   "metadata": {},
   "outputs": [
    {
     "name": "stderr",
     "output_type": "stream",
     "text": [
      "D:\\Miniconda3\\envs\\machinelearning\\lib\\site-packages\\sklearn\\model_selection\\_split.py:1978: FutureWarning: The default value of cv will change from 3 to 5 in version 0.22. Specify it explicitly to silence this warning.\n",
      "  warnings.warn(CV_WARNING, FutureWarning)\n",
      "D:\\Miniconda3\\envs\\machinelearning\\lib\\site-packages\\sklearn\\linear_model\\logistic.py:432: FutureWarning: Default solver will be changed to 'lbfgs' in 0.22. Specify a solver to silence this warning.\n",
      "  FutureWarning)\n",
      "D:\\Miniconda3\\envs\\machinelearning\\lib\\site-packages\\sklearn\\linear_model\\logistic.py:469: FutureWarning: Default multi_class will be changed to 'auto' in 0.22. Specify the multi_class option to silence this warning.\n",
      "  \"this warning.\", FutureWarning)\n",
      "D:\\Miniconda3\\envs\\machinelearning\\lib\\site-packages\\sklearn\\model_selection\\_split.py:1978: FutureWarning: The default value of cv will change from 3 to 5 in version 0.22. Specify it explicitly to silence this warning.\n",
      "  warnings.warn(CV_WARNING, FutureWarning)\n",
      "D:\\Miniconda3\\envs\\machinelearning\\lib\\site-packages\\sklearn\\model_selection\\_split.py:1978: FutureWarning: The default value of cv will change from 3 to 5 in version 0.22. Specify it explicitly to silence this warning.\n",
      "  warnings.warn(CV_WARNING, FutureWarning)\n",
      "D:\\Miniconda3\\envs\\machinelearning\\lib\\site-packages\\sklearn\\model_selection\\_split.py:1978: FutureWarning: The default value of cv will change from 3 to 5 in version 0.22. Specify it explicitly to silence this warning.\n",
      "  warnings.warn(CV_WARNING, FutureWarning)\n",
      "D:\\Miniconda3\\envs\\machinelearning\\lib\\site-packages\\sklearn\\model_selection\\_split.py:1978: FutureWarning: The default value of cv will change from 3 to 5 in version 0.22. Specify it explicitly to silence this warning.\n",
      "  warnings.warn(CV_WARNING, FutureWarning)\n",
      "D:\\Miniconda3\\envs\\machinelearning\\lib\\site-packages\\sklearn\\model_selection\\_split.py:1978: FutureWarning: The default value of cv will change from 3 to 5 in version 0.22. Specify it explicitly to silence this warning.\n",
      "  warnings.warn(CV_WARNING, FutureWarning)\n"
     ]
    },
    {
     "name": "stdout",
     "output_type": "stream",
     "text": [
      "(2196, 137)\n",
      "{'Log reg': {'test_accuracy': 0.7741347905282332, 'train_accuracy': 0.8142076502732241}, 'SVM': {'test_accuracy': 0.7723132969034608, 'train_accuracy': 0.8348512446873103}, 'Random Forest': {'test_accuracy': 0.7085610200364298, 'train_accuracy': 0.7024893746205222}, 'Ada Boost': {'test_accuracy': 0.726775956284153, 'train_accuracy': 0.718882817243473}, 'Gradient Boost': {'test_accuracy': 0.8087431693989071, 'train_accuracy': 0.8785670916818458}, 'X Gradient Boost': {'test_accuracy': 0.7923497267759563, 'train_accuracy': 0.8391013964784456}}\n"
     ]
    }
   ],
   "source": [
    "params={'Log Reg': {'C': [0.01, 0.1, 1, 10]},\n",
    "        'SVM': {'kernel': ['rbf','linear'], 'C': [1, 10, 50, 100, 500], 'gamma': [0.1, 1]},\n",
    "        'Random Forest': {'n_estimators':  [10, 50, 100, 200], 'criterion': ['entropy', 'gini'],\n",
    "                          'max_depth': [2, 3, 5, 6], 'max_features': [2, 3, 5, 6]},\n",
    "        'Ada Boost': {'n_estimators':  [10, 50, 100, 200], 'learning_rate': [0.01, 0.1, 1]},\n",
    "        'Gradient Boost': {'n_estimators':  [10, 20, 30], 'learning_rate': [0.01, 0.1, 1],\n",
    "                           'max_depth': [2, 3, 4, 5]},\n",
    "        'X Gradient Boost': {'n_estimators':  [10, 20, 25], 'max_depth': [2, 3, 4, 5, 6]}}\n",
    "\n",
    "\n",
    "models = MLIndeed(X_train, X_test, y_train, y_test)\n",
    "models.best_models(params, 'accuracy')\n",
    "print(preprocess.df.shape)\n",
    "print(models.accuracy())\n",
    "models.save_models(save_name='all_features')"
   ]
  },
  {
   "cell_type": "code",
   "execution_count": 26,
   "metadata": {},
   "outputs": [
    {
     "name": "stdout",
     "output_type": "stream",
     "text": [
      "Log reg : \n",
      "[[ 29   1   0   0]\n",
      " [  7 270  52   4]\n",
      " [  3  40 117  14]\n",
      " [  0   0   3   9]]\n",
      "SVM : \n",
      "[[ 30   4   1   1]\n",
      " [  7 264  47   4]\n",
      " [  2  42 118  10]\n",
      " [  0   1   6  12]]\n",
      "Random Forest : \n",
      "[[ 26   0   0   0]\n",
      " [ 10 279  92  14]\n",
      " [  3  32  80   9]\n",
      " [  0   0   0   4]]\n",
      "Ada Boost : \n",
      "[[ 28   0   0   0]\n",
      " [  9 263  71   7]\n",
      " [  2  48 100  12]\n",
      " [  0   0   1   8]]\n",
      "Gradient Boost : \n",
      "[[ 30   0   0   0]\n",
      " [  6 274  43   2]\n",
      " [  2  37 129  14]\n",
      " [  1   0   0  11]]\n",
      "X Gradient Boost : \n",
      "[[ 29   0   1   0]\n",
      " [  7 274  46   3]\n",
      " [  2  37 124  16]\n",
      " [  1   0   1   8]]\n"
     ]
    }
   ],
   "source": [
    "from sklearn.metrics import confusion_matrix\n",
    "print('Log reg : \\n'+ str( confusion_matrix(models.bestModels['Log reg'].best_estimator_.predict(X_test),y_test)))\n",
    "print('SVM : \\n'+ str( confusion_matrix(models.bestModels['SVM'].best_estimator_.predict(X_test),y_test)))\n",
    "print('Random Forest : \\n'+ str( confusion_matrix(models.bestModels['Random Forest'].best_estimator_.predict(X_test),y_test)))\n",
    "print('Ada Boost : \\n'+ str( confusion_matrix(models.bestModels['Ada Boost'].best_estimator_.predict(X_test),y_test)))\n",
    "print('Gradient Boost : \\n'+ str( confusion_matrix(models.bestModels['Gradient Boost'].best_estimator_.predict(X_test),y_test)))\n",
    "print('X Gradient Boost : \\n'+ str( confusion_matrix(models.bestModels['X Gradient Boost'].best_estimator_.predict(X_test),y_test)))"
   ]
  },
  {
   "cell_type": "code",
   "execution_count": 27,
   "metadata": {},
   "outputs": [
    {
     "data": {
      "image/png": "[encoded data removed]",
      "text/plain": [
       "<Figure size 432x288 with 1 Axes>"
      ]
     },
     "metadata": {
      "needs_background": "light"
     },
     "output_type": "display_data"
    }
   ],
   "source": [
    "# plot accuracy test function of the overfit\n",
    "accuracy= models.accuracy()\n",
    "overfit = [accuracy[x]['train_accuracy'] - accuracy[x]['test_accuracy'] for x in accuracy]\n",
    "accuracy_test = [accuracy[x]['test_accuracy'] for x in accuracy]\n",
    "labels = [x for x in accuracy]\n",
    "\n",
    "fig, ax = plt.subplots()\n",
    "ax.scatter(overfit, accuracy_test)\n",
    "plt.xlabel('overfitting')\n",
    "plt.ylabel('test accuracy')\n",
    "\n",
    "for i, txt in enumerate(labels):\n",
    "    ax.annotate(txt, (overfit[i], accuracy_test[i]))"
   ]
  },
  {
   "cell_type": "markdown",
   "metadata": {},
   "source": [
    "# K-means"
   ]
  },
  {
   "cell_type": "code",
   "execution_count": 4,
   "metadata": {},
   "outputs": [],
   "source": [
    "from PreprocessIndeed import preprocess_salaires\n",
    "df = preprocess.data.loc[preprocess.data['Salaire'] != 'None', :]\n",
    "df = df.loc[df['Descriptif_du_poste'] != 'None', :]\n",
    "df = df.loc[df['Salaire'].apply(lambda x: 'semaine' not in x), :]\n",
    "df['Salaire'] = df['Salaire'].apply(preprocess_salaires)"
   ]
  },
  {
   "cell_type": "code",
   "execution_count": 8,
   "metadata": {},
   "outputs": [
    {
     "data": {
      "image/png": "[encoded data removed]",
      "text/plain": [
       "<Figure size 432x288 with 1 Axes>"
      ]
     },
     "metadata": {
      "needs_background": "light"
     },
     "output_type": "display_data"
    }
   ],
   "source": [
    "from sklearn.cluster import KMeans\n",
    "import numpy as np\n",
    "import matplotlib.pyplot as plt\n",
    "from scipy.spatial.distance import cdist\n",
    "distortions = []\n",
    "X=df['Salaire'].values.reshape(-1,1)\n",
    "K = range(1,10)\n",
    "for k in K:\n",
    "    kmeanModel = KMeans(n_clusters=k, init='k-means++', random_state=0)\n",
    "    kmeanModel.fit(X)\n",
    "    distortions.append(sum(np.min(cdist(X, kmeanModel.cluster_centers_, 'euclidean'), axis=1)) / X.shape[0])\n",
    "\n",
    "# Plot the elbow\n",
    "plt.plot(K, distortions, 'bx-')\n",
    "plt.xlabel('k')\n",
    "plt.ylabel('Distortion')\n",
    "plt.title('The Elbow Method showing the optimal k')\n",
    "plt.figure(1, figsize=(10, 6))\n",
    "plt.show()"
   ]
  },
  {
   "cell_type": "code",
   "execution_count": null,
   "metadata": {},
   "outputs": [],
   "source": [
    "kmeanModel = KMeans(n_clusters=4, random_state=0 )\n",
    "kmeanModel.fit(X)\n",
    "kmeanModel.cluster_centers_"
   ]
  },
  {
   "cell_type": "code",
   "execution_count": null,
   "metadata": {},
   "outputs": [],
   "source": [
    "print((12171.94444444+36557.32519616)/2)\n",
    "print((36557.32519616+51244.98018494)/2)\n",
    "print((51244.98018494+83879.94196429)/2)"
   ]
  },
  {
   "cell_type": "code",
   "execution_count": null,
   "metadata": {},
   "outputs": [],
   "source": [
    "# save the df preprocessed\n",
    "preprocess.df.to_csv('dataframes/preprocessed_all_features.csv')"
   ]
  },
  {
   "cell_type": "markdown",
   "metadata": {},
   "source": [
    "# Clean features"
   ]
  },
  {
   "cell_type": "code",
   "execution_count": 28,
   "metadata": {},
   "outputs": [
    {
     "name": "stdout",
     "output_type": "stream",
     "text": [
      "Ville_Banlieue_de_Bordeaux\n",
      "Ville_Banlieue_de_Lyon\n",
      "Ville_Banlieue_de_Nantes\n",
      "Ville_Banlieue_de_Paris\n",
      "Ville_Banlieue_de_Toulouse\n",
      "Ville_Bordeaux\n",
      "Ville_Lyon\n",
      "Ville_Nantes\n",
      "Ville_Paris\n",
      "Ville_Toulouse\n",
      "Titre_chef_projet\n",
      "Titre_data\n",
      "Titre_data_scientist\n",
      "Titre_developpeur_web\n",
      "Titre_directeur\n",
      "Titre_freelance\n",
      "Titre_junior\n",
      "Titre_lead_data\n",
      "Titre_marketing\n",
      "Titre_mois\n",
      "Titre_projet\n",
      "Titre_ref\n",
      "Titre_scientist\n",
      "Titre_senior\n",
      "Titre_stage\n",
      "Titre_stage_chef\n",
      "Titre_stage_developpeur\n",
      "Titre_stagiaire\n",
      "Titre_web\n",
      "Description_alternance\n",
      "Description_an\n",
      "Description_an_souhaite\n",
      "Description_ans_experience\n",
      "Description_ans_paris\n",
      "Description_apprentissage\n",
      "Description_architecture\n",
      "Description_aws\n",
      "Description_bac\n",
      "Description_bac_bac\n",
      "Description_bac_bts\n",
      "Description_bac_minimum\n",
      "Description_backend\n",
      "Description_backend_developer\n",
      "Description_bonnes_pratiques\n",
      "Description_brut\n",
      "Description_bts\n",
      "Description_bts_dut\n",
      "Description_capacite_travailler\n",
      "Description_cdd\n",
      "Description_cdi_environ\n",
      "Description_commerce\n",
      "Description_confirme\n",
      "Description_css\n",
      "Description_cto\n",
      "Description_curieux\n",
      "Description_data\n",
      "Description_data_scientist\n",
      "Description_data_scientists\n",
      "Description_debut\n",
      "Description_deug\n",
      "Description_developer\n",
      "Description_developer_backend\n",
      "Description_developer_cdi\n",
      "Description_developpement_informatique\n",
      "Description_duree\n",
      "Description_dut\n",
      "Description_dut_deug\n",
      "Description_ecole_commerce\n",
      "Description_embauche\n",
      "Description_emploi\n",
      "Description_emploi_stage\n",
      "Description_emploi_temps\n",
      "Description_environ\n",
      "Description_environ_ans\n",
      "Description_etude\n",
      "Description_excel\n",
      "Description_fin\n",
      "Description_formation\n",
      "Description_formation_bac\n",
      "Description_fr\n",
      "Description_frontend\n",
      "Description_grand\n",
      "Description_html\n",
      "Description_html_css\n",
      "Description_http\n",
      "Description_immobilier\n",
      "Description_industrialisation\n",
      "Description_informations\n",
      "Description_informatique\n",
      "Description_lead\n",
      "Description_lead_developer\n",
      "Description_learning\n",
      "Description_licence\n",
      "Description_machine\n",
      "Description_machine_learning\n",
      "Description_missions\n",
      "Description_mois\n",
      "Description_mois_experience\n",
      "Description_paris_poste\n",
      "Description_pourquoi\n",
      "Description_pourquoi_venir\n",
      "Description_pourvoir\n",
      "Description_pratiques\n",
      "Description_profil\n",
      "Description_recruter\n",
      "Description_remboursement\n",
      "Description_renforce\n",
      "Description_responsabilites\n",
      "Description_rigoureux\n",
      "Description_salaire\n",
      "Description_salaire_mois\n",
      "Description_scientist\n",
      "Description_scientists\n",
      "Description_similaire\n",
      "Description_similaire_an\n",
      "Description_site\n",
      "Description_solide\n",
      "Description_souhaite\n",
      "Description_spark\n",
      "Description_specialisee\n",
      "Description_stack\n",
      "Description_stack_developer\n",
      "Description_stage\n",
      "Description_stage_salaire\n",
      "Description_tdd\n",
      "Description_temps\n",
      "Description_temps_plein\n",
      "Description_transport\n",
      "Description_type\n",
      "Description_type_contrat\n",
      "Description_type_emploi\n",
      "Description_variees\n",
      "Description_venir\n",
      "Description_venir_chez\n",
      "Description_web\n",
      "Description_wordpress\n"
     ]
    }
   ],
   "source": [
    "df = preprocess.df.copy()\n",
    "for i in X_test.columns:\n",
    "    print(i)"
   ]
  },
  {
   "cell_type": "code",
   "execution_count": 29,
   "metadata": {},
   "outputs": [
    {
     "data": {
      "text/plain": [
       "(2196, 44)"
      ]
     },
     "execution_count": 29,
     "metadata": {},
     "output_type": "execute_result"
    }
   ],
   "source": [
    "df = preprocess.df.copy()\n",
    "# regroupements\n",
    "df['Titre_stage']=df['Titre_stage'] + df['Titre_stage_chef'] + df['Titre_stage_developpeur'] + df['Titre_stagiaire']\n",
    "df['Titre_stage']=df['Titre_stage'].apply(lambda x : 1 if x>=1 else 0)\n",
    "                        \n",
    "df['Description_bac']= df['Description_bac'] + df['Description_bac_bac'] + df['Description_bac_bts'] + df['Description_bac_minimum'] + df['Description_formation_bac']\n",
    "df['Description_bac']=df['Description_bac'].apply(lambda x : 1 if x>=1 else 0)\n",
    "\n",
    "df['Description_backend']= df['Description_backend'] + df['Description_backend_developer'] + df['Description_developer_backend']\n",
    "df['Description_backend']=df['Description_backend'].apply(lambda x : 1 if x>=1 else 0)\n",
    "\n",
    "df['Description_bts'] = df['Description_bts'] + df['Description_bts_dut']\n",
    "df['Description_bts']=df['Description_bts'].apply(lambda x : 1 if x>=1 else 0)\n",
    "\n",
    "df['Description_data_scientist'] = df['Description_data_scientist'] + df['Description_data_scientists']\n",
    "df['Description_data_scientist']=df['Description_data_scientist'].apply(lambda x : 1 if x>=1 else 0)\n",
    "\n",
    "df['Description_dut'] = df['Description_dut'] + df['Description_dut_deug']\n",
    "df['Description_dut']=df['Description_dut'].apply(lambda x : 1 if x>=1 else 0)\n",
    "\n",
    "df['Description_html_css'] = df['Description_css'] + df['Description_html'] + df['Description_html_css']\n",
    "df['Description_html_css']=df['Description_html_css'].apply(lambda x : 1 if x>=1 else 0)\n",
    "\n",
    "df['Description_lead'] = df['Description_lead'] + df['Description_lead_developer']\n",
    "df['Description_lead']=df['Description_lead'].apply(lambda x : 1 if x>=1 else 0)\n",
    "\n",
    "df['Description_stage'] = df['Description_stage'] + df['Description_stage_salaire']\n",
    "df['Description_stage']=df['Description_stage'].apply(lambda x : 1 if x>=1 else 0)\n",
    "\n",
    "# supprime ce qu'on a regroupé et ce qui n'est pas censé avoir de l'impact\n",
    "df = df.drop(['Titre_mois', 'Titre_ref', 'Titre_scientist', 'Titre_stage_chef', 'Titre_stage_developpeur', 'Titre_stagiaire', \n",
    "              'Titre_projet', 'Description_an','Description_an_souhaite', 'Description_ans_experience',\n",
    "              'Description_ans_paris', 'Description_apprentissage', 'Description_bac_bac', 'Description_bac_bts',\n",
    "              'Description_bac_minimum', 'Description_backend_developer', 'Description_bonnes_pratiques','Description_brut', 'Description_bts_dut', \n",
    "              'Description_capacite_travailler', 'Description_cdd', 'Description_cdi_environ', 'Description_commerce', \n",
    "              'Description_css', 'Description_cto', 'Description_curieux', 'Description_data_scientists', 'Description_debut',\n",
    "              'Description_deug', 'Description_developer_cdi', 'Description_developer_backend', 'Description_developer_cdi', \n",
    "              'Description_developpement_informatique', 'Description_duree', 'Description_dut_deug', 'Description_embauche', \n",
    "              'Description_emploi', 'Description_emploi_stage', 'Description_emploi_temps', 'Description_environ',\n",
    "              'Description_etude', 'Description_environ_ans', 'Description_excel', 'Description_fin', 'Description_formation',\n",
    "              'Description_formation_bac', 'Description_fr', 'Description_grand', 'Description_html', 'Description_http',\n",
    "              'Description_immobilier', 'Description_industrialisation', 'Description_informations', 'Description_informatique',\n",
    "              'Description_lead_developer', 'Description_learning', 'Description_machine', 'Description_missions',\n",
    "              'Description_mois', 'Description_mois_experience', 'Description_paris_poste', 'Description_pourquoi',\n",
    "              'Description_pourquoi_venir', 'Description_pourvoir', 'Description_pratiques', 'Description_profil', \n",
    "              'Description_recruter', 'Description_remboursement', 'Description_renforce', 'Description_rigoureux',\n",
    "              'Description_salaire', 'Description_salaire_mois', 'Description_scientist', 'Description_scientists',\n",
    "              'Description_similaire', 'Description_similaire_an', 'Description_site', 'Description_solide', \n",
    "              'Description_souhaite', 'Description_specialisee', 'Description_stack', 'Description_stack_developer',\n",
    "              'Description_stage_salaire', 'Description_tdd', 'Description_temps', 'Description_temps_plein',\n",
    "              'Description_transport', 'Description_type', 'Description_type_contrat', 'Description_type_emploi',\n",
    "              'Description_variees', 'Description_venir', 'Description_venir_chez', 'Description_wordpress'], axis=1 )\n",
    "df.shape"
   ]
  },
  {
   "cell_type": "code",
   "execution_count": 30,
   "metadata": {},
   "outputs": [
    {
     "name": "stdout",
     "output_type": "stream",
     "text": [
      "Salaire\n",
      "Ville_Banlieue_de_Bordeaux\n",
      "Ville_Banlieue_de_Lyon\n",
      "Ville_Banlieue_de_Nantes\n",
      "Ville_Banlieue_de_Paris\n",
      "Ville_Banlieue_de_Toulouse\n",
      "Ville_Bordeaux\n",
      "Ville_Lyon\n",
      "Ville_Nantes\n",
      "Ville_Paris\n",
      "Ville_Toulouse\n",
      "Titre_chef_projet\n",
      "Titre_data\n",
      "Titre_data_scientist\n",
      "Titre_developpeur_web\n",
      "Titre_directeur\n",
      "Titre_freelance\n",
      "Titre_junior\n",
      "Titre_lead_data\n",
      "Titre_marketing\n",
      "Titre_senior\n",
      "Titre_stage\n",
      "Titre_web\n",
      "Description_alternance\n",
      "Description_architecture\n",
      "Description_aws\n",
      "Description_bac\n",
      "Description_backend\n",
      "Description_bts\n",
      "Description_confirme\n",
      "Description_data\n",
      "Description_data_scientist\n",
      "Description_developer\n",
      "Description_dut\n",
      "Description_ecole_commerce\n",
      "Description_frontend\n",
      "Description_html_css\n",
      "Description_lead\n",
      "Description_licence\n",
      "Description_machine_learning\n",
      "Description_responsabilites\n",
      "Description_spark\n",
      "Description_stage\n",
      "Description_web\n"
     ]
    }
   ],
   "source": [
    "# kept features:\n",
    "for i in df.columns:\n",
    "    print(i)"
   ]
  },
  {
   "cell_type": "code",
   "execution_count": null,
   "metadata": {},
   "outputs": [
    {
     "name": "stderr",
     "output_type": "stream",
     "text": [
      "D:\\Miniconda3\\envs\\machinelearning\\lib\\site-packages\\sklearn\\model_selection\\_split.py:1978: FutureWarning: The default value of cv will change from 3 to 5 in version 0.22. Specify it explicitly to silence this warning.\n",
      "  warnings.warn(CV_WARNING, FutureWarning)\n",
      "D:\\Miniconda3\\envs\\machinelearning\\lib\\site-packages\\sklearn\\linear_model\\logistic.py:432: FutureWarning: Default solver will be changed to 'lbfgs' in 0.22. Specify a solver to silence this warning.\n",
      "  FutureWarning)\n",
      "D:\\Miniconda3\\envs\\machinelearning\\lib\\site-packages\\sklearn\\linear_model\\logistic.py:469: FutureWarning: Default multi_class will be changed to 'auto' in 0.22. Specify the multi_class option to silence this warning.\n",
      "  \"this warning.\", FutureWarning)\n",
      "D:\\Miniconda3\\envs\\machinelearning\\lib\\site-packages\\sklearn\\model_selection\\_split.py:1978: FutureWarning: The default value of cv will change from 3 to 5 in version 0.22. Specify it explicitly to silence this warning.\n",
      "  warnings.warn(CV_WARNING, FutureWarning)\n",
      "D:\\Miniconda3\\envs\\machinelearning\\lib\\site-packages\\sklearn\\model_selection\\_split.py:1978: FutureWarning: The default value of cv will change from 3 to 5 in version 0.22. Specify it explicitly to silence this warning.\n",
      "  warnings.warn(CV_WARNING, FutureWarning)\n",
      "D:\\Miniconda3\\envs\\machinelearning\\lib\\site-packages\\sklearn\\model_selection\\_split.py:1978: FutureWarning: The default value of cv will change from 3 to 5 in version 0.22. Specify it explicitly to silence this warning.\n",
      "  warnings.warn(CV_WARNING, FutureWarning)\n",
      "D:\\Miniconda3\\envs\\machinelearning\\lib\\site-packages\\sklearn\\model_selection\\_split.py:1978: FutureWarning: The default value of cv will change from 3 to 5 in version 0.22. Specify it explicitly to silence this warning.\n",
      "  warnings.warn(CV_WARNING, FutureWarning)\n",
      "D:\\Miniconda3\\envs\\machinelearning\\lib\\site-packages\\sklearn\\model_selection\\_split.py:1978: FutureWarning: The default value of cv will change from 3 to 5 in version 0.22. Specify it explicitly to silence this warning.\n",
      "  warnings.warn(CV_WARNING, FutureWarning)\n"
     ]
    }
   ],
   "source": [
    "X_train, X_test, y_train, y_test = \\\n",
    "    train_test_split(df.drop(['Salaire'], axis=1),\n",
    "                     df['Salaire'],\n",
    "                     test_size=0.25, random_state=0)\n",
    "params={'Log Reg': {'C': [0.01, 0.1, 1, 10]},\n",
    "        'SVM': {'kernel': ['rbf','linear'], 'C': [1, 10, 50, 100], 'gamma': [0.01, 0.1, 1]},\n",
    "        'Random Forest': {'n_estimators':  [10, 50, 100, 200], 'criterion': ['entropy', 'gini'],\n",
    "                          'max_depth': [2, 3, 5, 7, 10], 'max_features': [2, 3, 5, 7, 10]},\n",
    "        'Ada Boost': {'n_estimators':  [10, 50, 100, 200], 'learning_rate': [0.1, 1]},\n",
    "        'Gradient Boost': {'n_estimators':  [10, 20, 25], 'learning_rate': [0.1, 1],\n",
    "                           'max_depth': [2, 3, 4, 5]},\n",
    "        'X Gradient Boost': {'n_estimators':  [10, 20, 25], 'max_depth': [2, 3, 4, 5, 6]}}\n",
    "\n",
    "\n",
    "models2 = MLIndeed(X_train, X_test, y_train, y_test)\n",
    "models2.best_models(params, 'accuracy')\n",
    "print(df.shape)\n",
    "models2.accuracy()"
   ]
  },
  {
   "cell_type": "code",
   "execution_count": null,
   "metadata": {},
   "outputs": [],
   "source": [
    "#confusion matrix\n",
    "print('Log reg : \\n'+ str( confusion_matrix(models2.bestModels['Log reg'].best_estimator_.predict(X_test),y_test)))\n",
    "print('SVM : \\n'+ str( confusion_matrix(models2.bestModels['SVM'].best_estimator_.predict(X_test),y_test)))\n",
    "print('Random Forest : \\n'+ str( confusion_matrix(models2.bestModels['Random Forest'].best_estimator_.predict(X_test),y_test)))\n",
    "print('Ada Boost : \\n'+ str( confusion_matrix(models2.bestModels['Ada Boost'].best_estimator_.predict(X_test),y_test)))\n",
    "print('Gradient Boost : \\n'+ str( confusion_matrix(models2.bestModels['Gradient Boost'].best_estimator_.predict(X_test),y_test)))\n",
    "print('X Gradient Boost : \\n'+ str( confusion_matrix(models2.bestModels['X Gradient Boost'].best_estimator_.predict(X_test),y_test)))"
   ]
  },
  {
   "cell_type": "code",
   "execution_count": null,
   "metadata": {},
   "outputs": [],
   "source": [
    "# serialize models to be used for predictions\n",
    "models.save_models(save_name='main_features')"
   ]
  },
  {
   "cell_type": "code",
   "execution_count": null,
   "metadata": {},
   "outputs": [],
   "source": [
    "# save the preprocessed df \n",
    "df.to_csv('dataframes/preprocessed_main_features.csv')"
   ]
  },
  {
   "cell_type": "code",
   "execution_count": null,
   "metadata": {},
   "outputs": [],
   "source": [
    "# plot accuracy test function of the overfit\n",
    "accuracy= models2.accuracy()\n",
    "overfit = [accuracy[x]['train_accuracy'] - accuracy[x]['test_accuracy'] for x in accuracy]\n",
    "accuracy_test = [accuracy[x]['test_accuracy'] for x in accuracy]\n",
    "labels = [x for x in accuracy]\n",
    "\n",
    "fig, ax = plt.subplots()\n",
    "ax.scatter(overfit, accuracy_test)\n",
    "plt.xlabel('overfitting')\n",
    "plt.ylabel('test accuracy')\n",
    "\n",
    "for i, txt in enumerate(labels):\n",
    "    ax.annotate(txt, (overfit[i], accuracy_test[i]))"
   ]
  },
  {
   "cell_type": "markdown",
   "metadata": {},
   "source": [
    "# PCA"
   ]
  },
  {
   "cell_type": "code",
   "execution_count": null,
   "metadata": {},
   "outputs": [],
   "source": [
    "from sklearn.decomposition import PCA\n",
    "pca = PCA(n_components=2)\n",
    "pca.fit(X_train)\n",
    "X_train_trans=pca.transform(X_train)\n",
    "X_test_trans = pca.transform(X_test)\n",
    "pca.explained_variance_ratio_"
   ]
  },
  {
   "cell_type": "code",
   "execution_count": null,
   "metadata": {},
   "outputs": [],
   "source": [
    "import matplotlib.pyplot as plt\n",
    "from matplotlib.colors import ListedColormap \n",
    "\n",
    "def color_map_function(X_test,y_test,pca,classifier,title):\n",
    "    colors = ('red', 'blue')\n",
    "    cmap = ListedColormap(colors)\n",
    "\n",
    "    X_set, y_set = pca.transform(X_test), y_test\n",
    "    X1, X2 = np.meshgrid(np.arange(start = X_set[:, 0].min() - abs(X_set[:, 0].min()*0.05), stop = X_set[:, 0].max() + abs(X_set[:, 0].max()*0.05), step = ((X_set[:, 0].max() + abs(X_set[:, 0].max()*0.05))-(X_set[:, 0].min() - abs(X_set[:, 0].min()*0.05)))/500),\n",
    "                         np.arange(start = X_set[:, 1].min() - abs(X_set[:, 1].min()*0.05), stop = X_set[:, 1].max() + abs(X_set[:, 1].max()*0.05), step = ((X_set[:, 1].max() + abs(X_set[:, 1].max()*0.05))-(X_set[:, 1].min() - abs(X_set[:, 1].min()*0.05)))/500))\n",
    "\n",
    "    X=np.append(X1.reshape(-1,1),X2.reshape(-1,1),axis=1)\n",
    "    X_scaled=scaler.transform(X)\n",
    "    plt.contourf(X1, X2, classifier.predict(X).reshape(X1.shape),\n",
    "                 alpha = 0.4, cmap = ListedColormap(('red', 'green')))\n",
    "    plt.xlim(X1.min(), X1.max())\n",
    "    plt.ylim(X2.min(), X2.max())\n",
    "    for i, j in enumerate(np.unique(y_set)):\n",
    "        plt.scatter(X_set[(y_set == j).ravel(), 0], X_set[(y_set == j).ravel(), 1],\n",
    "                    c = ListedColormap(('red', 'green'))(i), label = j)\n",
    "    plt.title('Resultats du Test '+ title)\n",
    "    plt.xlabel('Age')\n",
    "    plt.ylabel('Salaire Estimé')\n",
    "    plt.legend()\n",
    "    plt.show()\n",
    "    "
   ]
  },
  {
   "cell_type": "code",
   "execution_count": null,
   "metadata": {},
   "outputs": [],
   "source": [
    "import numpy as np\n",
    "colormap = np.array(['r', 'g', 'blue', 'black'])\n",
    "y_predict=models.bestModels['Random Forest'].best_estimator_.predict(X_test)\n",
    "plt.scatter(X_test_trans[:,0], X_test_trans[:,1], c=colormap[y_test])\n",
    "plt.xlim(-3,5)\n",
    "plt.rcParams['figure.figsize'] = (20,10)\n",
    "plt.xlabel('PC1')\n",
    "plt.ylabel('PC2')\n",
    "plt.legend()\n",
    "plt.show()"
   ]
  },
  {
   "cell_type": "code",
   "execution_count": null,
   "metadata": {},
   "outputs": [],
   "source": [
    "well_predicted = (models.bestModels['Random Forest'].best_estimator_.predict(X_test) == y_test)\n",
    "plt.scatter(X_test_trans[:,0], X_test_trans[:,1],c=well_predicted)\n",
    "plt.xlim(-3,5)\n",
    "plt.rcParams['figure.figsize'] = (20,10)\n",
    "plt.xlabel('PC1')\n",
    "plt.ylabel('PC2')\n",
    "plt.legend()\n",
    "plt.show()"
   ]
  },
  {
   "cell_type": "markdown",
   "metadata": {},
   "source": [
    "# Predictions"
   ]
  },
  {
   "cell_type": "code",
   "execution_count": 1,
   "metadata": {},
   "outputs": [],
   "source": [
    "from PreprocessClient import PreprocessClient\n",
    "\n",
    "preprocessClient = PreprocessClient('data/BDD_14_10_2019.json')\n",
    "preprocessClient.preprocess_main_features('10correlation')"
   ]
  },
  {
   "cell_type": "code",
   "execution_count": 12,
   "metadata": {},
   "outputs": [],
   "source": [
    "import pickle\n",
    "\n",
    "# main features\n",
    "for model in ['Log Reg', 'SVM', 'Random Forest', 'Ada Boost', 'Gradient Boost', 'X Gradient Boost'] :\n",
    "    tojson = preprocessClient.data.copy()\n",
    "    tojson = tojson.loc[tojson['Salaire'] == 'None', :]\n",
    "    tojson = tojson.loc[tojson['Descriptif_du_poste'] != 'None', :]\n",
    "    bestEstimator = pickle.load(open('data/main_features_' + model, 'rb'))\n",
    "    y_pred=bestEstimator.predict(preprocessClient.df.drop(['Salaire'], axis=1))\n",
    "    tojson['Salaire']=y_pred\n",
    "    tojson.to_json('dataframes/main_features_' + model + '.json')\n",
    "    \n",
    "    \n",
    "        "
   ]
  },
  {
   "cell_type": "code",
   "execution_count": 1,
   "metadata": {},
   "outputs": [],
   "source": [
    "from PreprocessClient import PreprocessClient\n",
    "import pickle\n",
    "# all features\n",
    "preprocessClient = PreprocessClient('data/BDD_14_10_2019.json')\n",
    "preprocessClient.preprocess_all_features('10correlation')\n",
    "for model in ['Log Reg', 'SVM', 'Random Forest', 'Ada Boost', 'Gradient Boost', 'X Gradient Boost'] :\n",
    "    tojson = preprocessClient.data.copy()\n",
    "    tojson = tojson.loc[tojson['Salaire'] == 'None', :]\n",
    "    tojson = tojson.loc[tojson['Descriptif_du_poste'] != 'None', :]\n",
    "    bestEstimator = pickle.load(open('data/all_features_' + model, 'rb'))\n",
    "    y_pred=bestEstimator.predict(preprocessClient.df.drop(['Salaire'], axis=1))\n",
    "    tojson['Salaire']=y_pred\n",
    "    tojson.to_json('dataframes/all_features_' + model + '.json')\n"
   ]
  }
 ],
 "metadata": {
  "kernelspec": {
   "display_name": "Python 3",
   "language": "python",
   "name": "python3"
  },
  "language_info": {
   "codemirror_mode": {
    "name": "ipython",
    "version": 3
   },
   "file_extension": ".py",
   "mimetype": "text/x-python",
   "name": "python",
   "nbconvert_exporter": "python",
   "pygments_lexer": "ipython3",
   "version": "3.7.4"
  }
 },
 "nbformat": 4,
 "nbformat_minor": 2
}
