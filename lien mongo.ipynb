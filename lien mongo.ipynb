{
 "cells": [
  {
   "cell_type": "code",
   "execution_count": 1,
   "metadata": {},
   "outputs": [],
   "source": [
    "import pymongo\n",
    "from pymongo import MongoClient"
   ]
  },
  {
   "cell_type": "code",
   "execution_count": 2,
   "metadata": {},
   "outputs": [],
   "source": [
    "client = MongoClient('localhost', 27017)\n",
    "db = client['Simplon_Indeed']\n",
    "collection=db['job_offers']"
   ]
  },
  {
   "cell_type": "code",
   "execution_count": 13,
   "metadata": {},
   "outputs": [
    {
     "data": {
      "text/plain": [
       "<pymongo.results.InsertOneResult at 0x1b0b8a7ec48>"
      ]
     },
     "execution_count": 13,
     "metadata": {},
     "output_type": "execute_result"
    }
   ],
   "source": [
    "w={\"Titre\" : 'title',\"Entreprise\" : 'boite',\"Ville\" : 'city',\"Salaire\": 'salary', \"Type de contrat\" : 'contrat', \"Descriptif du poste\" : 'describe', \"Date de publication\" : 'publish_date'}\n",
    "collection.insert_one(w)"
   ]
  },
  {
   "cell_type": "code",
   "execution_count": 17,
   "metadata": {},
   "outputs": [
    {
     "name": "stdout",
     "output_type": "stream",
     "text": [
      "{'_id': ObjectId('5d9321c81fcab42d05a9b878'), 'Titre': 'title', 'Entreprise': 'boite', 'Ville': 'city', 'Salaire': 'salary', 'Type de contrat': 'contrat', 'Descriptif du poste': 'describe', 'Date de publication': 'publish_date'}\n"
     ]
    },
    {
     "data": {
      "text/plain": [
       "True"
      ]
     },
     "execution_count": 17,
     "metadata": {},
     "output_type": "execute_result"
    }
   ],
   "source": [
    "#vérif doublons\n",
    "# doublon\n",
    "print(collection.find_one(w))\n",
    "# pas doublon\n",
    "collection.find_one({\"Titre\" : 'tit'})==None"
   ]
  },
  {
   "cell_type": "code",
   "execution_count": null,
   "metadata": {},
   "outputs": [],
   "source": [
    "# traduire en date\n",
    "test_dates=['il y a 12 jours','il y a 30+ jours','il y a 17 heures','il y a 6 mois']\n",
    "def get_date(date):\n",
    "    \n",
    "    "
   ]
  }
 ],
 "metadata": {
  "kernelspec": {
   "display_name": "Python 3",
   "language": "python",
   "name": "python3"
  },
  "language_info": {
   "codemirror_mode": {
    "name": "ipython",
    "version": 3
   },
   "file_extension": ".py",
   "mimetype": "text/x-python",
   "name": "python",
   "nbconvert_exporter": "python",
   "pygments_lexer": "ipython3",
   "version": "3.7.4"
  }
 },
 "nbformat": 4,
 "nbformat_minor": 2
}
